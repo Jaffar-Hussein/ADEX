{
 "cells": [
  {
   "cell_type": "markdown",
   "metadata": {},
   "source": [
    "# **Izhikevich Simple Neuron Model**"
   ]
  },
  {
   "cell_type": "markdown",
   "metadata": {},
   "source": [
    "*This model we consider having two variables the normal voltage dv and we add the recovery variable du which all change in respect to time*  \n",
    "*The values below for a,b,c and d are for excitory and inhiborty neurones bu we will deal with excitory the others will be commented*  \n",
    "*The values are from Izhikevich paper in 2003*"
   ]
  },
  {
   "cell_type": "markdown",
   "metadata": {},
   "source": [
    ">$dv/dt = 0.04v^2 + 5v +140 - u + I$  \n",
    ">$du/dt = a(bv-u)$\n",
    "> "
   ]
  },
  {
   "cell_type": "code",
   "execution_count": 18,
   "metadata": {},
   "outputs": [],
   "source": [
    "import matplotlib.pyplot as plt\n",
    "# Represents the membrane potential of the neurone\n",
    "voltage = - 10\n",
    "# the change in time we are dividing a second into a 100 steps\n",
    "dt = 1.0/200\n",
    "# The resting membrane potentiel\n",
    "v_o = -70\n",
    "# The time we are going to start the simulation \n",
    "t = 0\n",
    "# The values of the voltage that changes are stored in a list for easy plotting\n",
    "voltages = []\n",
    "# Spike times are also counted\n",
    "spike_times = []\n",
    "# Threshold value - an abitary value for the voltage when achieved a spike is recorded\n",
    "thresh = +30\n",
    "# Membrane recovery variable which is the inactivatiooon of the Na+ ionic currents and the activation of K+.Gives a negative feedback to v\n",
    "u = 0\n",
    "# The parametres \n",
    "# Theparameter describes the time scale of the recovery variable\n",
    "a = 0.02\n",
    "# a = 0.1\n",
    "# represents the sensitivity of the recovery variable to the subthreshold fluctuation of the membrane\n",
    "# potential \n",
    "b= 0.2\n",
    "# b=(0.25-0.05)\n",
    "# C is the after spike reset value for the membrane potential v caused by thr fast high threshold K+ conductance\n",
    "c=-65\n",
    "# The after spike reset variable for the variable u caused by slow high-threshold Na+ and K+ conductance\n",
    "d=8.0\n",
    "# d=2.0\n",
    "# Synaptic currents or injected dc currents\n",
    "I=15\n",
    "\n",
    "\n"
   ]
  },
  {
   "cell_type": "code",
   "execution_count": 19,
   "metadata": {},
   "outputs": [],
   "source": [
    "while t < 70:\n",
    "    voltages.append(voltage)\n",
    "    # The two equations\n",
    "    dv = (0.04*voltage**2)+(5*voltage)+140 - u + I\n",
    "    du = a*((b*voltage)-u)\n",
    "    \n",
    "    # Turning on the voltage \n",
    "    if t > 30 and t < 40:\n",
    "        dv += 50\n",
    "    \n",
    "    voltage += dv * dt\n",
    "    u += du * dt\n",
    "    \n",
    "    # If the voltage passes the threshold set we update the two\n",
    "    if voltage >= thresh:\n",
    "        voltage = c\n",
    "        u += d\n",
    "        spike_times.append(t)\n",
    "    # Add the time with the consecutive steps it take \n",
    "    t += dt\n"
   ]
  },
  {
   "cell_type": "code",
   "execution_count": 20,
   "metadata": {},
   "outputs": [
    {
     "data": {
      "image/png": "[encoded data removed]",
      "text/plain": [
       "<Figure size 432x288 with 1 Axes>"
      ]
     },
     "metadata": {
      "needs_background": "light"
     },
     "output_type": "display_data"
    }
   ],
   "source": [
    "plt.plot(voltages)\n",
    "plt.show()"
   ]
  }
 ],
 "metadata": {
  "interpreter": {
   "hash": "aee8b7b246df8f9039afb4144a1f6fd8d2ca17a180786b69acc140d282b71a49"
  },
  "kernelspec": {
   "display_name": "Python 3.10.1 64-bit",
   "language": "python",
   "name": "python3"
  },
  "language_info": {
   "codemirror_mode": {
    "name": "ipython",
    "version": 3
   },
   "file_extension": ".py",
   "mimetype": "text/x-python",
   "name": "python",
   "nbconvert_exporter": "python",
   "pygments_lexer": "ipython3",
   "version": "3.10.1"
  },
  "orig_nbformat": 4
 },
 "nbformat": 4,
 "nbformat_minor": 2
}
