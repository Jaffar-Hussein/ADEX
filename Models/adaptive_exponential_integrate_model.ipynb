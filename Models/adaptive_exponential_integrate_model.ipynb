{
 "cells": [
  {
   "cell_type": "markdown",
   "metadata": {},
   "source": [
    "# Adaptive Exponential Integrate Model (ADEX)"
   ]
  },
  {
   "cell_type": "markdown",
   "metadata": {},
   "source": [
    "*The model is described by two differential equations*  \n",
    "\n",
    "$$C\\frac{dV}{dt}=−g_L(V−E_L)+g_L*Δ_Texp(\\frac{V−V_T}{Δ_T})−w+I$$\n",
    "\n",
    "$$ τ_w\\frac{dw}{dt}=a(V−E_L)−w $$\n",
    "\n",
    "\n",
    "> V   = Membrane Potential  \n",
    "> $w$ = Adaptation Variable  \n",
    "> I   = Input Current  \n",
    "> C   = Membrane Capacitance  \n",
    "> g_L = Leak Condunctance  \n",
    "> E_L = Leak Reversal Potential  \n",
    "> V_T = The Threshold  \n",
    "> Δ_T = The Slope Factor    \n",
    "> a   = The Adaptation Coupling Parameter  \n",
    "> τ_w = The adaptation Time Constant"
   ]
  },
  {
   "cell_type": "code",
   "execution_count": 3,
   "metadata": {},
   "outputs": [],
   "source": [
    "from brian2 import *\n",
    "C = 1*nF\n",
    "gL = 30*nS\n",
    "EL = -70*mV\n",
    "VT = -50*mV\n",
    "DeltaT = 2*mV\n",
    "tauw = 150*ms\n",
    "a = 4*nS\n",
    "N = 200"
   ]
  },
  {
   "cell_type": "code",
   "execution_count": 2,
   "metadata": {},
   "outputs": [],
   "source": [
    "eqs = '''dvm/dt = (gL*(EL-vm)+gL*DeltaT*exp((vm-VT)/DeltaT) -w + I)/C : volt\n",
    "         dw/dt=(a*(vm-EL)-w)/tauw : amp\n",
    "         I : amp'''"
   ]
  },
  {
   "cell_type": "code",
   "execution_count": 5,
   "metadata": {},
   "outputs": [],
   "source": [
    "group = NeuronGroup(N, eqs,threshold='vm > -20*mV',reset='vm=-70*mV; w += 0.08*nA',method=euler)\n"
   ]
  }
 ],
 "metadata": {
  "interpreter": {
   "hash": "aee8b7b246df8f9039afb4144a1f6fd8d2ca17a180786b69acc140d282b71a49"
  },
  "kernelspec": {
   "display_name": "Python 3.10.1 64-bit",
   "language": "python",
   "name": "python3"
  },
  "language_info": {
   "codemirror_mode": {
    "name": "ipython",
    "version": 3
   },
   "file_extension": ".py",
   "mimetype": "text/x-python",
   "name": "python",
   "nbconvert_exporter": "python",
   "pygments_lexer": "ipython3",
   "version": "3.10.1"
  },
  "orig_nbformat": 4
 },
 "nbformat": 4,
 "nbformat_minor": 2
}
