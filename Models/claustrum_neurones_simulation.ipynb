{
 "cells": [
  {
   "cell_type": "markdown",
   "metadata": {},
   "source": [
    "# ••**Clausrum Neurones Simulations**••"
   ]
  },
  {
   "cell_type": "markdown",
   "metadata": {},
   "source": [
    "Neurones Subtypes \n",
    "\n",
    "\n"
   ]
  },
  {
   "cell_type": "code",
   "execution_count": 5,
   "metadata": {},
   "outputs": [],
   "source": [
    "from brian2 import *\n",
    "import matplotlib.pyplot as plt\n",
    "\n",
    "\n"
   ]
  },
  {
   "cell_type": "code",
   "execution_count": 6,
   "metadata": {},
   "outputs": [],
   "source": [
    "# PN1 -- Variation 1\n",
    "\n",
    "\n",
    "parameters = {\n",
    "    \"c_m\": 200 * pF,\n",
    "    \"g_l\": (0.001//247) * mS,   # VAriable\n",
    "    \"e_l\": -65.54 * mV,    # VAriable\n",
    "    \"v_t\": -35.6 * mV,\n",
    "    \"d_t\": 2.0 * mV,\n",
    "    \"a\": 2.0 * nS,\n",
    "    \"tau_w\": .0 * ms,\n",
    "    \"b\": 2.01 * pA,\n",
    "    \"v_r\": (-35.6-5) * mV,  # VAriable\n",
    "    \"i_stim\": (140) * pA,  # VAriable\n",
    "}\n"
   ]
  },
  {
   "cell_type": "code",
   "execution_count": 7,
   "metadata": {},
   "outputs": [],
   "source": [
    "# parameters = {\n",
    "#     \"c_m\": 210 * pF,\n",
    "#     \"g_l\": (1/246.92) * nS,   # VAriable\n",
    "#     \"e_l\": -73.54 * mV,    # VAriable\n",
    "#     \"v_t\": -35.7 * mV,\n",
    "#     \"d_t\": 2.0 * mV,\n",
    "#     \"a\": 2.0 * nS,\n",
    "#     \"tau_w\": 300.0 * ms,\n",
    "#     \"b\": 60.0 * pA,\n",
    "#     \"v_r\": (-35.7-5) * mV,  # VAriable\n",
    "#     \"i_stim\": (117.34*2) * pA,  # VAriable\n",
    "# }"
   ]
  },
  {
   "cell_type": "code",
   "execution_count": 8,
   "metadata": {},
   "outputs": [
    {
     "ename": "BrianObjectException",
     "evalue": "Error encountered with object named 'neurongroup_1'.\nObject was created here (most recent call only, full details in debug log):\n  File '/var/folders/h5/c0f_m8s50yx03wdbvzzcxjx40000gn/T/ipykernel_51151/614383628.py', line 5, in <module>\n    neuron = NeuronGroup(\n\nAn exception occured during the execution of the 'run' block of code object 'neurongroup_1_stateupdater_codeobject'.\n (See above for original error message and traceback.)",
     "output_type": "error",
     "traceback": [
      "\u001b[0;31m---------------------------------------------------------------------------\u001b[0m",
      "\u001b[0;31mZeroDivisionError\u001b[0m                         Traceback (most recent call last)",
      "File \u001b[0;32m/Library/Frameworks/Python.framework/Versions/3.10/lib/python3.10/site-packages/brian2/codegen/runtime/cython_rt/cython_rt.py:157\u001b[0m, in \u001b[0;36mCythonCodeObject.run_block\u001b[0;34m(self, block)\u001b[0m\n\u001b[1;32m    <a href='file:///Library/Frameworks/Python.framework/Versions/3.10/lib/python3.10/site-packages/brian2/codegen/runtime/cython_rt/cython_rt.py?line=155'>156</a>\u001b[0m \u001b[39mtry\u001b[39;00m:\n\u001b[0;32m--> <a href='file:///Library/Frameworks/Python.framework/Versions/3.10/lib/python3.10/site-packages/brian2/codegen/runtime/cython_rt/cython_rt.py?line=156'>157</a>\u001b[0m     \u001b[39mreturn\u001b[39;00m compiled_code\u001b[39m.\u001b[39;49mmain(\u001b[39mself\u001b[39;49m\u001b[39m.\u001b[39;49mnamespace)\n\u001b[1;32m    <a href='file:///Library/Frameworks/Python.framework/Versions/3.10/lib/python3.10/site-packages/brian2/codegen/runtime/cython_rt/cython_rt.py?line=157'>158</a>\u001b[0m \u001b[39mexcept\u001b[39;00m \u001b[39mException\u001b[39;00m \u001b[39mas\u001b[39;00m exc:\n",
      "File \u001b[0;32m_cython_magic_fe9dec64773ff1c0aa7979497583b102.pyx:129\u001b[0m, in \u001b[0;36m_cython_magic_fe9dec64773ff1c0aa7979497583b102.main\u001b[0;34m()\u001b[0m\n",
      "\u001b[0;31mZeroDivisionError\u001b[0m: float division",
      "\nThe above exception was the direct cause of the following exception:\n",
      "\u001b[0;31mBrianObjectException\u001b[0m                      Traceback (most recent call last)",
      "\u001b[1;32m/Users/jaffarhussein/Desktop/NeuroPSI/ADEX/Models/claustrum_neurones_simulation.ipynb Cell 6'\u001b[0m in \u001b[0;36m<module>\u001b[0;34m\u001b[0m\n\u001b[1;32m     <a href='vscode-notebook-cell:/Users/jaffarhussein/Desktop/NeuroPSI/ADEX/Models/claustrum_neurones_simulation.ipynb#ch0000005?line=14'>15</a>\u001b[0m states \u001b[39m=\u001b[39m StateMonitor(neuron, [\u001b[39m\"\u001b[39m\u001b[39mvm\u001b[39m\u001b[39m\"\u001b[39m, \u001b[39m\"\u001b[39m\u001b[39mw\u001b[39m\u001b[39m\"\u001b[39m], record\u001b[39m=\u001b[39m\u001b[39mTrue\u001b[39;00m, when\u001b[39m=\u001b[39m\u001b[39m\"\u001b[39m\u001b[39mthresholds\u001b[39m\u001b[39m\"\u001b[39m)\n\u001b[1;32m     <a href='vscode-notebook-cell:/Users/jaffarhussein/Desktop/NeuroPSI/ADEX/Models/claustrum_neurones_simulation.ipynb#ch0000005?line=15'>16</a>\u001b[0m defaultclock\u001b[39m.\u001b[39mdt \u001b[39m=\u001b[39m \u001b[39m0.1\u001b[39m \u001b[39m*\u001b[39m ms\n\u001b[0;32m---> <a href='vscode-notebook-cell:/Users/jaffarhussein/Desktop/NeuroPSI/ADEX/Models/claustrum_neurones_simulation.ipynb#ch0000005?line=16'>17</a>\u001b[0m run(\u001b[39m5\u001b[39;49m \u001b[39m*\u001b[39;49m second)\n\u001b[1;32m     <a href='vscode-notebook-cell:/Users/jaffarhussein/Desktop/NeuroPSI/ADEX/Models/claustrum_neurones_simulation.ipynb#ch0000005?line=17'>18</a>\u001b[0m plt\u001b[39m.\u001b[39mfigure(figsize\u001b[39m=\u001b[39m(\u001b[39m10\u001b[39m, \u001b[39m5\u001b[39m))\n\u001b[1;32m     <a href='vscode-notebook-cell:/Users/jaffarhussein/Desktop/NeuroPSI/ADEX/Models/claustrum_neurones_simulation.ipynb#ch0000005?line=18'>19</a>\u001b[0m \u001b[39m# plt.xlim(0,200)\u001b[39;00m\n\u001b[1;32m     <a href='vscode-notebook-cell:/Users/jaffarhussein/Desktop/NeuroPSI/ADEX/Models/claustrum_neurones_simulation.ipynb#ch0000005?line=19'>20</a>\u001b[0m \u001b[39m# clip membrane voltages to threshold (0 mV)\u001b[39;00m\n\u001b[1;32m     <a href='vscode-notebook-cell:/Users/jaffarhussein/Desktop/NeuroPSI/ADEX/Models/claustrum_neurones_simulation.ipynb#ch0000005?line=20'>21</a>\u001b[0m \u001b[39m# vms = np.clip(states[0].vm / mV, a_min=None, a_max=10000)\u001b[39;00m\n",
      "File \u001b[0;32m/Library/Frameworks/Python.framework/Versions/3.10/lib/python3.10/site-packages/brian2/units/fundamentalunits.py:2428\u001b[0m, in \u001b[0;36mcheck_units.<locals>.do_check_units.<locals>.new_f\u001b[0;34m(*args, **kwds)\u001b[0m\n\u001b[1;32m   <a href='file:///Library/Frameworks/Python.framework/Versions/3.10/lib/python3.10/site-packages/brian2/units/fundamentalunits.py?line=2420'>2421</a>\u001b[0m             error_message \u001b[39m=\u001b[39m (\u001b[39mf\u001b[39m\u001b[39m\"\u001b[39m\u001b[39mFunction \u001b[39m\u001b[39m'\u001b[39m\u001b[39m{\u001b[39;00mf\u001b[39m.\u001b[39m\u001b[39m__name__\u001b[39m\u001b[39m}\u001b[39;00m\u001b[39m'\u001b[39m\u001b[39m \u001b[39m\u001b[39m\"\u001b[39m\n\u001b[1;32m   <a href='file:///Library/Frameworks/Python.framework/Versions/3.10/lib/python3.10/site-packages/brian2/units/fundamentalunits.py?line=2421'>2422</a>\u001b[0m                              \u001b[39mf\u001b[39m\u001b[39m\"\u001b[39m\u001b[39mexpected a quantitity with unit \u001b[39m\u001b[39m\"\u001b[39m\n\u001b[1;32m   <a href='file:///Library/Frameworks/Python.framework/Versions/3.10/lib/python3.10/site-packages/brian2/units/fundamentalunits.py?line=2422'>2423</a>\u001b[0m                              \u001b[39mf\u001b[39m\u001b[39m\"\u001b[39m\u001b[39m{\u001b[39;00munit\u001b[39m}\u001b[39;00m\u001b[39m for argument \u001b[39m\u001b[39m'\u001b[39m\u001b[39m{\u001b[39;00mk\u001b[39m}\u001b[39;00m\u001b[39m'\u001b[39m\u001b[39m but got \u001b[39m\u001b[39m\"\u001b[39m\n\u001b[1;32m   <a href='file:///Library/Frameworks/Python.framework/Versions/3.10/lib/python3.10/site-packages/brian2/units/fundamentalunits.py?line=2423'>2424</a>\u001b[0m                              \u001b[39mf\u001b[39m\u001b[39m\"\u001b[39m\u001b[39m'\u001b[39m\u001b[39m{\u001b[39;00mvalue\u001b[39m}\u001b[39;00m\u001b[39m'\u001b[39m\u001b[39m\"\u001b[39m)\n\u001b[1;32m   <a href='file:///Library/Frameworks/Python.framework/Versions/3.10/lib/python3.10/site-packages/brian2/units/fundamentalunits.py?line=2424'>2425</a>\u001b[0m             \u001b[39mraise\u001b[39;00m DimensionMismatchError(error_message,\n\u001b[1;32m   <a href='file:///Library/Frameworks/Python.framework/Versions/3.10/lib/python3.10/site-packages/brian2/units/fundamentalunits.py?line=2425'>2426</a>\u001b[0m                                          get_dimensions(newkeyset[k]))\n\u001b[0;32m-> <a href='file:///Library/Frameworks/Python.framework/Versions/3.10/lib/python3.10/site-packages/brian2/units/fundamentalunits.py?line=2427'>2428</a>\u001b[0m result \u001b[39m=\u001b[39m f(\u001b[39m*\u001b[39;49margs, \u001b[39m*\u001b[39;49m\u001b[39m*\u001b[39;49mkwds)\n\u001b[1;32m   <a href='file:///Library/Frameworks/Python.framework/Versions/3.10/lib/python3.10/site-packages/brian2/units/fundamentalunits.py?line=2428'>2429</a>\u001b[0m \u001b[39mif\u001b[39;00m \u001b[39m'\u001b[39m\u001b[39mresult\u001b[39m\u001b[39m'\u001b[39m \u001b[39min\u001b[39;00m au:\n\u001b[1;32m   <a href='file:///Library/Frameworks/Python.framework/Versions/3.10/lib/python3.10/site-packages/brian2/units/fundamentalunits.py?line=2429'>2430</a>\u001b[0m     \u001b[39mif\u001b[39;00m \u001b[39misinstance\u001b[39m(au[\u001b[39m'\u001b[39m\u001b[39mresult\u001b[39m\u001b[39m'\u001b[39m], Callable) \u001b[39mand\u001b[39;00m au[\u001b[39m'\u001b[39m\u001b[39mresult\u001b[39m\u001b[39m'\u001b[39m] \u001b[39m!=\u001b[39m \u001b[39mbool\u001b[39m:\n",
      "File \u001b[0;32m/Library/Frameworks/Python.framework/Versions/3.10/lib/python3.10/site-packages/brian2/core/magic.py:373\u001b[0m, in \u001b[0;36mrun\u001b[0;34m(duration, report, report_period, namespace, profile, level)\u001b[0m\n\u001b[1;32m    <a href='file:///Library/Frameworks/Python.framework/Versions/3.10/lib/python3.10/site-packages/brian2/core/magic.py?line=309'>310</a>\u001b[0m \u001b[39m@check_units\u001b[39m(duration\u001b[39m=\u001b[39msecond, report_period\u001b[39m=\u001b[39msecond)\n\u001b[1;32m    <a href='file:///Library/Frameworks/Python.framework/Versions/3.10/lib/python3.10/site-packages/brian2/core/magic.py?line=310'>311</a>\u001b[0m \u001b[39mdef\u001b[39;00m \u001b[39mrun\u001b[39m(duration, report\u001b[39m=\u001b[39m\u001b[39mNone\u001b[39;00m, report_period\u001b[39m=\u001b[39m\u001b[39m10\u001b[39m\u001b[39m*\u001b[39msecond, namespace\u001b[39m=\u001b[39m\u001b[39mNone\u001b[39;00m,\n\u001b[1;32m    <a href='file:///Library/Frameworks/Python.framework/Versions/3.10/lib/python3.10/site-packages/brian2/core/magic.py?line=311'>312</a>\u001b[0m         profile\u001b[39m=\u001b[39m\u001b[39mNone\u001b[39;00m, level\u001b[39m=\u001b[39m\u001b[39m0\u001b[39m):\n\u001b[1;32m    <a href='file:///Library/Frameworks/Python.framework/Versions/3.10/lib/python3.10/site-packages/brian2/core/magic.py?line=312'>313</a>\u001b[0m     \u001b[39m\"\"\"\u001b[39;00m\n\u001b[1;32m    <a href='file:///Library/Frameworks/Python.framework/Versions/3.10/lib/python3.10/site-packages/brian2/core/magic.py?line=313'>314</a>\u001b[0m \u001b[39m    run(duration, report=None, report_period=10*second, namespace=None, level=0)\u001b[39;00m\n\u001b[1;32m    <a href='file:///Library/Frameworks/Python.framework/Versions/3.10/lib/python3.10/site-packages/brian2/core/magic.py?line=314'>315</a>\u001b[0m \u001b[39m    \u001b[39;00m\n\u001b[0;32m   (...)\u001b[0m\n\u001b[1;32m    <a href='file:///Library/Frameworks/Python.framework/Versions/3.10/lib/python3.10/site-packages/brian2/core/magic.py?line=370'>371</a>\u001b[0m \u001b[39m        intended use. See `MagicNetwork` for more details.\u001b[39;00m\n\u001b[1;32m    <a href='file:///Library/Frameworks/Python.framework/Versions/3.10/lib/python3.10/site-packages/brian2/core/magic.py?line=371'>372</a>\u001b[0m \u001b[39m    \"\"\"\u001b[39;00m\n\u001b[0;32m--> <a href='file:///Library/Frameworks/Python.framework/Versions/3.10/lib/python3.10/site-packages/brian2/core/magic.py?line=372'>373</a>\u001b[0m     \u001b[39mreturn\u001b[39;00m magic_network\u001b[39m.\u001b[39;49mrun(duration, report\u001b[39m=\u001b[39;49mreport, report_period\u001b[39m=\u001b[39;49mreport_period,\n\u001b[1;32m    <a href='file:///Library/Frameworks/Python.framework/Versions/3.10/lib/python3.10/site-packages/brian2/core/magic.py?line=373'>374</a>\u001b[0m                              namespace\u001b[39m=\u001b[39;49mnamespace, profile\u001b[39m=\u001b[39;49mprofile, level\u001b[39m=\u001b[39;49m\u001b[39m2\u001b[39;49m\u001b[39m+\u001b[39;49mlevel)\n",
      "File \u001b[0;32m/Library/Frameworks/Python.framework/Versions/3.10/lib/python3.10/site-packages/brian2/core/magic.py:230\u001b[0m, in \u001b[0;36mMagicNetwork.run\u001b[0;34m(self, duration, report, report_period, namespace, profile, level)\u001b[0m\n\u001b[1;32m    <a href='file:///Library/Frameworks/Python.framework/Versions/3.10/lib/python3.10/site-packages/brian2/core/magic.py?line=226'>227</a>\u001b[0m \u001b[39mdef\u001b[39;00m \u001b[39mrun\u001b[39m(\u001b[39mself\u001b[39m, duration, report\u001b[39m=\u001b[39m\u001b[39mNone\u001b[39;00m, report_period\u001b[39m=\u001b[39m\u001b[39m10\u001b[39m\u001b[39m*\u001b[39msecond,\n\u001b[1;32m    <a href='file:///Library/Frameworks/Python.framework/Versions/3.10/lib/python3.10/site-packages/brian2/core/magic.py?line=227'>228</a>\u001b[0m         namespace\u001b[39m=\u001b[39m\u001b[39mNone\u001b[39;00m, profile\u001b[39m=\u001b[39m\u001b[39mNone\u001b[39;00m, level\u001b[39m=\u001b[39m\u001b[39m0\u001b[39m):\n\u001b[1;32m    <a href='file:///Library/Frameworks/Python.framework/Versions/3.10/lib/python3.10/site-packages/brian2/core/magic.py?line=228'>229</a>\u001b[0m     \u001b[39mself\u001b[39m\u001b[39m.\u001b[39m_update_magic_objects(level\u001b[39m=\u001b[39mlevel\u001b[39m+\u001b[39m\u001b[39m1\u001b[39m)\n\u001b[0;32m--> <a href='file:///Library/Frameworks/Python.framework/Versions/3.10/lib/python3.10/site-packages/brian2/core/magic.py?line=229'>230</a>\u001b[0m     Network\u001b[39m.\u001b[39;49mrun(\u001b[39mself\u001b[39;49m, duration, report\u001b[39m=\u001b[39;49mreport, report_period\u001b[39m=\u001b[39;49mreport_period,\n\u001b[1;32m    <a href='file:///Library/Frameworks/Python.framework/Versions/3.10/lib/python3.10/site-packages/brian2/core/magic.py?line=230'>231</a>\u001b[0m                 namespace\u001b[39m=\u001b[39;49mnamespace, profile\u001b[39m=\u001b[39;49mprofile, level\u001b[39m=\u001b[39;49mlevel\u001b[39m+\u001b[39;49m\u001b[39m1\u001b[39;49m)\n",
      "File \u001b[0;32m/Library/Frameworks/Python.framework/Versions/3.10/lib/python3.10/site-packages/brian2/core/base.py:293\u001b[0m, in \u001b[0;36mdevice_override.<locals>.device_override_decorator.<locals>.device_override_decorated_function\u001b[0;34m(*args, **kwds)\u001b[0m\n\u001b[1;32m    <a href='file:///Library/Frameworks/Python.framework/Versions/3.10/lib/python3.10/site-packages/brian2/core/base.py?line=290'>291</a>\u001b[0m     \u001b[39mreturn\u001b[39;00m \u001b[39mgetattr\u001b[39m(curdev, name)(\u001b[39m*\u001b[39margs, \u001b[39m*\u001b[39m\u001b[39m*\u001b[39mkwds)\n\u001b[1;32m    <a href='file:///Library/Frameworks/Python.framework/Versions/3.10/lib/python3.10/site-packages/brian2/core/base.py?line=291'>292</a>\u001b[0m \u001b[39melse\u001b[39;00m:\n\u001b[0;32m--> <a href='file:///Library/Frameworks/Python.framework/Versions/3.10/lib/python3.10/site-packages/brian2/core/base.py?line=292'>293</a>\u001b[0m     \u001b[39mreturn\u001b[39;00m func(\u001b[39m*\u001b[39;49margs, \u001b[39m*\u001b[39;49m\u001b[39m*\u001b[39;49mkwds)\n",
      "File \u001b[0;32m/Library/Frameworks/Python.framework/Versions/3.10/lib/python3.10/site-packages/brian2/units/fundamentalunits.py:2428\u001b[0m, in \u001b[0;36mcheck_units.<locals>.do_check_units.<locals>.new_f\u001b[0;34m(*args, **kwds)\u001b[0m\n\u001b[1;32m   <a href='file:///Library/Frameworks/Python.framework/Versions/3.10/lib/python3.10/site-packages/brian2/units/fundamentalunits.py?line=2420'>2421</a>\u001b[0m             error_message \u001b[39m=\u001b[39m (\u001b[39mf\u001b[39m\u001b[39m\"\u001b[39m\u001b[39mFunction \u001b[39m\u001b[39m'\u001b[39m\u001b[39m{\u001b[39;00mf\u001b[39m.\u001b[39m\u001b[39m__name__\u001b[39m\u001b[39m}\u001b[39;00m\u001b[39m'\u001b[39m\u001b[39m \u001b[39m\u001b[39m\"\u001b[39m\n\u001b[1;32m   <a href='file:///Library/Frameworks/Python.framework/Versions/3.10/lib/python3.10/site-packages/brian2/units/fundamentalunits.py?line=2421'>2422</a>\u001b[0m                              \u001b[39mf\u001b[39m\u001b[39m\"\u001b[39m\u001b[39mexpected a quantitity with unit \u001b[39m\u001b[39m\"\u001b[39m\n\u001b[1;32m   <a href='file:///Library/Frameworks/Python.framework/Versions/3.10/lib/python3.10/site-packages/brian2/units/fundamentalunits.py?line=2422'>2423</a>\u001b[0m                              \u001b[39mf\u001b[39m\u001b[39m\"\u001b[39m\u001b[39m{\u001b[39;00munit\u001b[39m}\u001b[39;00m\u001b[39m for argument \u001b[39m\u001b[39m'\u001b[39m\u001b[39m{\u001b[39;00mk\u001b[39m}\u001b[39;00m\u001b[39m'\u001b[39m\u001b[39m but got \u001b[39m\u001b[39m\"\u001b[39m\n\u001b[1;32m   <a href='file:///Library/Frameworks/Python.framework/Versions/3.10/lib/python3.10/site-packages/brian2/units/fundamentalunits.py?line=2423'>2424</a>\u001b[0m                              \u001b[39mf\u001b[39m\u001b[39m\"\u001b[39m\u001b[39m'\u001b[39m\u001b[39m{\u001b[39;00mvalue\u001b[39m}\u001b[39;00m\u001b[39m'\u001b[39m\u001b[39m\"\u001b[39m)\n\u001b[1;32m   <a href='file:///Library/Frameworks/Python.framework/Versions/3.10/lib/python3.10/site-packages/brian2/units/fundamentalunits.py?line=2424'>2425</a>\u001b[0m             \u001b[39mraise\u001b[39;00m DimensionMismatchError(error_message,\n\u001b[1;32m   <a href='file:///Library/Frameworks/Python.framework/Versions/3.10/lib/python3.10/site-packages/brian2/units/fundamentalunits.py?line=2425'>2426</a>\u001b[0m                                          get_dimensions(newkeyset[k]))\n\u001b[0;32m-> <a href='file:///Library/Frameworks/Python.framework/Versions/3.10/lib/python3.10/site-packages/brian2/units/fundamentalunits.py?line=2427'>2428</a>\u001b[0m result \u001b[39m=\u001b[39m f(\u001b[39m*\u001b[39;49margs, \u001b[39m*\u001b[39;49m\u001b[39m*\u001b[39;49mkwds)\n\u001b[1;32m   <a href='file:///Library/Frameworks/Python.framework/Versions/3.10/lib/python3.10/site-packages/brian2/units/fundamentalunits.py?line=2428'>2429</a>\u001b[0m \u001b[39mif\u001b[39;00m \u001b[39m'\u001b[39m\u001b[39mresult\u001b[39m\u001b[39m'\u001b[39m \u001b[39min\u001b[39;00m au:\n\u001b[1;32m   <a href='file:///Library/Frameworks/Python.framework/Versions/3.10/lib/python3.10/site-packages/brian2/units/fundamentalunits.py?line=2429'>2430</a>\u001b[0m     \u001b[39mif\u001b[39;00m \u001b[39misinstance\u001b[39m(au[\u001b[39m'\u001b[39m\u001b[39mresult\u001b[39m\u001b[39m'\u001b[39m], Callable) \u001b[39mand\u001b[39;00m au[\u001b[39m'\u001b[39m\u001b[39mresult\u001b[39m\u001b[39m'\u001b[39m] \u001b[39m!=\u001b[39m \u001b[39mbool\u001b[39m:\n",
      "File \u001b[0;32m/Library/Frameworks/Python.framework/Versions/3.10/lib/python3.10/site-packages/brian2/core/network.py:1071\u001b[0m, in \u001b[0;36mNetwork.run\u001b[0;34m(self, duration, report, report_period, namespace, profile, level)\u001b[0m\n\u001b[1;32m   <a href='file:///Library/Frameworks/Python.framework/Versions/3.10/lib/python3.10/site-packages/brian2/core/network.py?line=1068'>1069</a>\u001b[0m \u001b[39melse\u001b[39;00m:\n\u001b[1;32m   <a href='file:///Library/Frameworks/Python.framework/Versions/3.10/lib/python3.10/site-packages/brian2/core/network.py?line=1069'>1070</a>\u001b[0m     \u001b[39mfor\u001b[39;00m obj \u001b[39min\u001b[39;00m active_objects:\n\u001b[0;32m-> <a href='file:///Library/Frameworks/Python.framework/Versions/3.10/lib/python3.10/site-packages/brian2/core/network.py?line=1070'>1071</a>\u001b[0m         obj\u001b[39m.\u001b[39;49mrun()\n\u001b[1;32m   <a href='file:///Library/Frameworks/Python.framework/Versions/3.10/lib/python3.10/site-packages/brian2/core/network.py?line=1072'>1073</a>\u001b[0m timestep[\u001b[39m0\u001b[39m] \u001b[39m+\u001b[39m\u001b[39m=\u001b[39m \u001b[39m1\u001b[39m\n\u001b[1;32m   <a href='file:///Library/Frameworks/Python.framework/Versions/3.10/lib/python3.10/site-packages/brian2/core/network.py?line=1073'>1074</a>\u001b[0m t[\u001b[39m0\u001b[39m] \u001b[39m=\u001b[39m timestep[\u001b[39m0\u001b[39m] \u001b[39m*\u001b[39m dt[\u001b[39m0\u001b[39m]\n",
      "File \u001b[0;32m/Library/Frameworks/Python.framework/Versions/3.10/lib/python3.10/site-packages/brian2/core/base.py:198\u001b[0m, in \u001b[0;36mBrianObject.run\u001b[0;34m(self)\u001b[0m\n\u001b[1;32m    <a href='file:///Library/Frameworks/Python.framework/Versions/3.10/lib/python3.10/site-packages/brian2/core/base.py?line=195'>196</a>\u001b[0m \u001b[39mdef\u001b[39;00m \u001b[39mrun\u001b[39m(\u001b[39mself\u001b[39m):\n\u001b[1;32m    <a href='file:///Library/Frameworks/Python.framework/Versions/3.10/lib/python3.10/site-packages/brian2/core/base.py?line=196'>197</a>\u001b[0m     \u001b[39mfor\u001b[39;00m codeobj \u001b[39min\u001b[39;00m \u001b[39mself\u001b[39m\u001b[39m.\u001b[39m_code_objects:\n\u001b[0;32m--> <a href='file:///Library/Frameworks/Python.framework/Versions/3.10/lib/python3.10/site-packages/brian2/core/base.py?line=197'>198</a>\u001b[0m         codeobj()\n",
      "File \u001b[0;32m/Library/Frameworks/Python.framework/Versions/3.10/lib/python3.10/site-packages/brian2/codegen/codeobject.py:106\u001b[0m, in \u001b[0;36mCodeObject.__call__\u001b[0;34m(self, **kwds)\u001b[0m\n\u001b[1;32m    <a href='file:///Library/Frameworks/Python.framework/Versions/3.10/lib/python3.10/site-packages/brian2/codegen/codeobject.py?line=102'>103</a>\u001b[0m \u001b[39mself\u001b[39m\u001b[39m.\u001b[39mupdate_namespace()\n\u001b[1;32m    <a href='file:///Library/Frameworks/Python.framework/Versions/3.10/lib/python3.10/site-packages/brian2/codegen/codeobject.py?line=103'>104</a>\u001b[0m \u001b[39mself\u001b[39m\u001b[39m.\u001b[39mnamespace\u001b[39m.\u001b[39mupdate(\u001b[39m*\u001b[39m\u001b[39m*\u001b[39mkwds)\n\u001b[0;32m--> <a href='file:///Library/Frameworks/Python.framework/Versions/3.10/lib/python3.10/site-packages/brian2/codegen/codeobject.py?line=105'>106</a>\u001b[0m \u001b[39mreturn\u001b[39;00m \u001b[39mself\u001b[39;49m\u001b[39m.\u001b[39;49mrun()\n",
      "File \u001b[0;32m/Library/Frameworks/Python.framework/Versions/3.10/lib/python3.10/site-packages/brian2/codegen/codeobject.py:134\u001b[0m, in \u001b[0;36mCodeObject.run\u001b[0;34m(self)\u001b[0m\n\u001b[1;32m    <a href='file:///Library/Frameworks/Python.framework/Versions/3.10/lib/python3.10/site-packages/brian2/codegen/codeobject.py?line=123'>124</a>\u001b[0m \u001b[39mdef\u001b[39;00m \u001b[39mrun\u001b[39m(\u001b[39mself\u001b[39m):\n\u001b[1;32m    <a href='file:///Library/Frameworks/Python.framework/Versions/3.10/lib/python3.10/site-packages/brian2/codegen/codeobject.py?line=124'>125</a>\u001b[0m     \u001b[39m\"\"\"\u001b[39;00m\n\u001b[1;32m    <a href='file:///Library/Frameworks/Python.framework/Versions/3.10/lib/python3.10/site-packages/brian2/codegen/codeobject.py?line=125'>126</a>\u001b[0m \u001b[39m    Runs the main code in the namespace.\u001b[39;00m\n\u001b[1;32m    <a href='file:///Library/Frameworks/Python.framework/Versions/3.10/lib/python3.10/site-packages/brian2/codegen/codeobject.py?line=126'>127</a>\u001b[0m \n\u001b[0;32m   (...)\u001b[0m\n\u001b[1;32m    <a href='file:///Library/Frameworks/Python.framework/Versions/3.10/lib/python3.10/site-packages/brian2/codegen/codeobject.py?line=131'>132</a>\u001b[0m \u001b[39m        defined during the call of `CodeGenerator.code_object`.\u001b[39;00m\n\u001b[1;32m    <a href='file:///Library/Frameworks/Python.framework/Versions/3.10/lib/python3.10/site-packages/brian2/codegen/codeobject.py?line=132'>133</a>\u001b[0m \u001b[39m    \"\"\"\u001b[39;00m\n\u001b[0;32m--> <a href='file:///Library/Frameworks/Python.framework/Versions/3.10/lib/python3.10/site-packages/brian2/codegen/codeobject.py?line=133'>134</a>\u001b[0m     \u001b[39mreturn\u001b[39;00m \u001b[39mself\u001b[39;49m\u001b[39m.\u001b[39;49mrun_block(\u001b[39m'\u001b[39;49m\u001b[39mrun\u001b[39;49m\u001b[39m'\u001b[39;49m)\n",
      "File \u001b[0;32m/Library/Frameworks/Python.framework/Versions/3.10/lib/python3.10/site-packages/brian2/codegen/runtime/cython_rt/cython_rt.py:161\u001b[0m, in \u001b[0;36mCythonCodeObject.run_block\u001b[0;34m(self, block)\u001b[0m\n\u001b[1;32m    <a href='file:///Library/Frameworks/Python.framework/Versions/3.10/lib/python3.10/site-packages/brian2/codegen/runtime/cython_rt/cython_rt.py?line=157'>158</a>\u001b[0m \u001b[39mexcept\u001b[39;00m \u001b[39mException\u001b[39;00m \u001b[39mas\u001b[39;00m exc:\n\u001b[1;32m    <a href='file:///Library/Frameworks/Python.framework/Versions/3.10/lib/python3.10/site-packages/brian2/codegen/runtime/cython_rt/cython_rt.py?line=158'>159</a>\u001b[0m     message \u001b[39m=\u001b[39m (\u001b[39mf\u001b[39m\u001b[39m\"\u001b[39m\u001b[39mAn exception occured during the execution of the \u001b[39m\u001b[39m\"\u001b[39m\n\u001b[1;32m    <a href='file:///Library/Frameworks/Python.framework/Versions/3.10/lib/python3.10/site-packages/brian2/codegen/runtime/cython_rt/cython_rt.py?line=159'>160</a>\u001b[0m                \u001b[39mf\u001b[39m\u001b[39m\"\u001b[39m\u001b[39m'\u001b[39m\u001b[39m{\u001b[39;00mblock\u001b[39m}\u001b[39;00m\u001b[39m'\u001b[39m\u001b[39m block of code object \u001b[39m\u001b[39m'\u001b[39m\u001b[39m{\u001b[39;00m\u001b[39mself\u001b[39m\u001b[39m.\u001b[39mname\u001b[39m}\u001b[39;00m\u001b[39m'\u001b[39m\u001b[39m.\u001b[39m\u001b[39m\\n\u001b[39;00m\u001b[39m\"\u001b[39m)\n\u001b[0;32m--> <a href='file:///Library/Frameworks/Python.framework/Versions/3.10/lib/python3.10/site-packages/brian2/codegen/runtime/cython_rt/cython_rt.py?line=160'>161</a>\u001b[0m     \u001b[39mraise\u001b[39;00m BrianObjectException(message, \u001b[39mself\u001b[39m\u001b[39m.\u001b[39mowner) \u001b[39mfrom\u001b[39;00m \u001b[39mexc\u001b[39;00m\n",
      "\u001b[0;31mBrianObjectException\u001b[0m: Error encountered with object named 'neurongroup_1'.\nObject was created here (most recent call only, full details in debug log):\n  File '/var/folders/h5/c0f_m8s50yx03wdbvzzcxjx40000gn/T/ipykernel_51151/614383628.py', line 5, in <module>\n    neuron = NeuronGroup(\n\nAn exception occured during the execution of the 'run' block of code object 'neurongroup_1_stateupdater_codeobject'.\n (See above for original error message and traceback.)"
     ]
    }
   ],
   "source": [
    "eqs = \"\"\"\n",
    "    dvm/dt = (g_l*(e_l - vm) + g_l*d_t*exp((vm-v_t)/d_t) + i_stim - w)/c_m : volt(unless refractory)\n",
    "    dw/dt  = (a*(vm - e_l) - w)/tau_w : amp\n",
    "    \"\"\"\n",
    "neuron = NeuronGroup(\n",
    "    1,\n",
    "    model=eqs,\n",
    "    threshold=\"vm > 10*mV\", reset=\"vm = v_r; w += b\",\n",
    "    method=\"euler\",\n",
    "    refractory='5*ms',\n",
    "    namespace=parameters,\n",
    ")\n",
    "neuron.vm = parameters[\"e_l\"]\n",
    "neuron.w = 0\n",
    "states = StateMonitor(neuron, [\"vm\", \"w\"], record=True, when=\"thresholds\")\n",
    "defaultclock.dt = 0.1 * ms\n",
    "run(5 * second)\n",
    "plt.figure(figsize=(10, 5))\n",
    "# plt.xlim(0,200)\n",
    "# clip membrane voltages to threshold (0 mV)\n",
    "# vms = np.clip(states[0].vm / mV, a_min=None, a_max=10000)\n",
    "\n",
    "plt.plot(states[0].t / ms, states[0].vm / mV)\n",
    "\n",
    "\n",
    "\n",
    "plt.show()\n"
   ]
  },
  {
   "cell_type": "markdown",
   "metadata": {},
   "source": [
    "PN2\n"
   ]
  },
  {
   "cell_type": "code",
   "execution_count": null,
   "metadata": {},
   "outputs": [],
   "source": [
    "# PN1 -- Variation 1\n",
    "\n",
    "\n",
    "parameters = {\n",
    "    \"c_m\": 200 * pF,\n",
    "    \"g_l\": (1/173) * nS,   # VAriable, from paper\n",
    "    \"e_l\": -74.5 * mV,    # VAriable from paper\n",
    "    \"v_t\": -35.7 * mV, # from paper \n",
    "    \"d_t\": 2.0 * mV,\n",
    "    \"a\": 2.0 * nS,\n",
    "    \"tau_w\": 300.0 * ms,\n",
    "    \"b\": 60.0 * pA,\n",
    "    \"v_r\": (-35.7-5) * mV,  # VAriable from paper \n",
    "    \"i_stim\": (216*2) * pA,  # VAriable from paper \n",
    "}\n"
   ]
  },
  {
   "cell_type": "code",
   "execution_count": null,
   "metadata": {},
   "outputs": [],
   "source": [
    "eqs = \"\"\"\n",
    "    dvm/dt = (g_l*(e_l - vm) + g_l*d_t*exp((vm-v_t)/d_t) + i_stim - w)/c_m : volt\n",
    "    dw/dt  = (a*(vm - e_l) - w)/tau_w : amp\n",
    "    \"\"\"\n",
    "neuron = NeuronGroup(\n",
    "    1,\n",
    "    model=eqs,\n",
    "    threshold=\"vm > 0*mV\", reset=\"vm = v_r; w += b\",\n",
    "    method=\"euler\",\n",
    "    namespace=parameters,\n",
    ")\n",
    "neuron.vm = parameters[\"e_l\"]\n",
    "neuron.w = 0\n",
    "states = StateMonitor(neuron, [\"vm\", \"w\"], record=True, when=\"thresholds\")\n",
    "defaultclock.dt = 0.1 * ms\n",
    "run(2 * second)\n",
    "# clip membrane voltages to threshold (0 mV)\n",
    "vms = np.clip(states[0].vm / mV, a_min=None, a_max=0)\n",
    "fig = plt.figure(figsize=(10, 5))\n",
    "\n",
    "plt.plot(states[0].t / ms, vms)\n",
    "\n",
    "\n",
    "plt.show()"
   ]
  },
  {
   "cell_type": "markdown",
   "metadata": {},
   "source": []
  },
  {
   "cell_type": "markdown",
   "metadata": {},
   "source": [
    "PN3"
   ]
  },
  {
   "cell_type": "code",
   "execution_count": null,
   "metadata": {},
   "outputs": [],
   "source": [
    "\n",
    "\n",
    "parameters = {\n",
    "    \"c_m\": 100 * pF,\n",
    "    \"g_l\": (1/222) * nS,   # VAriable\n",
    "    \"e_l\": -71.2 * mV,    # VAriable\n",
    "    \"v_t\": -36.8 * mV,\n",
    "    \"d_t\": 2.0 * mV,\n",
    "    \"a\": 2.0 * nS,\n",
    "    \"tau_w\": 300.0 * ms,\n",
    "    \"b\": 60.0 * pA,\n",
    "    \"v_r\": (-36.8-5) * mV,  # VAriable\n",
    "    \"i_stim\": (125*2) * pA,  # VAriable\n",
    "}"
   ]
  },
  {
   "cell_type": "code",
   "execution_count": null,
   "metadata": {},
   "outputs": [],
   "source": [
    "eqs = \"\"\"\n",
    "    dvm/dt = (g_l*(e_l - vm) + g_l*d_t*exp((vm-v_t)/d_t) + i_stim - w)/c_m : volt\n",
    "    dw/dt  = (a*(vm - e_l) - w)/tau_w : amp\n",
    "    \"\"\"\n",
    "neuron = NeuronGroup(\n",
    "    1,\n",
    "    model=eqs,\n",
    "    threshold=\"vm > v_t\", reset=\"vm = v_r; w += b\",\n",
    "    method=\"euler\",\n",
    "    namespace=parameters,\n",
    ")\n",
    "neuron.vm = parameters[\"e_l\"]\n",
    "neuron.w = 0\n",
    "states = StateMonitor(neuron, [\"vm\", \"w\"], record=True, when=\"thresholds\")\n",
    "defaultclock.dt = 0.1 * ms\n",
    "run(2* second)\n",
    "# clip membrane voltages to threshold (0 mV)\n",
    "vms = np.clip(states[0].vm / mV, a_min=None, a_max=0)\n",
    "# plt.ylim(-80, -10)\n",
    "# plt.figure(figsize=(6,3),dpi=1440)\n",
    "# plt.figure(figsize=(10,5))\n",
    "# plt.figure(figsize=(10,5))\n",
    "plt.figure(figsize=(10,5))\n",
    "\n",
    "plt.plot(states[0].t / ms, vms)\n",
    "\n",
    "# plt.figure(figsize=(6, 3))\n",
    "# fig.suptitle('adaptation')\n",
    "\n",
    "# plt.ylim(-80, -10)\n",
    "plt.show()"
   ]
  },
  {
   "cell_type": "markdown",
   "metadata": {},
   "source": [
    "PN4"
   ]
  },
  {
   "cell_type": "code",
   "execution_count": null,
   "metadata": {},
   "outputs": [],
   "source": [
    "parameters = {\n",
    "    \"c_m\": 150 * pF,\n",
    "    \"g_l\": (1/244) * nS,   # VAriable\n",
    "    \"e_l\": -70.4 * mV,    # VAriable\n",
    "    \"v_t\": -34.5 * mV,\n",
    "    \"d_t\": 2.0 * mV,\n",
    "    \"a\": 2.0 * nS,\n",
    "    \"tau_w\": 300.0 * ms,\n",
    "    \"b\": 60.0 * pA,\n",
    "    \"v_r\": (-35.4-5) * mV,  # VAriable\n",
    "    \"i_stim\": (118*2) * pA,  # VAriable\n",
    "}"
   ]
  },
  {
   "cell_type": "code",
   "execution_count": null,
   "metadata": {},
   "outputs": [],
   "source": [
    "eqs = \"\"\"\n",
    "    dvm/dt = (g_l*(e_l - vm) + g_l*d_t*exp((vm-v_t)/d_t) + i_stim - w)/c_m : volt\n",
    "    dw/dt  = (a*(vm - e_l) - w)/tau_w : amp\n",
    "    \"\"\"\n",
    "neuron = NeuronGroup(\n",
    "    1,\n",
    "    model=eqs,\n",
    "    threshold=\"vm > -28*mV\", reset=\"vm = v_r; w += b\",\n",
    "    method=\"euler\",\n",
    "    namespace=parameters,\n",
    ")\n",
    "neuron.vm = parameters[\"e_l\"]\n",
    "neuron.w = 0\n",
    "states = StateMonitor(neuron, [\"vm\", \"w\"], record=True, when=\"thresholds\")\n",
    "defaultclock.dt = 0.1 * ms\n",
    "run(2 * second)\n",
    "# clip membrane voltages to threshold (0 mV)\n",
    "vms = np.clip(states[0].vm / mV, a_min=None, a_max=0)\n",
    "plt.plot(states[0].t / ms, vms)\n",
    "\n",
    "\n",
    "plt.show()"
   ]
  },
  {
   "cell_type": "markdown",
   "metadata": {},
   "source": [
    "PN5"
   ]
  },
  {
   "cell_type": "code",
   "execution_count": null,
   "metadata": {},
   "outputs": [],
   "source": [
    "parameters = {\n",
    "    \"c_m\": 100 * pF,\n",
    "    \"g_l\": (1/488) * nS,   # VAriable\n",
    "    # Resting Potential\n",
    "    \"e_l\": -68.1 * mV,    # VAriable\n",
    "    \"v_t\": -28.1 * mV,\n",
    "    \"d_t\": 1.0 * mV,\n",
    "    \"a\": 2.0 * nS,\n",
    "    \"tau_w\": 200.0 * ms,\n",
    "    \"b\": 50.0 * pA,\n",
    "    \"v_r\": (-34.5-5) * mV,  # VAriable\n",
    "    \"i_stim\": (49.4*2) * pA,  # VAriable\n",
    "}"
   ]
  },
  {
   "cell_type": "code",
   "execution_count": null,
   "metadata": {},
   "outputs": [],
   "source": [
    "eqs = \"\"\"\n",
    "    dvm/dt = (g_l*(e_l - vm) + g_l*d_t*exp((vm-v_t)/d_t) + i_stim - w)/c_m : volt\n",
    "    dw/dt  = (a*(vm - e_l) - w)/tau_w : amp\n",
    "    \"\"\"\n",
    "neuron = NeuronGroup(\n",
    "    1,\n",
    "    model=eqs,\n",
    "    threshold=\"vm > v_t\", reset=\"vm = v_r; w += b\",\n",
    "    method=\"euler\",\n",
    "    namespace=parameters,\n",
    ")\n",
    "neuron.vm = parameters[\"e_l\"]\n",
    "neuron.w = 0\n",
    "states = StateMonitor(neuron, [\"vm\", \"w\"], record=True, when=\"thresholds\")\n",
    "defaultclock.dt = 0.1 * ms\n",
    "run(2 * second)\n",
    "# clip membrane voltages to threshold (0 mV)\n",
    "vms = np.clip(states[0].vm / mV, a_min=None, a_max=0)\n",
    "plt.plot(states[0].t / ms, vms)\n",
    "\n",
    "fig = plt.figure(figsize=(10, 5))\n",
    "fig.suptitle('PN 5')\n",
    "\n",
    "plt.show()"
   ]
  },
  {
   "cell_type": "code",
   "execution_count": null,
   "metadata": {},
   "outputs": [],
   "source": [
    "# PN1 -- Variation 1\n",
    "\n",
    "\n",
    "parameters = {\n",
    "    \"c_m\": 100 * pF,\n",
    "    \"g_l\": (1/755) * nS,   # VAriable\n",
    "    \"e_l\": -64.9 * mV,    # VAriable\n",
    "    \"v_t\": -35.6 * mV,\n",
    "    \"d_t\": 2.0 * mV,\n",
    "    \"a\": 2.0 * nS,\n",
    "    \"tau_w\": 200.0 * ms,\n",
    "    \"b\": 10 * pA,\n",
    "    \"v_r\": (-41.7-5) * mV,  # VAriable\n",
    "    \"i_stim\": (30*2) * pA,  # VAriable\n",
    "}"
   ]
  },
  {
   "cell_type": "code",
   "execution_count": null,
   "metadata": {},
   "outputs": [],
   "source": [
    "eqs = \"\"\"\n",
    "    dvm/dt = (g_l*(e_l - vm) + g_l*d_t*exp((vm-v_t)/d_t) + i_stim - w)/c_m : volt\n",
    "    dw/dt  = (a*(vm - e_l) - w)/tau_w : amp\n",
    "    \"\"\"\n",
    "neuron = NeuronGroup(\n",
    "    1,\n",
    "    model=eqs,\n",
    "    threshold=\"vm > v_t\", reset=\"vm = v_r; w += b\",\n",
    "    method=\"euler\",\n",
    "    namespace=parameters,\n",
    ")\n",
    "neuron.vm = parameters[\"e_l\"]\n",
    "neuron.w = 0\n",
    "states = StateMonitor(neuron, [\"vm\", \"w\"], record=True, when=\"thresholds\")\n",
    "defaultclock.dt = 1 * ms\n",
    "run(2 * second)\n",
    "# clip membrane voltages to threshold (0 mV)\n",
    "vms = np.clip(states[0].vm / mV, a_min=None, a_max=0)\n",
    "plt.plot(states[0].t / ms, vms)\n",
    "\n",
    "\n",
    "plt.show()"
   ]
  }
 ],
 "metadata": {
  "interpreter": {
   "hash": "aee8b7b246df8f9039afb4144a1f6fd8d2ca17a180786b69acc140d282b71a49"
  },
  "kernelspec": {
   "display_name": "Python 3.10.1 64-bit",
   "language": "python",
   "name": "python3"
  },
  "language_info": {
   "codemirror_mode": {
    "name": "ipython",
    "version": 3
   },
   "file_extension": ".py",
   "mimetype": "text/x-python",
   "name": "python",
   "nbconvert_exporter": "python",
   "pygments_lexer": "ipython3",
   "version": "3.10.1"
  },
  "orig_nbformat": 4
 },
 "nbformat": 4,
 "nbformat_minor": 2
}
