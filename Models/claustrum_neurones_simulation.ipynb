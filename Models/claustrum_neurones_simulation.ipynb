{
 "cells": [
  {
   "cell_type": "markdown",
   "metadata": {},
   "source": [
    "# ••**Clausrum Neurones Simulations**••"
   ]
  },
  {
   "cell_type": "markdown",
   "metadata": {},
   "source": [
    "Neurones Subtypes \n",
    "\n",
    "\n"
   ]
  },
  {
   "cell_type": "code",
   "execution_count": null,
   "metadata": {},
   "outputs": [],
   "source": [
    "from brian2 import *\n",
    "import matplotlib.pyplot as plt\n",
    "\n",
    "\n"
   ]
  },
  {
   "cell_type": "code",
   "execution_count": null,
   "metadata": {},
   "outputs": [],
   "source": [
    "# PN1 -- Variation 1\n",
    "\n",
    "\n",
    "parameters = {\n",
    "    \"c_m\": 200 * pF,\n",
    "    \"g_l\": (1/246.92) * nS,   # VAriable\n",
    "    \"e_l\": -73.54 * mV,    # VAriable\n",
    "    \"v_t\": -35.6 * mV,\n",
    "    \"d_t\": 2.0 * mV,\n",
    "    \"a\": 2.0 * nS,\n",
    "    \"tau_w\": 300.0 * ms,\n",
    "    \"b\": 60.0 * pA,\n",
    "    \"v_r\": (-73.54-5) * mV,  # VAriable\n",
    "    \"i_stim\": (117.34*2) * pA,  # VAriable\n",
    "}\n"
   ]
  },
  {
   "cell_type": "code",
   "execution_count": null,
   "metadata": {},
   "outputs": [],
   "source": [
    "parameters = {\n",
    "    \"c_m\": 200 * pF,\n",
    "    \"g_l\": (1/246.92) * nS,   # VAriable\n",
    "    \"e_l\": -73.54 * mV,    # VAriable\n",
    "    \"v_t\": -35.6 * mV,\n",
    "    \"d_t\": 2.0 * mV,\n",
    "    \"a\": 2.0 * nS,\n",
    "    \"tau_w\": 300.0 * ms,\n",
    "    \"b\": 60.0 * pA,\n",
    "    \"v_r\": (-73.54-5) * mV,  # VAriable\n",
    "    \"i_stim\": (117.34*2) * pA,  # VAriable\n",
    "}"
   ]
  },
  {
   "cell_type": "code",
   "execution_count": null,
   "metadata": {},
   "outputs": [],
   "source": []
  },
  {
   "cell_type": "code",
   "execution_count": 5,
   "metadata": {},
   "outputs": [
    {
     "name": "stderr",
     "output_type": "stream",
     "text": [
      "WARNING    Removing unsupported flag '-march=native' from compiler flags. [brian2.codegen.cpp_prefs]\n"
     ]
    },
    {
     "data": {
      "image/png": "[encoded data removed]",
      "text/plain": [
       "<Figure size 432x288 with 1 Axes>"
      ]
     },
     "metadata": {
      "needs_background": "light"
     },
     "output_type": "display_data"
    },
    {
     "data": {
      "text/plain": [
       "<Figure size 720x360 with 0 Axes>"
      ]
     },
     "metadata": {},
     "output_type": "display_data"
    }
   ],
   "source": [
    "eqs = \"\"\"\n",
    "    dvm/dt = (g_l*(e_l - vm) + g_l*d_t*exp((vm-v_t)/d_t) + i_stim - w)/c_m : volt\n",
    "    dw/dt  = (a*(vm - e_l) - w)/tau_w : amp\n",
    "    \"\"\"\n",
    "neuron = NeuronGroup(\n",
    "    1,\n",
    "    model=eqs,\n",
    "    threshold=\"vm > 0*mV\", reset=\"vm = v_r; w += b\",\n",
    "    method=\"euler\",\n",
    "    namespace=parameters,\n",
    ")\n",
    "neuron.vm = parameters[\"e_l\"]\n",
    "neuron.w = 0\n",
    "states = StateMonitor(neuron, [\"vm\", \"w\"], record=True, when=\"thresholds\")\n",
    "defaultclock.dt = 0.1 * ms\n",
    "run(1 * second)\n",
    "# clip membrane voltages to threshold (0 mV)\n",
    "vms = np.clip(states[0].vm / mV, a_min=None, a_max=0)\n",
    "plt.plot(states[0].t / ms, vms)\n",
    "\n",
    "fig = plt.figure(figsize=(10, 5))\n",
    "fig.suptitle('adaptation')\n",
    "\n",
    "plt.show()\n"
   ]
  },
  {
   "cell_type": "code",
   "execution_count": 6,
   "metadata": {},
   "outputs": [],
   "source": []
  },
  {
   "cell_type": "markdown",
   "metadata": {},
   "source": []
  }
 ],
 "metadata": {
  "interpreter": {
   "hash": "aee8b7b246df8f9039afb4144a1f6fd8d2ca17a180786b69acc140d282b71a49"
  },
  "kernelspec": {
   "display_name": "Python 3.10.1 64-bit",
   "language": "python",
   "name": "python3"
  },
  "language_info": {
   "codemirror_mode": {
    "name": "ipython",
    "version": 3
   },
   "file_extension": ".py",
   "mimetype": "text/x-python",
   "name": "python",
   "nbconvert_exporter": "python",
   "pygments_lexer": "ipython3",
   "version": "3.10.1"
  },
  "orig_nbformat": 4
 },
 "nbformat": 4,
 "nbformat_minor": 2
}
