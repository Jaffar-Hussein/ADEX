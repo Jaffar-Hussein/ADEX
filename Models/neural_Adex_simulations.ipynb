{
 "cells": [
  {
   "cell_type": "code",
   "execution_count": null,
   "metadata": {},
   "outputs": [],
   "source": [
    "from brian2 import *\n",
    "import matplotlib.pyplot as plt\n",
    "import numpy \n",
    "from isi_tau import df as tau_isi_dataframe\n"
   ]
  },
  {
   "cell_type": "markdown",
   "metadata": {},
   "source": [
    "# **CONTROL**"
   ]
  },
  {
   "cell_type": "code",
   "execution_count": null,
   "metadata": {},
   "outputs": [],
   "source": [
    "# Original Variables\n",
    "\n",
    "\n",
    "parameters = {\n",
    "    \"c_m\": 200 * pF,\n",
    "    \"g_l\": 10.*nS,\n",
    "    \"e_l\": -65.*mV,\n",
    "    \"v_t\": -55.*mV,\n",
    "    \"d_t\": 5.0*mV,\n",
    "    \"a\": 2.0 * nS,\n",
    "    \"tau_w\": 500.0*ms,\n",
    "    \"b\": 10.0*pA,\n",
    "    \"v_r\": -52*mV,\n",
    "    \"i_stim\": .120*nA,\n",
    "}\n"
   ]
  },
  {
   "cell_type": "code",
   "execution_count": null,
   "metadata": {},
   "outputs": [],
   "source": [
    "eqs = \"\"\"\n",
    "    dvm/dt = (g_l*(e_l - vm) + g_l*d_t*exp((vm-v_t)/d_t) + i_stim - w)/c_m : volt (unless refractory)\n",
    "    dw/dt  = (a*(vm - e_l) - w)/tau_w : amp\n",
    "    \"\"\"\n",
    "neuron = NeuronGroup(\n",
    "    1,\n",
    "    model=eqs,\n",
    "    threshold=\"vm > -40.*mV\", \n",
    "    reset=\"vm = v_r; w += b\",\n",
    "    refractory='5*ms',\n",
    "    method=\"euler\",\n",
    "    namespace=parameters,\n",
    ")\n",
    "neuron.vm = parameters[\"e_l\"]\n",
    "neuron.w = 0\n",
    "states = StateMonitor(neuron, [\"vm\", \"w\"], record=True, when=\"thresholds\")\n",
    "defaultclock.dt = 0.1 * ms\n",
    "train = SpikeMonitor(neuron,record=True)\n",
    "run(4000 * ms)\n",
    "\n",
    "# clip membrane voltages to threshold (0 mV)\n",
    "vms = np.clip(states[0].vm / mV, a_min=None, a_max=0)\n",
    "plt.plot(states[0].t / ms, vms)\n",
    "\n",
    "plt.xlabel('Time in (ms)')\n",
    "plt.ylabel('Voltage in (mV)')\n",
    "print(train.spike_trains())\n",
    "difference  = numpy.diff(train.spike_trains()[0])\n",
    "print(difference)\n",
    "plt.show()"
   ]
  },
  {
   "cell_type": "markdown",
   "metadata": {},
   "source": [
    "# **Variating the injected current**"
   ]
  },
  {
   "cell_type": "markdown",
   "metadata": {},
   "source": [
    "### $0,1nA$  "
   ]
  },
  {
   "cell_type": "code",
   "execution_count": null,
   "metadata": {},
   "outputs": [],
   "source": [
    "parameters = {\n",
    "    \"c_m\": 200 * pF,\n",
    "    \"g_l\": 10.*nS,\n",
    "    \"e_l\": -65.*mV,\n",
    "    \"v_t\": -55.*mV,\n",
    "    \"d_t\": 5.0*mV,\n",
    "    \"a\": 2.0 * nS,\n",
    "    \"tau_w\": 500.0*ms,\n",
    "    \"b\": 10.0*pA,\n",
    "    \"v_r\": -52*mV,\n",
    "    \"i_stim\": .120*nA,\n",
    "}"
   ]
  },
  {
   "cell_type": "code",
   "execution_count": null,
   "metadata": {},
   "outputs": [],
   "source": [
    "eqs = \"\"\"\n",
    "    dvm/dt = (g_l*(e_l - vm) + g_l*d_t*exp((vm-v_t)/d_t) + i_stim - w)/c_m : volt (unless refractory)\n",
    "    dw/dt  = (a*(vm - e_l) - w)/tau_w : amp\n",
    "    \"\"\"\n",
    "neuron = NeuronGroup(\n",
    "    1,\n",
    "    model=eqs,\n",
    "    threshold=\"vm > -40.*mV\", \n",
    "    reset=\"vm = v_r; w += b\",\n",
    "    refractory='5*ms',\n",
    "    method=\"euler\",\n",
    "    namespace=parameters,\n",
    ")\n",
    "neuron.vm = parameters[\"e_l\"]\n",
    "neuron.w = 0\n",
    "states = StateMonitor(neuron, [\"vm\", \"w\"], record=True, when=\"thresholds\")\n",
    "defaultclock.dt = 0.1 * ms\n",
    "run(4000 * ms)\n",
    "# clip membrane voltages to threshold (0 mV)\n",
    "vms = np.clip(states[0].vm / mV, a_min=None, a_max=0)\n",
    "plt.plot(states[0].t / ms, vms)\n",
    "# plt.xlim(500,1000)\n",
    "plt.xlabel('Time in (ms)')\n",
    "plt.ylabel('Voltage in (mV)')\n",
    "plt.figure(figsize=(10,8))\n",
    "# \n",
    "plt.show()"
   ]
  },
  {
   "cell_type": "markdown",
   "metadata": {},
   "source": [
    "### $0.5 nA$"
   ]
  },
  {
   "cell_type": "code",
   "execution_count": null,
   "metadata": {},
   "outputs": [],
   "source": [
    "parameters = {\n",
    "    \"c_m\": 200 * pF,\n",
    "    \"g_l\": 10.*nS,\n",
    "    \"e_l\": -65.*mV,\n",
    "    \"v_t\": -55.*mV,\n",
    "    \"d_t\": 5.0*mV,\n",
    "    \"a\": 2.0 * nS,\n",
    "    \"tau_w\": 500.0*ms,\n",
    "    \"b\": 10.0*pA,\n",
    "    \"v_r\": -52*mV,\n",
    "    \"i_stim\": .025*nA,\n",
    "}"
   ]
  },
  {
   "cell_type": "code",
   "execution_count": null,
   "metadata": {},
   "outputs": [],
   "source": [
    "eqs = \"\"\"\n",
    "    dvm/dt = (g_l*(e_l - vm) + g_l*d_t*exp((vm-v_t)/d_t) + i_stim - w)/c_m : volt (unless refractory)\n",
    "    dw/dt  = (a*(vm - e_l) - w)/tau_w : amp\n",
    "    \"\"\"\n",
    "neuron = NeuronGroup(\n",
    "    1,\n",
    "    model=eqs,\n",
    "    threshold=\"vm > -40.*mV\", \n",
    "    reset=\"vm = v_r; w += b\",\n",
    "    refractory='5*ms',\n",
    "    method=\"euler\",\n",
    "    namespace=parameters,\n",
    ")\n",
    "neuron.vm = parameters[\"e_l\"]\n",
    "neuron.w = 0\n",
    "states = StateMonitor(neuron, [\"vm\", \"w\"], record=True, when=\"thresholds\")\n",
    "defaultclock.dt = 0.1 * ms\n",
    "run(4000 * ms)\n",
    "# clip membrane voltages to threshold (0 mV)\n",
    "vms = np.clip(states[0].vm / mV, a_min=None, a_max=0)\n",
    "plt.plot(states[0].t / ms, vms)\n",
    "# plt.xlim(500,1000)\n",
    "plt.xlabel('Time in (ms)')\n",
    "plt.ylabel('Voltage in (mV)')\n",
    "plt.figure(figsize=(10,8))\n",
    "# \n",
    "plt.show()"
   ]
  },
  {
   "cell_type": "markdown",
   "metadata": {},
   "source": [
    "### $1nA$"
   ]
  },
  {
   "cell_type": "code",
   "execution_count": null,
   "metadata": {},
   "outputs": [],
   "source": [
    "parameters = {\n",
    "    \"c_m\": 200 * pF,\n",
    "    \"g_l\": 10.*nS,\n",
    "    \"e_l\": -65.*mV,\n",
    "    \"v_t\": -55.*mV,\n",
    "    \"d_t\": 5.0*mV,\n",
    "    \"a\": 2.0 * nS,\n",
    "    \"tau_w\": 500.0*ms,\n",
    "    \"b\": 10.0*pA,\n",
    "    \"v_r\": -52*mV,\n",
    "    \"i_stim\": 1*nA,\n",
    "}"
   ]
  },
  {
   "cell_type": "code",
   "execution_count": null,
   "metadata": {},
   "outputs": [],
   "source": [
    "eqs = \"\"\"\n",
    "    dvm/dt = (g_l*(e_l - vm) + g_l*d_t*exp((vm-v_t)/d_t) + i_stim - w)/c_m : volt (unless refractory)\n",
    "    dw/dt  = (a*(vm - e_l) - w)/tau_w : amp\n",
    "    \"\"\"\n",
    "neuron = NeuronGroup(\n",
    "    1,\n",
    "    model=eqs,\n",
    "    threshold=\"vm > -40.*mV\", \n",
    "    reset=\"vm = v_r; w += b\",\n",
    "    refractory='5*ms',\n",
    "    method=\"euler\",\n",
    "    namespace=parameters,\n",
    ")\n",
    "neuron.vm = parameters[\"e_l\"]\n",
    "neuron.w = 0\n",
    "states = StateMonitor(neuron, [\"vm\", \"w\"], record=True, when=\"thresholds\")\n",
    "defaultclock.dt = 0.1 * ms\n",
    "run(4000 * ms)\n",
    "# clip membrane voltages to threshold (0 mV)\n",
    "vms = np.clip(states[0].vm / mV, a_min=None, a_max=0)\n",
    "plt.plot(states[0].t / ms, vms)\n",
    "\n",
    "plt.xlabel('Time in (ms)')\n",
    "plt.ylabel('Voltage in (mV)')\n",
    "\n",
    "plt.show()"
   ]
  },
  {
   "cell_type": "markdown",
   "metadata": {},
   "source": [
    "### $5 nA$"
   ]
  },
  {
   "cell_type": "code",
   "execution_count": null,
   "metadata": {},
   "outputs": [],
   "source": [
    "parameters = {\n",
    "    \"c_m\": 200 * pF,\n",
    "    \"g_l\": 10.*nS,\n",
    "    \"e_l\": -65.*mV,\n",
    "    \"v_t\": -55.*mV,\n",
    "    \"d_t\": 5.0*mV,\n",
    "    \"a\": 2.0 * nS,\n",
    "    \"tau_w\": 500.0*ms,\n",
    "    \"b\": 10.0*pA,\n",
    "    \"v_r\": -52*mV,\n",
    "    \"i_stim\": 5*nA,\n",
    "}"
   ]
  },
  {
   "cell_type": "code",
   "execution_count": null,
   "metadata": {},
   "outputs": [],
   "source": [
    "eqs = \"\"\"\n",
    "    dvm/dt = (g_l*(e_l - vm) + g_l*d_t*exp((vm-v_t)/d_t) + i_stim - w)/c_m : volt (unless refractory)\n",
    "    dw/dt  = (a*(vm - e_l) - w)/tau_w : amp\n",
    "    \"\"\"\n",
    "neuron = NeuronGroup(\n",
    "    1,\n",
    "    model=eqs,\n",
    "    threshold=\"vm > -40.*mV\", \n",
    "    reset=\"vm = v_r; w += b\",\n",
    "    refractory='5*ms',\n",
    "    method=\"euler\",\n",
    "    namespace=parameters,\n",
    ")\n",
    "neuron.vm = parameters[\"e_l\"]\n",
    "neuron.w = 0\n",
    "states = StateMonitor(neuron, [\"vm\", \"w\"], record=True, when=\"thresholds\")\n",
    "defaultclock.dt = 0.1 * ms\n",
    "run(4000 * ms)\n",
    "# clip membrane voltages to threshold (0 mV)\n",
    "vms = np.clip(states[0].vm / mV, a_min=None, a_max=0)\n",
    "plt.plot(states[0].t / ms, vms)\n",
    "\n",
    "plt.xlabel('Time in (ms)')\n",
    "plt.ylabel('Voltage in (mV)')\n",
    "\n",
    "plt.show()"
   ]
  },
  {
   "cell_type": "markdown",
   "metadata": {},
   "source": [
    "### $10 nA$"
   ]
  },
  {
   "cell_type": "code",
   "execution_count": null,
   "metadata": {},
   "outputs": [],
   "source": [
    "parameters = {\n",
    "    \"c_m\": 200 * pF,\n",
    "    \"g_l\": 10.*nS,\n",
    "    \"e_l\": -65.*mV,\n",
    "    \"v_t\": -55.*mV,\n",
    "    \"d_t\": 5.0*mV,\n",
    "    \"a\": 2.0 * nS,\n",
    "    \"tau_w\": 500.0*ms,\n",
    "    \"b\": 10.0*pA,\n",
    "    \"v_r\": -52*mV,\n",
    "    \"i_stim\": 10*nA,\n",
    "}"
   ]
  },
  {
   "cell_type": "code",
   "execution_count": null,
   "metadata": {},
   "outputs": [],
   "source": [
    "eqs = \"\"\"\n",
    "    dvm/dt = (g_l*(e_l - vm) + g_l*d_t*exp((vm-v_t)/d_t) + i_stim - w)/c_m : volt (unless refractory)\n",
    "    dw/dt  = (a*(vm - e_l) - w)/tau_w : amp\n",
    "    \"\"\"\n",
    "neuron = NeuronGroup(\n",
    "    1,\n",
    "    model=eqs,\n",
    "    threshold=\"vm > -40.*mV\", \n",
    "    reset=\"vm = v_r; w += b\",\n",
    "    refractory='5*ms',\n",
    "    method=\"euler\",\n",
    "    namespace=parameters,\n",
    ")\n",
    "neuron.vm = parameters[\"e_l\"]\n",
    "neuron.w = 0\n",
    "states = StateMonitor(neuron, [\"vm\", \"w\"], record=True, when=\"thresholds\")\n",
    "defaultclock.dt = 0.1 * ms\n",
    "run(4000 * ms)\n",
    "# clip membrane voltages to threshold (0 mV)\n",
    "vms = np.clip(states[0].vm / mV, a_min=None, a_max=0)\n",
    "plt.plot(states[0].t / ms, vms)\n",
    "\n",
    "plt.xlabel('Time in (ms)')\n",
    "plt.ylabel('Voltage in (mV)')\n",
    "\n",
    "plt.show()"
   ]
  },
  {
   "cell_type": "markdown",
   "metadata": {},
   "source": [
    "# **Variating values of $a$**"
   ]
  },
  {
   "cell_type": "markdown",
   "metadata": {},
   "source": [
    "### $1nS$"
   ]
  },
  {
   "cell_type": "code",
   "execution_count": null,
   "metadata": {},
   "outputs": [],
   "source": [
    "parameters = {\n",
    "    \"c_m\": 200 * pF,\n",
    "    \"g_l\": 10.*nS,\n",
    "    \"e_l\": -65.*mV,\n",
    "    \"v_t\": -55.*mV,\n",
    "    \"d_t\": 5.0*mV,\n",
    "    \"a\": 1.0 * nS,\n",
    "    \"tau_w\": 500.0*ms,\n",
    "    \"b\": 10.0*pA,\n",
    "    \"v_r\": -52*mV,\n",
    "    \"i_stim\": .120*nA,\n",
    "}"
   ]
  },
  {
   "cell_type": "code",
   "execution_count": null,
   "metadata": {},
   "outputs": [],
   "source": [
    "eqs = \"\"\"\n",
    "    dvm/dt = (g_l*(e_l - vm) + g_l*d_t*exp((vm-v_t)/d_t) + i_stim - w)/c_m : volt (unless refractory)\n",
    "    dw/dt  = (a*(vm - e_l) - w)/tau_w : amp\n",
    "    \"\"\"\n",
    "neuron = NeuronGroup(\n",
    "    1,\n",
    "    model=eqs,\n",
    "    threshold=\"vm > -40.*mV\", \n",
    "    reset=\"vm = v_r; w += b\",\n",
    "    refractory='5*ms',\n",
    "    method=\"euler\",\n",
    "    namespace=parameters,\n",
    ")\n",
    "neuron.vm = parameters[\"e_l\"]\n",
    "neuron.w = 0\n",
    "states = StateMonitor(neuron, [\"vm\", \"w\"], record=True, when=\"thresholds\")\n",
    "defaultclock.dt = 0.1 * ms\n",
    "run(4000 * ms)\n",
    "# clip membrane voltages to threshold (0 mV)\n",
    "vms = np.clip(states[0].vm / mV, a_min=None, a_max=0)\n",
    "plt.plot(states[0].t / ms, vms)\n",
    "\n",
    "plt.xlabel('Time in (ms)')\n",
    "plt.ylabel('Voltage in (mV)')\n",
    "\n",
    "plt.show()"
   ]
  },
  {
   "cell_type": "markdown",
   "metadata": {},
   "source": [
    "### $2nS$"
   ]
  },
  {
   "cell_type": "code",
   "execution_count": null,
   "metadata": {},
   "outputs": [],
   "source": [
    "\n",
    "parameters = {\n",
    "    \"c_m\": 200 * pF,\n",
    "    \"g_l\": 10.*nS,\n",
    "    \"e_l\": -65.*mV,\n",
    "    \"v_t\": -55.*mV,\n",
    "    \"d_t\": 5.0*mV,\n",
    "    \"a\": 2.0 * nS,\n",
    "    \"tau_w\": 500.0*ms,\n",
    "    \"b\": 10.0*pA,\n",
    "    \"v_r\": -52*mV,\n",
    "    \"i_stim\": .120*nA,\n",
    "}"
   ]
  },
  {
   "cell_type": "code",
   "execution_count": null,
   "metadata": {},
   "outputs": [],
   "source": [
    "eqs = \"\"\"\n",
    "    dvm/dt = (g_l*(e_l - vm) + g_l*d_t*exp((vm-v_t)/d_t) + i_stim - w)/c_m : volt (unless refractory)\n",
    "    dw/dt  = (a*(vm - e_l) - w)/tau_w : amp\n",
    "    \"\"\"\n",
    "neuron = NeuronGroup(\n",
    "    1,\n",
    "    model=eqs,\n",
    "    threshold=\"vm > -40.*mV\", \n",
    "    reset=\"vm = v_r; w += b\",\n",
    "    refractory='5*ms',\n",
    "    method=\"euler\",\n",
    "    namespace=parameters,\n",
    ")\n",
    "neuron.vm = parameters[\"e_l\"]\n",
    "neuron.w = 0\n",
    "states = StateMonitor(neuron, [\"vm\", \"w\"], record=True, when=\"thresholds\")\n",
    "defaultclock.dt = 0.1 * ms\n",
    "run(4000 * ms)\n",
    "# clip membrane voltages to threshold (0 mV)\n",
    "vms = np.clip(states[0].vm / mV, a_min=None, a_max=0)\n",
    "plt.plot(states[0].t / ms, vms)\n",
    "\n",
    "plt.xlabel('Time in (ms)')\n",
    "plt.ylabel('Voltage in (mV)')\n",
    "\n",
    "plt.show()"
   ]
  },
  {
   "cell_type": "markdown",
   "metadata": {},
   "source": [
    "### $5nS$"
   ]
  },
  {
   "cell_type": "code",
   "execution_count": null,
   "metadata": {},
   "outputs": [],
   "source": [
    "\n",
    "parameters = {\n",
    "    \"c_m\": 200 * pF,\n",
    "    \"g_l\": 10.*nS,\n",
    "    \"e_l\": -65.*mV,\n",
    "    \"v_t\": -55.*mV,\n",
    "    \"d_t\": 5.0*mV,\n",
    "    \"a\": 5.0 * nS,\n",
    "    \"tau_w\": 500.0*ms,\n",
    "    \"b\": 10.0*pA,\n",
    "    \"v_r\": -52*mV,\n",
    "    \"i_stim\": .120*nA,\n",
    "}"
   ]
  },
  {
   "cell_type": "code",
   "execution_count": null,
   "metadata": {},
   "outputs": [],
   "source": [
    "eqs = \"\"\"\n",
    "    dvm/dt = (g_l*(e_l - vm) + g_l*d_t*exp((vm-v_t)/d_t) + i_stim - w)/c_m : volt (unless refractory)\n",
    "    dw/dt  = (a*(vm - e_l) - w)/tau_w : amp\n",
    "    \"\"\"\n",
    "neuron = NeuronGroup(\n",
    "    1,\n",
    "    model=eqs,\n",
    "    threshold=\"vm > -40.*mV\", \n",
    "    reset=\"vm = v_r; w += b\",\n",
    "    refractory='5*ms',\n",
    "    method=\"euler\",\n",
    "    namespace=parameters,\n",
    ")\n",
    "neuron.vm = parameters[\"e_l\"]\n",
    "neuron.w = 0\n",
    "states = StateMonitor(neuron, [\"vm\", \"w\"], record=True, when=\"thresholds\")\n",
    "defaultclock.dt = 0.1 * ms\n",
    "run(4000 * ms)\n",
    "# clip membrane voltages to threshold (0 mV)\n",
    "vms = np.clip(states[0].vm / mV, a_min=None, a_max=0)\n",
    "plt.plot(states[0].t / ms, vms)\n",
    "\n",
    "plt.xlabel('Time in (ms)')\n",
    "plt.ylabel('Voltage in (mV)')\n",
    "\n",
    "plt.show()"
   ]
  },
  {
   "cell_type": "markdown",
   "metadata": {},
   "source": [
    "### $10nS$"
   ]
  },
  {
   "cell_type": "code",
   "execution_count": null,
   "metadata": {},
   "outputs": [],
   "source": [
    "parameters = {\n",
    "    \"c_m\": 200 * pF,\n",
    "    \"g_l\": 10.*nS,\n",
    "    \"e_l\": -65.*mV,\n",
    "    \"v_t\": -55.*mV,\n",
    "    \"d_t\": 5.0*mV,\n",
    "    \"a\": 10.0 * nS,\n",
    "    \"tau_w\": 500.0*ms,\n",
    "    \"b\": 10.0*pA,\n",
    "    \"v_r\": -52*mV,\n",
    "    \"i_stim\": .120*nA,\n",
    "}"
   ]
  },
  {
   "cell_type": "code",
   "execution_count": null,
   "metadata": {},
   "outputs": [],
   "source": [
    "eqs = \"\"\"\n",
    "    dvm/dt = (g_l*(e_l - vm) + g_l*d_t*exp((vm-v_t)/d_t) + i_stim - w)/c_m : volt (unless refractory)\n",
    "    dw/dt  = (a*(vm - e_l) - w)/tau_w : amp\n",
    "    \"\"\"\n",
    "neuron = NeuronGroup(\n",
    "    1,\n",
    "    model=eqs,\n",
    "    threshold=\"vm > -40.*mV\", \n",
    "    reset=\"vm = v_r; w += b\",\n",
    "    refractory='5*ms',\n",
    "    method=\"euler\",\n",
    "    namespace=parameters,\n",
    ")\n",
    "neuron.vm = parameters[\"e_l\"]\n",
    "neuron.w = 0\n",
    "states = StateMonitor(neuron, [\"vm\", \"w\"], record=True, when=\"thresholds\")\n",
    "defaultclock.dt = 0.1 * ms\n",
    "run(4000 * ms)\n",
    "# clip membrane voltages to threshold (0 mV)\n",
    "vms = np.clip(states[0].vm / mV, a_min=None, a_max=0)\n",
    "plt.plot(states[0].t / ms, vms)\n",
    "\n",
    "plt.xlabel('Time in (ms)')\n",
    "plt.ylabel('Voltage in (mV)')\n",
    "\n",
    "plt.show()"
   ]
  },
  {
   "cell_type": "markdown",
   "metadata": {},
   "source": [
    "## **Variating the value of $b$**"
   ]
  },
  {
   "cell_type": "markdown",
   "metadata": {},
   "source": [
    "### $1pA$"
   ]
  },
  {
   "cell_type": "code",
   "execution_count": null,
   "metadata": {},
   "outputs": [],
   "source": [
    "parameters = {\n",
    "    \"c_m\": 200 * pF,\n",
    "    \"g_l\": 10.*nS,\n",
    "    \"e_l\": -65.*mV,\n",
    "    \"v_t\": -55.*mV,\n",
    "    \"d_t\": 5.0*mV,\n",
    "    \"a\": 2.0 * nS,\n",
    "    \"tau_w\": 500.0*ms,\n",
    "    \"b\": 1.0*pA,\n",
    "    \"v_r\": -52*mV,\n",
    "    \"i_stim\": .120*nA,\n",
    "}"
   ]
  },
  {
   "cell_type": "code",
   "execution_count": null,
   "metadata": {},
   "outputs": [],
   "source": [
    "eqs = \"\"\"\n",
    "    dvm/dt = (g_l*(e_l - vm) + g_l*d_t*exp((vm-v_t)/d_t) + i_stim - w)/c_m : volt (unless refractory)\n",
    "    dw/dt  = (a*(vm - e_l) - w)/tau_w : amp\n",
    "    \"\"\"\n",
    "neuron = NeuronGroup(\n",
    "    1,\n",
    "    model=eqs,\n",
    "    threshold=\"vm > -40.*mV\", \n",
    "    reset=\"vm = v_r; w += b\",\n",
    "    refractory='5*ms',\n",
    "    method=\"euler\",\n",
    "    namespace=parameters,\n",
    ")\n",
    "neuron.vm = parameters[\"e_l\"]\n",
    "neuron.w = 0\n",
    "states = StateMonitor(neuron, [\"vm\", \"w\"], record=True, when=\"thresholds\")\n",
    "defaultclock.dt = 0.1 * ms\n",
    "run(4000 * ms)\n",
    "# clip membrane voltages to threshold (0 mV)\n",
    "vms = np.clip(states[0].vm / mV, a_min=None, a_max=0)\n",
    "plt.plot(states[0].t / ms, vms)\n",
    "\n",
    "plt.xlabel('Time in (ms)')\n",
    "plt.ylabel('Voltage in (mV)')\n",
    "\n",
    "plt.show()"
   ]
  },
  {
   "cell_type": "markdown",
   "metadata": {},
   "source": [
    "### $5pA$"
   ]
  },
  {
   "cell_type": "code",
   "execution_count": null,
   "metadata": {},
   "outputs": [],
   "source": [
    "parameters = {\n",
    "    \"c_m\": 200 * pF,\n",
    "    \"g_l\": 10.*nS,\n",
    "    \"e_l\": -65.*mV,\n",
    "    \"v_t\": -55.*mV,\n",
    "    \"d_t\": 5.0*mV,\n",
    "    \"a\": 2.0 * nS,\n",
    "    \"tau_w\": 500.0*ms,\n",
    "    \"b\": 5.0*pA,\n",
    "    \"v_r\": -52*mV,\n",
    "    \"i_stim\": .120*nA,\n",
    "}"
   ]
  },
  {
   "cell_type": "code",
   "execution_count": null,
   "metadata": {},
   "outputs": [],
   "source": [
    "eqs = \"\"\"\n",
    "    dvm/dt = (g_l*(e_l - vm) + g_l*d_t*exp((vm-v_t)/d_t) + i_stim - w)/c_m : volt (unless refractory)\n",
    "    dw/dt  = (a*(vm - e_l) - w)/tau_w : amp\n",
    "    \"\"\"\n",
    "neuron = NeuronGroup(\n",
    "    1,\n",
    "    model=eqs,\n",
    "    threshold=\"vm > -40.*mV\", \n",
    "    reset=\"vm = v_r; w += b\",\n",
    "    refractory='5*ms',\n",
    "    method=\"euler\",\n",
    "    namespace=parameters,\n",
    ")\n",
    "neuron.vm = parameters[\"e_l\"]\n",
    "neuron.w = 0\n",
    "states = StateMonitor(neuron, [\"vm\", \"w\"], record=True, when=\"thresholds\")\n",
    "defaultclock.dt = 0.1 * ms\n",
    "run(4000 * ms)\n",
    "# clip membrane voltages to threshold (0 mV)\n",
    "vms = np.clip(states[0].vm / mV, a_min=None, a_max=0)\n",
    "plt.plot(states[0].t / ms, vms)\n",
    "\n",
    "plt.xlabel('Time in (ms)')\n",
    "plt.ylabel('Voltage in (mV)')\n",
    "\n",
    "plt.show()"
   ]
  },
  {
   "cell_type": "markdown",
   "metadata": {},
   "source": [
    "### Control $10pA$"
   ]
  },
  {
   "cell_type": "code",
   "execution_count": null,
   "metadata": {},
   "outputs": [],
   "source": [
    "parameters = {\n",
    "    \"c_m\": 200 * pF,\n",
    "    \"g_l\": 10.*nS,\n",
    "    \"e_l\": -65.*mV,\n",
    "    \"v_t\": -55.*mV,\n",
    "    \"d_t\": 5.0*mV,\n",
    "    \"a\": 2.0 * nS,\n",
    "    \"tau_w\": 500.0*ms,\n",
    "    \"b\": 10.0*pA,\n",
    "    \"v_r\": -52*mV,\n",
    "    \"i_stim\": .120*nA,\n",
    "}"
   ]
  },
  {
   "cell_type": "code",
   "execution_count": null,
   "metadata": {},
   "outputs": [],
   "source": [
    "eqs = \"\"\"\n",
    "    dvm/dt = (g_l*(e_l - vm) + g_l*d_t*exp((vm-v_t)/d_t) + i_stim - w)/c_m : volt (unless refractory)\n",
    "    dw/dt  = (a*(vm - e_l) - w)/tau_w : amp\n",
    "    \"\"\"\n",
    "neuron = NeuronGroup(\n",
    "    1,\n",
    "    model=eqs,\n",
    "    threshold=\"vm > -40.*mV\", \n",
    "    reset=\"vm = v_r; w += b\",\n",
    "    refractory='5*ms',\n",
    "    method=\"euler\",\n",
    "    namespace=parameters,\n",
    ")\n",
    "neuron.vm = parameters[\"e_l\"]\n",
    "neuron.w = 0\n",
    "states = StateMonitor(neuron, [\"vm\", \"w\"], record=True, when=\"thresholds\")\n",
    "defaultclock.dt = 0.1 * ms\n",
    "run(4000 * ms)\n",
    "# clip membrane voltages to threshold (0 mV)\n",
    "vms = np.clip(states[0].vm / mV, a_min=None, a_max=0)\n",
    "plt.plot(states[0].t / ms, vms)\n",
    "\n",
    "plt.xlabel('Time in (ms)')\n",
    "plt.ylabel('Voltage in (mV)')\n",
    "\n",
    "plt.show()"
   ]
  },
  {
   "cell_type": "markdown",
   "metadata": {},
   "source": [
    "### $15pA$"
   ]
  },
  {
   "cell_type": "code",
   "execution_count": null,
   "metadata": {},
   "outputs": [],
   "source": [
    "parameters = {\n",
    "    \"c_m\": 200 * pF,\n",
    "    \"g_l\": 10.*nS,\n",
    "    \"e_l\": -65.*mV,\n",
    "    \"v_t\": -55.*mV,\n",
    "    \"d_t\": 5.0*mV,\n",
    "    \"a\": 2.0 * nS,\n",
    "    \"tau_w\": 500.0*ms,\n",
    "    \"b\": 15.0*pA,\n",
    "    \"v_r\": -52*mV,\n",
    "    \"i_stim\": .120*nA,\n",
    "}"
   ]
  },
  {
   "cell_type": "code",
   "execution_count": null,
   "metadata": {},
   "outputs": [],
   "source": [
    "eqs = \"\"\"\n",
    "    dvm/dt = (g_l*(e_l - vm) + g_l*d_t*exp((vm-v_t)/d_t) + i_stim - w)/c_m : volt (unless refractory)\n",
    "    dw/dt  = (a*(vm - e_l) - w)/tau_w : amp\n",
    "    \"\"\"\n",
    "neuron = NeuronGroup(\n",
    "    1,\n",
    "    model=eqs,\n",
    "    threshold=\"vm > -40.*mV\", \n",
    "    reset=\"vm = v_r; w += b\",\n",
    "    refractory='5*ms',\n",
    "    method=\"euler\",\n",
    "    namespace=parameters,\n",
    ")\n",
    "neuron.vm = parameters[\"e_l\"]\n",
    "neuron.w = 0\n",
    "states = StateMonitor(neuron, [\"vm\", \"w\"], record=True, when=\"thresholds\")\n",
    "defaultclock.dt = 0.1 * ms\n",
    "run(4000 * ms)\n",
    "# clip membrane voltages to threshold (0 mV)\n",
    "vms = np.clip(states[0].vm / mV, a_min=None, a_max=0)\n",
    "plt.plot(states[0].t / ms, vms)\n",
    "\n",
    "plt.xlabel('Time in (ms)')\n",
    "plt.ylabel('Voltage in (mV)')\n",
    "\n",
    "plt.show()"
   ]
  },
  {
   "cell_type": "markdown",
   "metadata": {},
   "source": [
    "### $20pA$"
   ]
  },
  {
   "cell_type": "code",
   "execution_count": null,
   "metadata": {},
   "outputs": [],
   "source": [
    "parameters = {\n",
    "    \"c_m\": 200 * pF,\n",
    "    \"g_l\": 10.*nS,\n",
    "    \"e_l\": -65.*mV,\n",
    "    \"v_t\": -55.*mV,\n",
    "    \"d_t\": 5.0*mV,\n",
    "    \"a\": 2.0 * nS,\n",
    "    \"tau_w\": 500.0*ms,\n",
    "    \"b\": 20.0*pA,\n",
    "    \"v_r\": -52*mV,\n",
    "    \"i_stim\": .120*nA,\n",
    "}"
   ]
  },
  {
   "cell_type": "code",
   "execution_count": null,
   "metadata": {},
   "outputs": [],
   "source": [
    "eqs = \"\"\"\n",
    "    dvm/dt = (g_l*(e_l - vm) + g_l*d_t*exp((vm-v_t)/d_t) + i_stim - w)/c_m : volt (unless refractory)\n",
    "    dw/dt  = (a*(vm - e_l) - w)/tau_w : amp\n",
    "    \"\"\"\n",
    "neuron = NeuronGroup(\n",
    "    1,\n",
    "    model=eqs,\n",
    "    threshold=\"vm > -40.*mV\", \n",
    "    reset=\"vm = v_r; w += b\",\n",
    "    refractory='5*ms',\n",
    "    method=\"euler\",\n",
    "    namespace=parameters,\n",
    ")\n",
    "neuron.vm = parameters[\"e_l\"]\n",
    "neuron.w = 0\n",
    "states = StateMonitor(neuron, [\"vm\", \"w\"], record=True, when=\"thresholds\")\n",
    "defaultclock.dt = 0.1 * ms\n",
    "run(4000 * ms)\n",
    "# clip membrane voltages to threshold (0 mV)\n",
    "vms = np.clip(states[0].vm / mV, a_min=None, a_max=0)\n",
    "plt.plot(states[0].t / ms, vms)\n",
    "\n",
    "plt.xlabel('Time in (ms)')\n",
    "plt.ylabel('Voltage in (mV)')\n",
    "\n",
    "plt.show()"
   ]
  },
  {
   "cell_type": "markdown",
   "metadata": {},
   "source": [
    "# **Variatung values $tau$**"
   ]
  },
  {
   "cell_type": "markdown",
   "metadata": {},
   "source": [
    "### $200ms$"
   ]
  },
  {
   "cell_type": "code",
   "execution_count": null,
   "metadata": {},
   "outputs": [],
   "source": [
    "parameters = {\n",
    "    \"c_m\": 200 * pF,\n",
    "    \"g_l\": 10.*nS,\n",
    "    \"e_l\": -65.*mV,\n",
    "    \"v_t\": -55.*mV,\n",
    "    \"d_t\": 5.0*mV,\n",
    "    \"a\": 2.0 * nS,\n",
    "    \"tau_w\": 200.0*ms,\n",
    "    \"b\": 10.0*pA,\n",
    "    \"v_r\": -52*mV,\n",
    "    \"i_stim\": .120*nA,\n",
    "}"
   ]
  },
  {
   "cell_type": "code",
   "execution_count": null,
   "metadata": {},
   "outputs": [],
   "source": [
    "eqs = \"\"\"\n",
    "    dvm/dt = (g_l*(e_l - vm) + g_l*d_t*exp((vm-v_t)/d_t) + i_stim - w)/c_m : volt (unless refractory)\n",
    "    dw/dt  = (a*(vm - e_l) - w)/tau_w : amp\n",
    "    \"\"\"\n",
    "neuron = NeuronGroup(\n",
    "    1,\n",
    "    model=eqs,\n",
    "    threshold=\"vm > -40.*mV\", \n",
    "    reset=\"vm = v_r; w += b\",\n",
    "    refractory='5*ms',\n",
    "    method=\"euler\",\n",
    "    namespace=parameters,\n",
    ")\n",
    "neuron.vm = parameters[\"e_l\"]\n",
    "neuron.w = 0\n",
    "states = StateMonitor(neuron, [\"vm\", \"w\"], record=True, when=\"thresholds\")\n",
    "defaultclock.dt = 0.1 * ms\n",
    "run(4000 * ms)\n",
    "# clip membrane voltages to threshold (0 mV)\n",
    "vms = np.clip(states[0].vm / mV, a_min=None, a_max=0)\n",
    "plt.plot(states[0].t / ms, vms)\n",
    "\n",
    "plt.xlabel('Time in (ms)')\n",
    "plt.ylabel('Voltage in (mV)')\n",
    "\n",
    "plt.show()"
   ]
  },
  {
   "cell_type": "markdown",
   "metadata": {},
   "source": [
    "### $300ms$"
   ]
  },
  {
   "cell_type": "code",
   "execution_count": null,
   "metadata": {},
   "outputs": [],
   "source": [
    "parameters = {\n",
    "    \"c_m\": 200 * pF,\n",
    "    \"g_l\": 10.*nS,\n",
    "    \"e_l\": -65.*mV,\n",
    "    \"v_t\": -55.*mV,\n",
    "    \"d_t\": 5.0*mV,\n",
    "    \"a\": 2.0 * nS,\n",
    "    \"tau_w\": 300.0*ms,\n",
    "    \"b\": 10.0*pA,\n",
    "    \"v_r\": -52*mV,\n",
    "    \"i_stim\": .120*nA,\n",
    "}"
   ]
  },
  {
   "cell_type": "code",
   "execution_count": null,
   "metadata": {},
   "outputs": [],
   "source": [
    "eqs = \"\"\"\n",
    "    dvm/dt = (g_l*(e_l - vm) + g_l*d_t*exp((vm-v_t)/d_t) + i_stim - w)/c_m : volt (unless refractory)\n",
    "    dw/dt  = (a*(vm - e_l) - w)/tau_w : amp\n",
    "    \"\"\"\n",
    "neuron = NeuronGroup(\n",
    "    1,\n",
    "    model=eqs,\n",
    "    threshold=\"vm > -40.*mV\", \n",
    "    reset=\"vm = v_r; w += b\",\n",
    "    refractory='5*ms',\n",
    "    method=\"euler\",\n",
    "    namespace=parameters,\n",
    ")\n",
    "neuron.vm = parameters[\"e_l\"]\n",
    "neuron.w = 0\n",
    "states = StateMonitor(neuron, [\"vm\", \"w\"], record=True, when=\"thresholds\")\n",
    "defaultclock.dt = 0.1 * ms\n",
    "run(4000 * ms)\n",
    "# clip membrane voltages to threshold (0 mV)\n",
    "vms = np.clip(states[0].vm / mV, a_min=None, a_max=0)\n",
    "plt.plot(states[0].t / ms, vms)\n",
    "\n",
    "plt.xlabel('Time in (ms)')\n",
    "plt.ylabel('Voltage in (mV)')\n",
    "\n",
    "plt.show()"
   ]
  },
  {
   "cell_type": "markdown",
   "metadata": {},
   "source": [
    "### $400ms$"
   ]
  },
  {
   "cell_type": "code",
   "execution_count": null,
   "metadata": {},
   "outputs": [],
   "source": [
    "parameters = {\n",
    "    \"c_m\": 200 * pF,\n",
    "    \"g_l\": 10.*nS,\n",
    "    \"e_l\": -65.*mV,\n",
    "    \"v_t\": -55.*mV,\n",
    "    \"d_t\": 5.0*mV,\n",
    "    \"a\": 2.0 * nS,\n",
    "    \"tau_w\": 400.0*ms,\n",
    "    \"b\": 10.0*pA,\n",
    "    \"v_r\": -52*mV,\n",
    "    \"i_stim\": .120*nA,\n",
    "}"
   ]
  },
  {
   "cell_type": "code",
   "execution_count": null,
   "metadata": {},
   "outputs": [],
   "source": [
    "eqs = \"\"\"\n",
    "    dvm/dt = (g_l*(e_l - vm) + g_l*d_t*exp((vm-v_t)/d_t) + i_stim - w)/c_m : volt (unless refractory)\n",
    "    dw/dt  = (a*(vm - e_l) - w)/tau_w : amp\n",
    "    \"\"\"\n",
    "neuron = NeuronGroup(\n",
    "    1,\n",
    "    model=eqs,\n",
    "    threshold=\"vm > -40.*mV\", \n",
    "    reset=\"vm = v_r; w += b\",\n",
    "    refractory='5*ms',\n",
    "    method=\"euler\",\n",
    "    namespace=parameters,\n",
    ")\n",
    "neuron.vm = parameters[\"e_l\"]\n",
    "neuron.w = 0\n",
    "states = StateMonitor(neuron, [\"vm\", \"w\"], record=True, when=\"thresholds\")\n",
    "defaultclock.dt = 0.1 * ms\n",
    "run(4000 * ms)\n",
    "# clip membrane voltages to threshold (0 mV)\n",
    "vms = np.clip(states[0].vm / mV, a_min=None, a_max=0)\n",
    "plt.plot(states[0].t / ms, vms)\n",
    "\n",
    "plt.xlabel('Time in (ms)')\n",
    "plt.ylabel('Voltage in (mV)')\n",
    "\n",
    "plt.show()"
   ]
  },
  {
   "cell_type": "markdown",
   "metadata": {},
   "source": [
    "### $500ms$"
   ]
  },
  {
   "cell_type": "code",
   "execution_count": null,
   "metadata": {},
   "outputs": [],
   "source": [
    "parameters = {\n",
    "    \"c_m\": 200 * pF,\n",
    "    \"g_l\": 10.*nS,\n",
    "    \"e_l\": -65.*mV,\n",
    "    \"v_t\": -55.*mV,\n",
    "    \"d_t\": 5.0*mV,\n",
    "    \"a\": 2.0 * nS,\n",
    "    \"tau_w\": 500.0*ms,\n",
    "    \"b\": 10.0*pA,\n",
    "    \"v_r\": -52*mV,\n",
    "    \"i_stim\": .120*nA,\n",
    "}"
   ]
  },
  {
   "cell_type": "code",
   "execution_count": null,
   "metadata": {},
   "outputs": [],
   "source": [
    "eqs = \"\"\"\n",
    "    dvm/dt = (g_l*(e_l - vm) + g_l*d_t*exp((vm-v_t)/d_t) + i_stim - w)/c_m : volt (unless refractory)\n",
    "    dw/dt  = (a*(vm - e_l) - w)/tau_w : amp\n",
    "    \"\"\"\n",
    "neuron = NeuronGroup(\n",
    "    1,\n",
    "    model=eqs,\n",
    "    threshold=\"vm > -40.*mV\", \n",
    "    reset=\"vm = v_r; w += b\",\n",
    "    refractory='5*ms',\n",
    "    method=\"euler\",\n",
    "    namespace=parameters,\n",
    ")\n",
    "neuron.vm = parameters[\"e_l\"]\n",
    "neuron.w = 0\n",
    "states = StateMonitor(neuron, [\"vm\", \"w\"], record=True, when=\"thresholds\")\n",
    "defaultclock.dt = 0.1 * ms\n",
    "run(4000 * ms)\n",
    "# clip membrane voltages to threshold (0 mV)\n",
    "vms = np.clip(states[0].vm / mV, a_min=None, a_max=0)\n",
    "plt.plot(states[0].t / ms, vms)\n",
    "\n",
    "plt.xlabel('Time in (ms)')\n",
    "plt.ylabel('Voltage in (mV)')\n",
    "\n",
    "plt.show()"
   ]
  },
  {
   "cell_type": "markdown",
   "metadata": {},
   "source": [
    "### $600ms$"
   ]
  },
  {
   "cell_type": "code",
   "execution_count": null,
   "metadata": {},
   "outputs": [],
   "source": [
    "parameters = {\n",
    "    \"c_m\": 200 * pF,\n",
    "    \"g_l\": 10.*nS,\n",
    "    \"e_l\": -65.*mV,\n",
    "    \"v_t\": -55.*mV,\n",
    "    \"d_t\": 5.0*mV,\n",
    "    \"a\": 2.0 * nS,\n",
    "    \"tau_w\": 600.0*ms,\n",
    "    \"b\": 10.0*pA,\n",
    "    \"v_r\": -52*mV,\n",
    "    \"i_stim\": .120*nA,\n",
    "}"
   ]
  },
  {
   "cell_type": "code",
   "execution_count": null,
   "metadata": {},
   "outputs": [],
   "source": [
    "eqs = \"\"\"\n",
    "    dvm/dt = (g_l*(e_l - vm) + g_l*d_t*exp((vm-v_t)/d_t) + i_stim - w)/c_m : volt (unless refractory)\n",
    "    dw/dt  = (a*(vm - e_l) - w)/tau_w : amp\n",
    "    \"\"\"\n",
    "neuron = NeuronGroup(\n",
    "    1,\n",
    "    model=eqs,\n",
    "    threshold=\"vm > -40.*mV\", \n",
    "    reset=\"vm = v_r; w += b\",\n",
    "    refractory='5*ms',\n",
    "    method=\"euler\",\n",
    "    namespace=parameters,\n",
    ")\n",
    "neuron.vm = parameters[\"e_l\"]\n",
    "neuron.w = 0\n",
    "states = StateMonitor(neuron, [\"vm\", \"w\"], record=True, when=\"thresholds\")\n",
    "defaultclock.dt = 0.1 * ms\n",
    "run(4000 * ms)\n",
    "# clip membrane voltages to threshold (0 mV)\n",
    "vms = np.clip(states[0].vm / mV, a_min=None, a_max=0)\n",
    "plt.plot(states[0].t / ms, vms)\n",
    "\n",
    "plt.xlabel('Time in (ms)')\n",
    "plt.ylabel('Voltage in (mV)')\n",
    "\n",
    "plt.show()"
   ]
  },
  {
   "cell_type": "markdown",
   "metadata": {},
   "source": [
    "### $700ms$"
   ]
  },
  {
   "cell_type": "code",
   "execution_count": null,
   "metadata": {},
   "outputs": [],
   "source": [
    "parameters = {\n",
    "    \"c_m\": 200 * pF,\n",
    "    \"g_l\": 10.*nS,\n",
    "    \"e_l\": -65.*mV,\n",
    "    \"v_t\": -55.*mV,\n",
    "    \"d_t\": 5.0*mV,\n",
    "    \"a\": 2.0 * nS,\n",
    "    \"tau_w\": 700.0*ms,\n",
    "    \"b\": 10.0*pA,\n",
    "    \"v_r\": -52*mV,\n",
    "    \"i_stim\": .120*nA,\n",
    "}"
   ]
  },
  {
   "cell_type": "code",
   "execution_count": null,
   "metadata": {},
   "outputs": [],
   "source": [
    "eqs = \"\"\"\n",
    "    dvm/dt = (g_l*(e_l - vm) + g_l*d_t*exp((vm-v_t)/d_t) + i_stim - w)/c_m : volt (unless refractory)\n",
    "    dw/dt  = (a*(vm - e_l) - w)/tau_w : amp\n",
    "    \"\"\"\n",
    "neuron = NeuronGroup(\n",
    "    1,\n",
    "    model=eqs,\n",
    "    threshold=\"vm > -40.*mV\", \n",
    "    reset=\"vm = v_r; w += b\",\n",
    "    refractory='5*ms',\n",
    "    method=\"euler\",\n",
    "    namespace=parameters,\n",
    ")\n",
    "neuron.vm = parameters[\"e_l\"]\n",
    "neuron.w = 0\n",
    "states = StateMonitor(neuron, [\"vm\", \"w\"], record=True, when=\"thresholds\")\n",
    "defaultclock.dt = 0.1 * ms\n",
    "run(4000 * ms)\n",
    "# clip membrane voltages to threshold (0 mV)\n",
    "vms = np.clip(states[0].vm / mV, a_min=None, a_max=0)\n",
    "plt.plot(states[0].t / ms, vms)\n",
    "\n",
    "plt.xlabel('Time in (ms)')\n",
    "plt.ylabel('Voltage in (mV)')\n",
    "\n",
    "plt.show()"
   ]
  },
  {
   "cell_type": "markdown",
   "metadata": {},
   "source": [
    "### $800ms$"
   ]
  },
  {
   "cell_type": "code",
   "execution_count": null,
   "metadata": {},
   "outputs": [],
   "source": [
    "parameters = {\n",
    "    \"c_m\": 200 * pF,\n",
    "    \"g_l\": 10.*nS,\n",
    "    \"e_l\": -65.*mV,\n",
    "    \"v_t\": -55.*mV,\n",
    "    \"d_t\": 5.0*mV,\n",
    "    \"a\": 2.0 * nS,\n",
    "    \"tau_w\": 800.0*ms,\n",
    "    \"b\": 10.0*pA,\n",
    "    \"v_r\": -52*mV,\n",
    "    \"i_stim\": .120*nA,\n",
    "}"
   ]
  },
  {
   "cell_type": "code",
   "execution_count": null,
   "metadata": {},
   "outputs": [],
   "source": [
    "eqs = \"\"\"\n",
    "    dvm/dt = (g_l*(e_l - vm) + g_l*d_t*exp((vm-v_t)/d_t) + i_stim - w)/c_m : volt (unless refractory)\n",
    "    dw/dt  = (a*(vm - e_l) - w)/tau_w : amp\n",
    "    \"\"\"\n",
    "neuron = NeuronGroup(\n",
    "    1,\n",
    "    model=eqs,\n",
    "    threshold=\"vm > -40.*mV\", \n",
    "    reset=\"vm = v_r; w += b\",\n",
    "    refractory='5*ms',\n",
    "    method=\"euler\",\n",
    "    namespace=parameters,\n",
    ")\n",
    "neuron.vm = parameters[\"e_l\"]\n",
    "neuron.w = 0\n",
    "states = StateMonitor(neuron, [\"vm\", \"w\"], record=True, when=\"thresholds\")\n",
    "defaultclock.dt = 0.1 * ms\n",
    "run(4000 * ms)\n",
    "# clip membrane voltages to threshold (0 mV)\n",
    "vms = np.clip(states[0].vm / mV, a_min=None, a_max=0)\n",
    "plt.plot(states[0].t / ms, vms)\n",
    "\n",
    "plt.xlabel('Time in (ms)')\n",
    "plt.ylabel('Voltage in (mV)')\n",
    "\n",
    "plt.show()"
   ]
  },
  {
   "cell_type": "markdown",
   "metadata": {},
   "source": [
    "### $1000ms$"
   ]
  },
  {
   "cell_type": "code",
   "execution_count": null,
   "metadata": {},
   "outputs": [],
   "source": [
    "parameters = {\n",
    "    \"c_m\": 200 * pF,\n",
    "    \"g_l\": 10.*nS,\n",
    "    \"e_l\": -65.*mV,\n",
    "    \"v_t\": -55.*mV,\n",
    "    \"d_t\": 5.0*mV,\n",
    "    \"a\": 2.0 * nS,\n",
    "    \"tau_w\": 1000.0*ms,\n",
    "    \"b\": 10.0*pA,\n",
    "    \"v_r\": -52*mV,\n",
    "    \"i_stim\": .120*nA,\n",
    "}"
   ]
  },
  {
   "cell_type": "code",
   "execution_count": null,
   "metadata": {},
   "outputs": [],
   "source": [
    "eqs = \"\"\"\n",
    "    dvm/dt = (g_l*(e_l - vm) + g_l*d_t*exp((vm-v_t)/d_t) + i_stim - w)/c_m : volt (unless refractory)\n",
    "    dw/dt  = (a*(vm - e_l) - w)/tau_w : amp\n",
    "    \"\"\"\n",
    "neuron = NeuronGroup(\n",
    "    1,\n",
    "    model=eqs,\n",
    "    threshold=\"vm > -40.*mV\", \n",
    "    reset=\"vm = v_r; w += b\",\n",
    "    refractory='5*ms',\n",
    "    method=\"euler\",\n",
    "    namespace=parameters,\n",
    ")\n",
    "neuron.vm = parameters[\"e_l\"]\n",
    "neuron.w = 0\n",
    "states = StateMonitor(neuron, [\"vm\", \"w\"], record=True, when=\"thresholds\")\n",
    "defaultclock.dt = 0.1 * ms\n",
    "run(4000 * ms)\n",
    "# clip membrane voltages to threshold (0 mV)\n",
    "vms = np.clip(states[0].vm / mV, a_min=None, a_max=0)\n",
    "plt.plot(states[0].t / ms, vms)\n",
    "\n",
    "plt.xlabel('Time in (ms)')\n",
    "plt.ylabel('Voltage in (mV)')\n",
    "\n",
    "plt.show()"
   ]
  },
  {
   "cell_type": "markdown",
   "metadata": {},
   "source": []
  },
  {
   "cell_type": "code",
   "execution_count": null,
   "metadata": {},
   "outputs": [],
   "source": [
    "plt.title(\"Change in inter spike interval by time\")\n",
    "plt.xlabel('Variation of I (nA)')\n",
    "plt.ylabel('Inter Spike Interval')\n",
    "plt.scatter(data=tau_isi_dataframe, x='variable', y='isi')\n",
    "plt.show()\n"
   ]
  }
 ],
 "metadata": {
  "interpreter": {
   "hash": "aee8b7b246df8f9039afb4144a1f6fd8d2ca17a180786b69acc140d282b71a49"
  },
  "kernelspec": {
   "display_name": "Python 3.10.1 64-bit",
   "language": "python",
   "name": "python3"
  },
  "language_info": {
   "codemirror_mode": {
    "name": "ipython",
    "version": 3
   },
   "file_extension": ".py",
   "mimetype": "text/x-python",
   "name": "python",
   "nbconvert_exporter": "python",
   "pygments_lexer": "ipython3",
   "version": "3.10.1"
  },
  "orig_nbformat": 4
 },
 "nbformat": 4,
 "nbformat_minor": 2
}
