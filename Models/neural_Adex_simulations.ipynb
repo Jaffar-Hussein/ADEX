{
 "cells": [
  {
   "cell_type": "code",
   "execution_count": 3,
   "metadata": {},
   "outputs": [],
   "source": [
    "from brian2 import *\n",
    "import matplotlib.pyplot as plt\n",
    "import numpy \n",
    "from isi_tau import df as tau_isi_dataframe\n"
   ]
  },
  {
   "cell_type": "markdown",
   "metadata": {},
   "source": [
    "# **CONTROL**"
   ]
  },
  {
   "cell_type": "code",
   "execution_count": 4,
   "metadata": {},
   "outputs": [],
   "source": [
    "# Original Variables\n",
    "\n",
    "\n",
    "parameters = {\n",
    "    \"c_m\": 200 * pF,\n",
    "    \"g_l\": 10.*nS,\n",
    "    \"e_l\": -65.*mV,\n",
    "    \"v_t\": -55.*mV,\n",
    "    \"d_t\": 5.0*mV,\n",
    "    \"a\": 2.0 * nS,\n",
    "    \"tau_w\": 500.0*ms,\n",
    "    \"b\": 10.0*pA,\n",
    "    \"v_r\": -52*mV,\n",
    "    \"i_stim\": .120*nA,\n",
    "}\n"
   ]
  },
  {
   "cell_type": "code",
   "execution_count": 5,
   "metadata": {},
   "outputs": [
    {
     "name": "stdout",
     "output_type": "stream",
     "text": [
      "{0: array([0.0436, 0.0625, 0.0828, 0.1048, 0.129 , 0.1561, 0.1873, 0.2248,\n",
      "       0.2736, 0.3505, 0.504 , 0.5615, 0.6718, 0.756 , 0.8908, 0.9563,\n",
      "       1.1018, 1.1623, 1.2866, 1.3585, 1.5163, 1.5723, 1.6764, 1.7685,\n",
      "       1.8826, 1.9629, 2.1085, 2.169 , 2.293 , 2.3651, 2.523 , 2.579 ,\n",
      "       2.6829, 2.7752, 2.8888, 2.9696, 3.1139, 3.1749, 3.3016, 3.3718,\n",
      "       3.5289, 3.5852, 3.6901, 3.781 , 3.8979, 3.9756]) * second}\n",
      "[ 18.9  20.3  22.   24.2  27.1  31.2  37.5  48.8  76.9 153.5  57.5 110.3\n",
      "  84.2 134.8  65.5 145.5  60.5 124.3  71.9 157.8  56.  104.1  92.1 114.1\n",
      "  80.3 145.6  60.5 124.   72.1 157.9  56.  103.9  92.3 113.6  80.8 144.3\n",
      "  61.  126.7  70.2 157.1  56.3 104.9  90.9 116.9  77.7] ms\n"
     ]
    },
    {
     "data": {
      "image/png": "[encoded data removed]",
      "text/plain": [
       "<Figure size 432x288 with 1 Axes>"
      ]
     },
     "metadata": {
      "needs_background": "light"
     },
     "output_type": "display_data"
    }
   ],
   "source": [
    "eqs = \"\"\"\n",
    "    dvm/dt = (g_l*(e_l - vm) + g_l*d_t*exp((vm-v_t)/d_t) + i_stim - w)/c_m : volt (unless refractory)\n",
    "    dw/dt  = (a*(vm - e_l) - w)/tau_w : amp\n",
    "    \"\"\"\n",
    "neuron = NeuronGroup(\n",
    "    1,\n",
    "    model=eqs,\n",
    "    threshold=\"vm > -40.*mV\", \n",
    "    reset=\"vm = v_r; w += b\",\n",
    "    refractory='5*ms',\n",
    "    method=\"euler\",\n",
    "    namespace=parameters,\n",
    ")\n",
    "neuron.vm = parameters[\"e_l\"]\n",
    "neuron.w = 0\n",
    "states = StateMonitor(neuron, [\"vm\", \"w\"], record=True, when=\"thresholds\")\n",
    "defaultclock.dt = 0.1 * ms\n",
    "train = SpikeMonitor(neuron,record=True)\n",
    "run(4000 * ms)\n",
    "\n",
    "# clip membrane voltages to threshold (0 mV)\n",
    "vms = np.clip(states[0].vm / mV, a_min=None, a_max=0)\n",
    "plt.plot(states[0].t / ms, vms)\n",
    "\n",
    "plt.xlabel('Time in (ms)')\n",
    "plt.ylabel('Voltage in (mV)')\n",
    "print(train.spike_trains())\n",
    "difference  = numpy.diff(train.spike_trains()[0])\n",
    "print(difference)\n",
    "plt.show()"
   ]
  },
  {
   "cell_type": "markdown",
   "metadata": {},
   "source": [
    "# **Variating the injected current**"
   ]
  },
  {
   "cell_type": "markdown",
   "metadata": {},
   "source": [
    "### $0,1nA$  "
   ]
  },
  {
   "cell_type": "code",
   "execution_count": 6,
   "metadata": {},
   "outputs": [],
   "source": [
    "parameters = {\n",
    "    \"c_m\": 200 * pF,\n",
    "    \"g_l\": 10.*nS,\n",
    "    \"e_l\": -65.*mV,\n",
    "    \"v_t\": -55.*mV,\n",
    "    \"d_t\": 5.0*mV,\n",
    "    \"a\": 2.0 * nS,\n",
    "    \"tau_w\": 500.0*ms,\n",
    "    \"b\": 10.0*pA,\n",
    "    \"v_r\": -52*mV,\n",
    "    \"i_stim\": .120*nA,\n",
    "}"
   ]
  },
  {
   "cell_type": "code",
   "execution_count": 7,
   "metadata": {},
   "outputs": [
    {
     "ename": "MagicError",
     "evalue": "The magic network contains a mix of objects that has been run before and new objects, Brian does not know whether you want to start a new simulation or continue an old one. Consider explicitly creating a Network object. Also note that you can find out which objects will be included in a magic network with the collect() function.",
     "output_type": "error",
     "traceback": [
      "\u001b[0;31m---------------------------------------------------------------------------\u001b[0m",
      "\u001b[0;31mMagicError\u001b[0m                                Traceback (most recent call last)",
      "\u001b[1;32m/Users/jaffarhussein/Desktop/NeuroPSI/ADEX/Models/neural_Adex_simulations.ipynb Cell 8'\u001b[0m in \u001b[0;36m<module>\u001b[0;34m\u001b[0m\n\u001b[1;32m     <a href='vscode-notebook-cell:/Users/jaffarhussein/Desktop/NeuroPSI/ADEX/Models/neural_Adex_simulations.ipynb#ch0000007?line=15'>16</a>\u001b[0m states \u001b[39m=\u001b[39m StateMonitor(neuron, [\u001b[39m\"\u001b[39m\u001b[39mvm\u001b[39m\u001b[39m\"\u001b[39m, \u001b[39m\"\u001b[39m\u001b[39mw\u001b[39m\u001b[39m\"\u001b[39m], record\u001b[39m=\u001b[39m\u001b[39mTrue\u001b[39;00m, when\u001b[39m=\u001b[39m\u001b[39m\"\u001b[39m\u001b[39mthresholds\u001b[39m\u001b[39m\"\u001b[39m)\n\u001b[1;32m     <a href='vscode-notebook-cell:/Users/jaffarhussein/Desktop/NeuroPSI/ADEX/Models/neural_Adex_simulations.ipynb#ch0000007?line=16'>17</a>\u001b[0m defaultclock\u001b[39m.\u001b[39mdt \u001b[39m=\u001b[39m \u001b[39m0.1\u001b[39m \u001b[39m*\u001b[39m ms\n\u001b[0;32m---> <a href='vscode-notebook-cell:/Users/jaffarhussein/Desktop/NeuroPSI/ADEX/Models/neural_Adex_simulations.ipynb#ch0000007?line=17'>18</a>\u001b[0m run(\u001b[39m4000\u001b[39;49m \u001b[39m*\u001b[39;49m ms)\n\u001b[1;32m     <a href='vscode-notebook-cell:/Users/jaffarhussein/Desktop/NeuroPSI/ADEX/Models/neural_Adex_simulations.ipynb#ch0000007?line=18'>19</a>\u001b[0m \u001b[39m# clip membrane voltages to threshold (0 mV)\u001b[39;00m\n\u001b[1;32m     <a href='vscode-notebook-cell:/Users/jaffarhussein/Desktop/NeuroPSI/ADEX/Models/neural_Adex_simulations.ipynb#ch0000007?line=19'>20</a>\u001b[0m vms \u001b[39m=\u001b[39m np\u001b[39m.\u001b[39mclip(states[\u001b[39m0\u001b[39m]\u001b[39m.\u001b[39mvm \u001b[39m/\u001b[39m mV, a_min\u001b[39m=\u001b[39m\u001b[39mNone\u001b[39;00m, a_max\u001b[39m=\u001b[39m\u001b[39m0\u001b[39m)\n",
      "File \u001b[0;32m/Library/Frameworks/Python.framework/Versions/3.10/lib/python3.10/site-packages/brian2/units/fundamentalunits.py:2428\u001b[0m, in \u001b[0;36mcheck_units.<locals>.do_check_units.<locals>.new_f\u001b[0;34m(*args, **kwds)\u001b[0m\n\u001b[1;32m   <a href='file:///Library/Frameworks/Python.framework/Versions/3.10/lib/python3.10/site-packages/brian2/units/fundamentalunits.py?line=2420'>2421</a>\u001b[0m             error_message \u001b[39m=\u001b[39m (\u001b[39mf\u001b[39m\u001b[39m\"\u001b[39m\u001b[39mFunction \u001b[39m\u001b[39m'\u001b[39m\u001b[39m{\u001b[39;00mf\u001b[39m.\u001b[39m\u001b[39m__name__\u001b[39m\u001b[39m}\u001b[39;00m\u001b[39m'\u001b[39m\u001b[39m \u001b[39m\u001b[39m\"\u001b[39m\n\u001b[1;32m   <a href='file:///Library/Frameworks/Python.framework/Versions/3.10/lib/python3.10/site-packages/brian2/units/fundamentalunits.py?line=2421'>2422</a>\u001b[0m                              \u001b[39mf\u001b[39m\u001b[39m\"\u001b[39m\u001b[39mexpected a quantitity with unit \u001b[39m\u001b[39m\"\u001b[39m\n\u001b[1;32m   <a href='file:///Library/Frameworks/Python.framework/Versions/3.10/lib/python3.10/site-packages/brian2/units/fundamentalunits.py?line=2422'>2423</a>\u001b[0m                              \u001b[39mf\u001b[39m\u001b[39m\"\u001b[39m\u001b[39m{\u001b[39;00munit\u001b[39m}\u001b[39;00m\u001b[39m for argument \u001b[39m\u001b[39m'\u001b[39m\u001b[39m{\u001b[39;00mk\u001b[39m}\u001b[39;00m\u001b[39m'\u001b[39m\u001b[39m but got \u001b[39m\u001b[39m\"\u001b[39m\n\u001b[1;32m   <a href='file:///Library/Frameworks/Python.framework/Versions/3.10/lib/python3.10/site-packages/brian2/units/fundamentalunits.py?line=2423'>2424</a>\u001b[0m                              \u001b[39mf\u001b[39m\u001b[39m\"\u001b[39m\u001b[39m'\u001b[39m\u001b[39m{\u001b[39;00mvalue\u001b[39m}\u001b[39;00m\u001b[39m'\u001b[39m\u001b[39m\"\u001b[39m)\n\u001b[1;32m   <a href='file:///Library/Frameworks/Python.framework/Versions/3.10/lib/python3.10/site-packages/brian2/units/fundamentalunits.py?line=2424'>2425</a>\u001b[0m             \u001b[39mraise\u001b[39;00m DimensionMismatchError(error_message,\n\u001b[1;32m   <a href='file:///Library/Frameworks/Python.framework/Versions/3.10/lib/python3.10/site-packages/brian2/units/fundamentalunits.py?line=2425'>2426</a>\u001b[0m                                          get_dimensions(newkeyset[k]))\n\u001b[0;32m-> <a href='file:///Library/Frameworks/Python.framework/Versions/3.10/lib/python3.10/site-packages/brian2/units/fundamentalunits.py?line=2427'>2428</a>\u001b[0m result \u001b[39m=\u001b[39m f(\u001b[39m*\u001b[39;49margs, \u001b[39m*\u001b[39;49m\u001b[39m*\u001b[39;49mkwds)\n\u001b[1;32m   <a href='file:///Library/Frameworks/Python.framework/Versions/3.10/lib/python3.10/site-packages/brian2/units/fundamentalunits.py?line=2428'>2429</a>\u001b[0m \u001b[39mif\u001b[39;00m \u001b[39m'\u001b[39m\u001b[39mresult\u001b[39m\u001b[39m'\u001b[39m \u001b[39min\u001b[39;00m au:\n\u001b[1;32m   <a href='file:///Library/Frameworks/Python.framework/Versions/3.10/lib/python3.10/site-packages/brian2/units/fundamentalunits.py?line=2429'>2430</a>\u001b[0m     \u001b[39mif\u001b[39;00m \u001b[39misinstance\u001b[39m(au[\u001b[39m'\u001b[39m\u001b[39mresult\u001b[39m\u001b[39m'\u001b[39m], Callable) \u001b[39mand\u001b[39;00m au[\u001b[39m'\u001b[39m\u001b[39mresult\u001b[39m\u001b[39m'\u001b[39m] \u001b[39m!=\u001b[39m \u001b[39mbool\u001b[39m:\n",
      "File \u001b[0;32m/Library/Frameworks/Python.framework/Versions/3.10/lib/python3.10/site-packages/brian2/core/magic.py:373\u001b[0m, in \u001b[0;36mrun\u001b[0;34m(duration, report, report_period, namespace, profile, level)\u001b[0m\n\u001b[1;32m    <a href='file:///Library/Frameworks/Python.framework/Versions/3.10/lib/python3.10/site-packages/brian2/core/magic.py?line=309'>310</a>\u001b[0m \u001b[39m@check_units\u001b[39m(duration\u001b[39m=\u001b[39msecond, report_period\u001b[39m=\u001b[39msecond)\n\u001b[1;32m    <a href='file:///Library/Frameworks/Python.framework/Versions/3.10/lib/python3.10/site-packages/brian2/core/magic.py?line=310'>311</a>\u001b[0m \u001b[39mdef\u001b[39;00m \u001b[39mrun\u001b[39m(duration, report\u001b[39m=\u001b[39m\u001b[39mNone\u001b[39;00m, report_period\u001b[39m=\u001b[39m\u001b[39m10\u001b[39m\u001b[39m*\u001b[39msecond, namespace\u001b[39m=\u001b[39m\u001b[39mNone\u001b[39;00m,\n\u001b[1;32m    <a href='file:///Library/Frameworks/Python.framework/Versions/3.10/lib/python3.10/site-packages/brian2/core/magic.py?line=311'>312</a>\u001b[0m         profile\u001b[39m=\u001b[39m\u001b[39mNone\u001b[39;00m, level\u001b[39m=\u001b[39m\u001b[39m0\u001b[39m):\n\u001b[1;32m    <a href='file:///Library/Frameworks/Python.framework/Versions/3.10/lib/python3.10/site-packages/brian2/core/magic.py?line=312'>313</a>\u001b[0m     \u001b[39m\"\"\"\u001b[39;00m\n\u001b[1;32m    <a href='file:///Library/Frameworks/Python.framework/Versions/3.10/lib/python3.10/site-packages/brian2/core/magic.py?line=313'>314</a>\u001b[0m \u001b[39m    run(duration, report=None, report_period=10*second, namespace=None, level=0)\u001b[39;00m\n\u001b[1;32m    <a href='file:///Library/Frameworks/Python.framework/Versions/3.10/lib/python3.10/site-packages/brian2/core/magic.py?line=314'>315</a>\u001b[0m \u001b[39m    \u001b[39;00m\n\u001b[0;32m   (...)\u001b[0m\n\u001b[1;32m    <a href='file:///Library/Frameworks/Python.framework/Versions/3.10/lib/python3.10/site-packages/brian2/core/magic.py?line=370'>371</a>\u001b[0m \u001b[39m        intended use. See `MagicNetwork` for more details.\u001b[39;00m\n\u001b[1;32m    <a href='file:///Library/Frameworks/Python.framework/Versions/3.10/lib/python3.10/site-packages/brian2/core/magic.py?line=371'>372</a>\u001b[0m \u001b[39m    \"\"\"\u001b[39;00m\n\u001b[0;32m--> <a href='file:///Library/Frameworks/Python.framework/Versions/3.10/lib/python3.10/site-packages/brian2/core/magic.py?line=372'>373</a>\u001b[0m     \u001b[39mreturn\u001b[39;00m magic_network\u001b[39m.\u001b[39;49mrun(duration, report\u001b[39m=\u001b[39;49mreport, report_period\u001b[39m=\u001b[39;49mreport_period,\n\u001b[1;32m    <a href='file:///Library/Frameworks/Python.framework/Versions/3.10/lib/python3.10/site-packages/brian2/core/magic.py?line=373'>374</a>\u001b[0m                              namespace\u001b[39m=\u001b[39;49mnamespace, profile\u001b[39m=\u001b[39;49mprofile, level\u001b[39m=\u001b[39;49m\u001b[39m2\u001b[39;49m\u001b[39m+\u001b[39;49mlevel)\n",
      "File \u001b[0;32m/Library/Frameworks/Python.framework/Versions/3.10/lib/python3.10/site-packages/brian2/core/magic.py:229\u001b[0m, in \u001b[0;36mMagicNetwork.run\u001b[0;34m(self, duration, report, report_period, namespace, profile, level)\u001b[0m\n\u001b[1;32m    <a href='file:///Library/Frameworks/Python.framework/Versions/3.10/lib/python3.10/site-packages/brian2/core/magic.py?line=226'>227</a>\u001b[0m \u001b[39mdef\u001b[39;00m \u001b[39mrun\u001b[39m(\u001b[39mself\u001b[39m, duration, report\u001b[39m=\u001b[39m\u001b[39mNone\u001b[39;00m, report_period\u001b[39m=\u001b[39m\u001b[39m10\u001b[39m\u001b[39m*\u001b[39msecond,\n\u001b[1;32m    <a href='file:///Library/Frameworks/Python.framework/Versions/3.10/lib/python3.10/site-packages/brian2/core/magic.py?line=227'>228</a>\u001b[0m         namespace\u001b[39m=\u001b[39m\u001b[39mNone\u001b[39;00m, profile\u001b[39m=\u001b[39m\u001b[39mNone\u001b[39;00m, level\u001b[39m=\u001b[39m\u001b[39m0\u001b[39m):\n\u001b[0;32m--> <a href='file:///Library/Frameworks/Python.framework/Versions/3.10/lib/python3.10/site-packages/brian2/core/magic.py?line=228'>229</a>\u001b[0m     \u001b[39mself\u001b[39;49m\u001b[39m.\u001b[39;49m_update_magic_objects(level\u001b[39m=\u001b[39;49mlevel\u001b[39m+\u001b[39;49m\u001b[39m1\u001b[39;49m)\n\u001b[1;32m    <a href='file:///Library/Frameworks/Python.framework/Versions/3.10/lib/python3.10/site-packages/brian2/core/magic.py?line=229'>230</a>\u001b[0m     Network\u001b[39m.\u001b[39mrun(\u001b[39mself\u001b[39m, duration, report\u001b[39m=\u001b[39mreport, report_period\u001b[39m=\u001b[39mreport_period,\n\u001b[1;32m    <a href='file:///Library/Frameworks/Python.framework/Versions/3.10/lib/python3.10/site-packages/brian2/core/magic.py?line=230'>231</a>\u001b[0m                 namespace\u001b[39m=\u001b[39mnamespace, profile\u001b[39m=\u001b[39mprofile, level\u001b[39m=\u001b[39mlevel\u001b[39m+\u001b[39m\u001b[39m1\u001b[39m)\n",
      "File \u001b[0;32m/Library/Frameworks/Python.framework/Versions/3.10/lib/python3.10/site-packages/brian2/core/magic.py:184\u001b[0m, in \u001b[0;36mMagicNetwork._update_magic_objects\u001b[0;34m(self, level)\u001b[0m\n\u001b[1;32m    <a href='file:///Library/Frameworks/Python.framework/Versions/3.10/lib/python3.10/site-packages/brian2/core/magic.py?line=178'>179</a>\u001b[0m     \u001b[39m# Note that the inclusion of objects that have been run as part of\u001b[39;00m\n\u001b[1;32m    <a href='file:///Library/Frameworks/Python.framework/Versions/3.10/lib/python3.10/site-packages/brian2/core/magic.py?line=179'>180</a>\u001b[0m     \u001b[39m# other objects will lead to an error in `Network.before_run`, we\u001b[39;00m\n\u001b[1;32m    <a href='file:///Library/Frameworks/Python.framework/Versions/3.10/lib/python3.10/site-packages/brian2/core/magic.py?line=180'>181</a>\u001b[0m     \u001b[39m# do not have to deal with this case here.\u001b[39;00m\n\u001b[1;32m    <a href='file:///Library/Frameworks/Python.framework/Versions/3.10/lib/python3.10/site-packages/brian2/core/magic.py?line=182'>183</a>\u001b[0m \u001b[39mif\u001b[39;00m some_known \u001b[39mand\u001b[39;00m some_new:\n\u001b[0;32m--> <a href='file:///Library/Frameworks/Python.framework/Versions/3.10/lib/python3.10/site-packages/brian2/core/magic.py?line=183'>184</a>\u001b[0m     \u001b[39mraise\u001b[39;00m MagicError(\u001b[39m\"\u001b[39m\u001b[39mThe magic network contains a mix of objects \u001b[39m\u001b[39m\"\u001b[39m\n\u001b[1;32m    <a href='file:///Library/Frameworks/Python.framework/Versions/3.10/lib/python3.10/site-packages/brian2/core/magic.py?line=184'>185</a>\u001b[0m                      \u001b[39m\"\u001b[39m\u001b[39mthat has been run before and new objects, Brian \u001b[39m\u001b[39m\"\u001b[39m\n\u001b[1;32m    <a href='file:///Library/Frameworks/Python.framework/Versions/3.10/lib/python3.10/site-packages/brian2/core/magic.py?line=185'>186</a>\u001b[0m                      \u001b[39m\"\u001b[39m\u001b[39mdoes not know whether you want to start a new \u001b[39m\u001b[39m\"\u001b[39m\n\u001b[1;32m    <a href='file:///Library/Frameworks/Python.framework/Versions/3.10/lib/python3.10/site-packages/brian2/core/magic.py?line=186'>187</a>\u001b[0m                      \u001b[39m\"\u001b[39m\u001b[39msimulation or continue an old one. Consider \u001b[39m\u001b[39m\"\u001b[39m\n\u001b[1;32m    <a href='file:///Library/Frameworks/Python.framework/Versions/3.10/lib/python3.10/site-packages/brian2/core/magic.py?line=187'>188</a>\u001b[0m                      \u001b[39m\"\u001b[39m\u001b[39mexplicitly creating a Network object. Also note \u001b[39m\u001b[39m\"\u001b[39m\n\u001b[1;32m    <a href='file:///Library/Frameworks/Python.framework/Versions/3.10/lib/python3.10/site-packages/brian2/core/magic.py?line=188'>189</a>\u001b[0m                      \u001b[39m\"\u001b[39m\u001b[39mthat you can find out which objects will be \u001b[39m\u001b[39m\"\u001b[39m\n\u001b[1;32m    <a href='file:///Library/Frameworks/Python.framework/Versions/3.10/lib/python3.10/site-packages/brian2/core/magic.py?line=189'>190</a>\u001b[0m                      \u001b[39m\"\u001b[39m\u001b[39mincluded in a magic network with the \u001b[39m\u001b[39m\"\u001b[39m\n\u001b[1;32m    <a href='file:///Library/Frameworks/Python.framework/Versions/3.10/lib/python3.10/site-packages/brian2/core/magic.py?line=190'>191</a>\u001b[0m                      \u001b[39m\"\u001b[39m\u001b[39mcollect() function.\u001b[39m\u001b[39m\"\u001b[39m)\n\u001b[1;32m    <a href='file:///Library/Frameworks/Python.framework/Versions/3.10/lib/python3.10/site-packages/brian2/core/magic.py?line=191'>192</a>\u001b[0m \u001b[39melif\u001b[39;00m some_new:  \u001b[39m# all objects are new, start a new simulation\u001b[39;00m\n\u001b[1;32m    <a href='file:///Library/Frameworks/Python.framework/Versions/3.10/lib/python3.10/site-packages/brian2/core/magic.py?line=192'>193</a>\u001b[0m     \u001b[39m# reset time\u001b[39;00m\n\u001b[1;32m    <a href='file:///Library/Frameworks/Python.framework/Versions/3.10/lib/python3.10/site-packages/brian2/core/magic.py?line=193'>194</a>\u001b[0m     \u001b[39mself\u001b[39m\u001b[39m.\u001b[39mt_ \u001b[39m=\u001b[39m \u001b[39m0.0\u001b[39m\n",
      "\u001b[0;31mMagicError\u001b[0m: The magic network contains a mix of objects that has been run before and new objects, Brian does not know whether you want to start a new simulation or continue an old one. Consider explicitly creating a Network object. Also note that you can find out which objects will be included in a magic network with the collect() function."
     ]
    }
   ],
   "source": [
    "eqs = \"\"\"\n",
    "    dvm/dt = (g_l*(e_l - vm) + g_l*d_t*exp((vm-v_t)/d_t) + i_stim - w)/c_m : volt (unless refractory)\n",
    "    dw/dt  = (a*(vm - e_l) - w)/tau_w : amp\n",
    "    \"\"\"\n",
    "neuron = NeuronGroup(\n",
    "    1,\n",
    "    model=eqs,\n",
    "    threshold=\"vm > -40.*mV\", \n",
    "    reset=\"vm = v_r; w += b\",\n",
    "    refractory='5*ms',\n",
    "    method=\"euler\",\n",
    "    namespace=parameters,\n",
    ")\n",
    "neuron.vm = parameters[\"e_l\"]\n",
    "neuron.w = 0\n",
    "states = StateMonitor(neuron, [\"vm\", \"w\"], record=True, when=\"thresholds\")\n",
    "defaultclock.dt = 0.1 * ms\n",
    "run(4000 * ms)\n",
    "# clip membrane voltages to threshold (0 mV)\n",
    "vms = np.clip(states[0].vm / mV, a_min=None, a_max=0)\n",
    "plt.plot(states[0].t / ms, vms)\n",
    "# plt.xlim(500,1000)\n",
    "plt.xlabel('Time in (ms)')\n",
    "plt.ylabel('Voltage in (mV)')\n",
    "plt.figure(figsize=(10,8))\n",
    "# \n",
    "plt.show()"
   ]
  },
  {
   "cell_type": "markdown",
   "metadata": {},
   "source": [
    "### $0.5 nA$"
   ]
  },
  {
   "cell_type": "code",
   "execution_count": null,
   "metadata": {},
   "outputs": [],
   "source": [
    "parameters = {\n",
    "    \"c_m\": 200 * pF,\n",
    "    \"g_l\": 10.*nS,\n",
    "    \"e_l\": -65.*mV,\n",
    "    \"v_t\": -55.*mV,\n",
    "    \"d_t\": 5.0*mV,\n",
    "    \"a\": 2.0 * nS,\n",
    "    \"tau_w\": 500.0*ms,\n",
    "    \"b\": 10.0*pA,\n",
    "    \"v_r\": -52*mV,\n",
    "    \"i_stim\": .025*nA,\n",
    "}"
   ]
  },
  {
   "cell_type": "code",
   "execution_count": null,
   "metadata": {},
   "outputs": [],
   "source": [
    "eqs = \"\"\"\n",
    "    dvm/dt = (g_l*(e_l - vm) + g_l*d_t*exp((vm-v_t)/d_t) + i_stim - w)/c_m : volt (unless refractory)\n",
    "    dw/dt  = (a*(vm - e_l) - w)/tau_w : amp\n",
    "    \"\"\"\n",
    "neuron = NeuronGroup(\n",
    "    1,\n",
    "    model=eqs,\n",
    "    threshold=\"vm > -40.*mV\", \n",
    "    reset=\"vm = v_r; w += b\",\n",
    "    refractory='5*ms',\n",
    "    method=\"euler\",\n",
    "    namespace=parameters,\n",
    ")\n",
    "neuron.vm = parameters[\"e_l\"]\n",
    "neuron.w = 0\n",
    "states = StateMonitor(neuron, [\"vm\", \"w\"], record=True, when=\"thresholds\")\n",
    "defaultclock.dt = 0.1 * ms\n",
    "run(4000 * ms)\n",
    "# clip membrane voltages to threshold (0 mV)\n",
    "vms = np.clip(states[0].vm / mV, a_min=None, a_max=0)\n",
    "plt.plot(states[0].t / ms, vms)\n",
    "# plt.xlim(500,1000)\n",
    "plt.xlabel('Time in (ms)')\n",
    "plt.ylabel('Voltage in (mV)')\n",
    "plt.figure(figsize=(10,8))\n",
    "# \n",
    "plt.show()"
   ]
  },
  {
   "cell_type": "markdown",
   "metadata": {},
   "source": [
    "### $1nA$"
   ]
  },
  {
   "cell_type": "code",
   "execution_count": null,
   "metadata": {},
   "outputs": [],
   "source": [
    "parameters = {\n",
    "    \"c_m\": 200 * pF,\n",
    "    \"g_l\": 10.*nS,\n",
    "    \"e_l\": -65.*mV,\n",
    "    \"v_t\": -55.*mV,\n",
    "    \"d_t\": 5.0*mV,\n",
    "    \"a\": 2.0 * nS,\n",
    "    \"tau_w\": 500.0*ms,\n",
    "    \"b\": 10.0*pA,\n",
    "    \"v_r\": -52*mV,\n",
    "    \"i_stim\": 1*nA,\n",
    "}"
   ]
  },
  {
   "cell_type": "code",
   "execution_count": null,
   "metadata": {},
   "outputs": [],
   "source": [
    "eqs = \"\"\"\n",
    "    dvm/dt = (g_l*(e_l - vm) + g_l*d_t*exp((vm-v_t)/d_t) + i_stim - w)/c_m : volt (unless refractory)\n",
    "    dw/dt  = (a*(vm - e_l) - w)/tau_w : amp\n",
    "    \"\"\"\n",
    "neuron = NeuronGroup(\n",
    "    1,\n",
    "    model=eqs,\n",
    "    threshold=\"vm > -40.*mV\", \n",
    "    reset=\"vm = v_r; w += b\",\n",
    "    refractory='5*ms',\n",
    "    method=\"euler\",\n",
    "    namespace=parameters,\n",
    ")\n",
    "neuron.vm = parameters[\"e_l\"]\n",
    "neuron.w = 0\n",
    "states = StateMonitor(neuron, [\"vm\", \"w\"], record=True, when=\"thresholds\")\n",
    "defaultclock.dt = 0.1 * ms\n",
    "run(4000 * ms)\n",
    "# clip membrane voltages to threshold (0 mV)\n",
    "vms = np.clip(states[0].vm / mV, a_min=None, a_max=0)\n",
    "plt.plot(states[0].t / ms, vms)\n",
    "\n",
    "plt.xlabel('Time in (ms)')\n",
    "plt.ylabel('Voltage in (mV)')\n",
    "\n",
    "plt.show()"
   ]
  },
  {
   "cell_type": "markdown",
   "metadata": {},
   "source": [
    "### $5 nA$"
   ]
  },
  {
   "cell_type": "code",
   "execution_count": null,
   "metadata": {},
   "outputs": [],
   "source": [
    "parameters = {\n",
    "    \"c_m\": 200 * pF,\n",
    "    \"g_l\": 10.*nS,\n",
    "    \"e_l\": -65.*mV,\n",
    "    \"v_t\": -55.*mV,\n",
    "    \"d_t\": 5.0*mV,\n",
    "    \"a\": 2.0 * nS,\n",
    "    \"tau_w\": 500.0*ms,\n",
    "    \"b\": 10.0*pA,\n",
    "    \"v_r\": -52*mV,\n",
    "    \"i_stim\": 5*nA,\n",
    "}"
   ]
  },
  {
   "cell_type": "code",
   "execution_count": null,
   "metadata": {},
   "outputs": [],
   "source": [
    "eqs = \"\"\"\n",
    "    dvm/dt = (g_l*(e_l - vm) + g_l*d_t*exp((vm-v_t)/d_t) + i_stim - w)/c_m : volt (unless refractory)\n",
    "    dw/dt  = (a*(vm - e_l) - w)/tau_w : amp\n",
    "    \"\"\"\n",
    "neuron = NeuronGroup(\n",
    "    1,\n",
    "    model=eqs,\n",
    "    threshold=\"vm > -40.*mV\", \n",
    "    reset=\"vm = v_r; w += b\",\n",
    "    refractory='5*ms',\n",
    "    method=\"euler\",\n",
    "    namespace=parameters,\n",
    ")\n",
    "neuron.vm = parameters[\"e_l\"]\n",
    "neuron.w = 0\n",
    "states = StateMonitor(neuron, [\"vm\", \"w\"], record=True, when=\"thresholds\")\n",
    "defaultclock.dt = 0.1 * ms\n",
    "run(4000 * ms)\n",
    "# clip membrane voltages to threshold (0 mV)\n",
    "vms = np.clip(states[0].vm / mV, a_min=None, a_max=0)\n",
    "plt.plot(states[0].t / ms, vms)\n",
    "\n",
    "plt.xlabel('Time in (ms)')\n",
    "plt.ylabel('Voltage in (mV)')\n",
    "\n",
    "plt.show()"
   ]
  },
  {
   "cell_type": "markdown",
   "metadata": {},
   "source": [
    "### $10 nA$"
   ]
  },
  {
   "cell_type": "code",
   "execution_count": null,
   "metadata": {},
   "outputs": [],
   "source": [
    "parameters = {\n",
    "    \"c_m\": 200 * pF,\n",
    "    \"g_l\": 10.*nS,\n",
    "    \"e_l\": -65.*mV,\n",
    "    \"v_t\": -55.*mV,\n",
    "    \"d_t\": 5.0*mV,\n",
    "    \"a\": 2.0 * nS,\n",
    "    \"tau_w\": 500.0*ms,\n",
    "    \"b\": 10.0*pA,\n",
    "    \"v_r\": -52*mV,\n",
    "    \"i_stim\": 10*nA,\n",
    "}"
   ]
  },
  {
   "cell_type": "code",
   "execution_count": null,
   "metadata": {},
   "outputs": [],
   "source": [
    "eqs = \"\"\"\n",
    "    dvm/dt = (g_l*(e_l - vm) + g_l*d_t*exp((vm-v_t)/d_t) + i_stim - w)/c_m : volt (unless refractory)\n",
    "    dw/dt  = (a*(vm - e_l) - w)/tau_w : amp\n",
    "    \"\"\"\n",
    "neuron = NeuronGroup(\n",
    "    1,\n",
    "    model=eqs,\n",
    "    threshold=\"vm > -40.*mV\", \n",
    "    reset=\"vm = v_r; w += b\",\n",
    "    refractory='5*ms',\n",
    "    method=\"euler\",\n",
    "    namespace=parameters,\n",
    ")\n",
    "neuron.vm = parameters[\"e_l\"]\n",
    "neuron.w = 0\n",
    "states = StateMonitor(neuron, [\"vm\", \"w\"], record=True, when=\"thresholds\")\n",
    "defaultclock.dt = 0.1 * ms\n",
    "run(4000 * ms)\n",
    "# clip membrane voltages to threshold (0 mV)\n",
    "vms = np.clip(states[0].vm / mV, a_min=None, a_max=0)\n",
    "plt.plot(states[0].t / ms, vms)\n",
    "\n",
    "plt.xlabel('Time in (ms)')\n",
    "plt.ylabel('Voltage in (mV)')\n",
    "\n",
    "plt.show()"
   ]
  },
  {
   "cell_type": "markdown",
   "metadata": {},
   "source": [
    "# **Variating values of $a$**"
   ]
  },
  {
   "cell_type": "markdown",
   "metadata": {},
   "source": [
    "### $1nS$"
   ]
  },
  {
   "cell_type": "code",
   "execution_count": null,
   "metadata": {},
   "outputs": [],
   "source": [
    "parameters = {\n",
    "    \"c_m\": 200 * pF,\n",
    "    \"g_l\": 10.*nS,\n",
    "    \"e_l\": -65.*mV,\n",
    "    \"v_t\": -55.*mV,\n",
    "    \"d_t\": 5.0*mV,\n",
    "    \"a\": 1.0 * nS,\n",
    "    \"tau_w\": 500.0*ms,\n",
    "    \"b\": 10.0*pA,\n",
    "    \"v_r\": -52*mV,\n",
    "    \"i_stim\": .120*nA,\n",
    "}"
   ]
  },
  {
   "cell_type": "code",
   "execution_count": null,
   "metadata": {},
   "outputs": [],
   "source": [
    "eqs = \"\"\"\n",
    "    dvm/dt = (g_l*(e_l - vm) + g_l*d_t*exp((vm-v_t)/d_t) + i_stim - w)/c_m : volt (unless refractory)\n",
    "    dw/dt  = (a*(vm - e_l) - w)/tau_w : amp\n",
    "    \"\"\"\n",
    "neuron = NeuronGroup(\n",
    "    1,\n",
    "    model=eqs,\n",
    "    threshold=\"vm > -40.*mV\", \n",
    "    reset=\"vm = v_r; w += b\",\n",
    "    refractory='5*ms',\n",
    "    method=\"euler\",\n",
    "    namespace=parameters,\n",
    ")\n",
    "neuron.vm = parameters[\"e_l\"]\n",
    "neuron.w = 0\n",
    "states = StateMonitor(neuron, [\"vm\", \"w\"], record=True, when=\"thresholds\")\n",
    "defaultclock.dt = 0.1 * ms\n",
    "run(4000 * ms)\n",
    "# clip membrane voltages to threshold (0 mV)\n",
    "vms = np.clip(states[0].vm / mV, a_min=None, a_max=0)\n",
    "plt.plot(states[0].t / ms, vms)\n",
    "\n",
    "plt.xlabel('Time in (ms)')\n",
    "plt.ylabel('Voltage in (mV)')\n",
    "\n",
    "plt.show()"
   ]
  },
  {
   "cell_type": "markdown",
   "metadata": {},
   "source": [
    "### $2nS$"
   ]
  },
  {
   "cell_type": "code",
   "execution_count": null,
   "metadata": {},
   "outputs": [],
   "source": [
    "\n",
    "parameters = {\n",
    "    \"c_m\": 200 * pF,\n",
    "    \"g_l\": 10.*nS,\n",
    "    \"e_l\": -65.*mV,\n",
    "    \"v_t\": -55.*mV,\n",
    "    \"d_t\": 5.0*mV,\n",
    "    \"a\": 2.0 * nS,\n",
    "    \"tau_w\": 500.0*ms,\n",
    "    \"b\": 10.0*pA,\n",
    "    \"v_r\": -52*mV,\n",
    "    \"i_stim\": .120*nA,\n",
    "}"
   ]
  },
  {
   "cell_type": "code",
   "execution_count": null,
   "metadata": {},
   "outputs": [],
   "source": [
    "eqs = \"\"\"\n",
    "    dvm/dt = (g_l*(e_l - vm) + g_l*d_t*exp((vm-v_t)/d_t) + i_stim - w)/c_m : volt (unless refractory)\n",
    "    dw/dt  = (a*(vm - e_l) - w)/tau_w : amp\n",
    "    \"\"\"\n",
    "neuron = NeuronGroup(\n",
    "    1,\n",
    "    model=eqs,\n",
    "    threshold=\"vm > -40.*mV\", \n",
    "    reset=\"vm = v_r; w += b\",\n",
    "    refractory='5*ms',\n",
    "    method=\"euler\",\n",
    "    namespace=parameters,\n",
    ")\n",
    "neuron.vm = parameters[\"e_l\"]\n",
    "neuron.w = 0\n",
    "states = StateMonitor(neuron, [\"vm\", \"w\"], record=True, when=\"thresholds\")\n",
    "defaultclock.dt = 0.1 * ms\n",
    "run(4000 * ms)\n",
    "# clip membrane voltages to threshold (0 mV)\n",
    "vms = np.clip(states[0].vm / mV, a_min=None, a_max=0)\n",
    "plt.plot(states[0].t / ms, vms)\n",
    "\n",
    "plt.xlabel('Time in (ms)')\n",
    "plt.ylabel('Voltage in (mV)')\n",
    "\n",
    "plt.show()"
   ]
  },
  {
   "cell_type": "markdown",
   "metadata": {},
   "source": [
    "### $5nS$"
   ]
  },
  {
   "cell_type": "code",
   "execution_count": null,
   "metadata": {},
   "outputs": [],
   "source": [
    "\n",
    "parameters = {\n",
    "    \"c_m\": 200 * pF,\n",
    "    \"g_l\": 10.*nS,\n",
    "    \"e_l\": -65.*mV,\n",
    "    \"v_t\": -55.*mV,\n",
    "    \"d_t\": 5.0*mV,\n",
    "    \"a\": 5.0 * nS,\n",
    "    \"tau_w\": 500.0*ms,\n",
    "    \"b\": 10.0*pA,\n",
    "    \"v_r\": -52*mV,\n",
    "    \"i_stim\": .120*nA,\n",
    "}"
   ]
  },
  {
   "cell_type": "code",
   "execution_count": null,
   "metadata": {},
   "outputs": [],
   "source": [
    "eqs = \"\"\"\n",
    "    dvm/dt = (g_l*(e_l - vm) + g_l*d_t*exp((vm-v_t)/d_t) + i_stim - w)/c_m : volt (unless refractory)\n",
    "    dw/dt  = (a*(vm - e_l) - w)/tau_w : amp\n",
    "    \"\"\"\n",
    "neuron = NeuronGroup(\n",
    "    1,\n",
    "    model=eqs,\n",
    "    threshold=\"vm > -40.*mV\", \n",
    "    reset=\"vm = v_r; w += b\",\n",
    "    refractory='5*ms',\n",
    "    method=\"euler\",\n",
    "    namespace=parameters,\n",
    ")\n",
    "neuron.vm = parameters[\"e_l\"]\n",
    "neuron.w = 0\n",
    "states = StateMonitor(neuron, [\"vm\", \"w\"], record=True, when=\"thresholds\")\n",
    "defaultclock.dt = 0.1 * ms\n",
    "run(4000 * ms)\n",
    "# clip membrane voltages to threshold (0 mV)\n",
    "vms = np.clip(states[0].vm / mV, a_min=None, a_max=0)\n",
    "plt.plot(states[0].t / ms, vms)\n",
    "\n",
    "plt.xlabel('Time in (ms)')\n",
    "plt.ylabel('Voltage in (mV)')\n",
    "\n",
    "plt.show()"
   ]
  },
  {
   "cell_type": "markdown",
   "metadata": {},
   "source": [
    "### $10nS$"
   ]
  },
  {
   "cell_type": "code",
   "execution_count": null,
   "metadata": {},
   "outputs": [],
   "source": [
    "parameters = {\n",
    "    \"c_m\": 200 * pF,\n",
    "    \"g_l\": 10.*nS,\n",
    "    \"e_l\": -65.*mV,\n",
    "    \"v_t\": -55.*mV,\n",
    "    \"d_t\": 5.0*mV,\n",
    "    \"a\": 10.0 * nS,\n",
    "    \"tau_w\": 500.0*ms,\n",
    "    \"b\": 10.0*pA,\n",
    "    \"v_r\": -52*mV,\n",
    "    \"i_stim\": .120*nA,\n",
    "}"
   ]
  },
  {
   "cell_type": "code",
   "execution_count": null,
   "metadata": {},
   "outputs": [],
   "source": [
    "eqs = \"\"\"\n",
    "    dvm/dt = (g_l*(e_l - vm) + g_l*d_t*exp((vm-v_t)/d_t) + i_stim - w)/c_m : volt (unless refractory)\n",
    "    dw/dt  = (a*(vm - e_l) - w)/tau_w : amp\n",
    "    \"\"\"\n",
    "neuron = NeuronGroup(\n",
    "    1,\n",
    "    model=eqs,\n",
    "    threshold=\"vm > -40.*mV\", \n",
    "    reset=\"vm = v_r; w += b\",\n",
    "    refractory='5*ms',\n",
    "    method=\"euler\",\n",
    "    namespace=parameters,\n",
    ")\n",
    "neuron.vm = parameters[\"e_l\"]\n",
    "neuron.w = 0\n",
    "states = StateMonitor(neuron, [\"vm\", \"w\"], record=True, when=\"thresholds\")\n",
    "defaultclock.dt = 0.1 * ms\n",
    "run(4000 * ms)\n",
    "# clip membrane voltages to threshold (0 mV)\n",
    "vms = np.clip(states[0].vm / mV, a_min=None, a_max=0)\n",
    "plt.plot(states[0].t / ms, vms)\n",
    "\n",
    "plt.xlabel('Time in (ms)')\n",
    "plt.ylabel('Voltage in (mV)')\n",
    "\n",
    "plt.show()"
   ]
  },
  {
   "cell_type": "markdown",
   "metadata": {},
   "source": [
    "## **Variating the value of $b$**"
   ]
  },
  {
   "cell_type": "markdown",
   "metadata": {},
   "source": [
    "### $1pA$"
   ]
  },
  {
   "cell_type": "code",
   "execution_count": null,
   "metadata": {},
   "outputs": [],
   "source": [
    "parameters = {\n",
    "    \"c_m\": 200 * pF,\n",
    "    \"g_l\": 10.*nS,\n",
    "    \"e_l\": -65.*mV,\n",
    "    \"v_t\": -55.*mV,\n",
    "    \"d_t\": 5.0*mV,\n",
    "    \"a\": 2.0 * nS,\n",
    "    \"tau_w\": 500.0*ms,\n",
    "    \"b\": 1.0*pA,\n",
    "    \"v_r\": -52*mV,\n",
    "    \"i_stim\": .120*nA,\n",
    "}"
   ]
  },
  {
   "cell_type": "code",
   "execution_count": null,
   "metadata": {},
   "outputs": [],
   "source": [
    "eqs = \"\"\"\n",
    "    dvm/dt = (g_l*(e_l - vm) + g_l*d_t*exp((vm-v_t)/d_t) + i_stim - w)/c_m : volt (unless refractory)\n",
    "    dw/dt  = (a*(vm - e_l) - w)/tau_w : amp\n",
    "    \"\"\"\n",
    "neuron = NeuronGroup(\n",
    "    1,\n",
    "    model=eqs,\n",
    "    threshold=\"vm > -40.*mV\", \n",
    "    reset=\"vm = v_r; w += b\",\n",
    "    refractory='5*ms',\n",
    "    method=\"euler\",\n",
    "    namespace=parameters,\n",
    ")\n",
    "neuron.vm = parameters[\"e_l\"]\n",
    "neuron.w = 0\n",
    "states = StateMonitor(neuron, [\"vm\", \"w\"], record=True, when=\"thresholds\")\n",
    "defaultclock.dt = 0.1 * ms\n",
    "run(4000 * ms)\n",
    "# clip membrane voltages to threshold (0 mV)\n",
    "vms = np.clip(states[0].vm / mV, a_min=None, a_max=0)\n",
    "plt.plot(states[0].t / ms, vms)\n",
    "\n",
    "plt.xlabel('Time in (ms)')\n",
    "plt.ylabel('Voltage in (mV)')\n",
    "\n",
    "plt.show()"
   ]
  },
  {
   "cell_type": "markdown",
   "metadata": {},
   "source": [
    "### $5pA$"
   ]
  },
  {
   "cell_type": "code",
   "execution_count": null,
   "metadata": {},
   "outputs": [],
   "source": [
    "parameters = {\n",
    "    \"c_m\": 200 * pF,\n",
    "    \"g_l\": 10.*nS,\n",
    "    \"e_l\": -65.*mV,\n",
    "    \"v_t\": -55.*mV,\n",
    "    \"d_t\": 5.0*mV,\n",
    "    \"a\": 2.0 * nS,\n",
    "    \"tau_w\": 500.0*ms,\n",
    "    \"b\": 5.0*pA,\n",
    "    \"v_r\": -52*mV,\n",
    "    \"i_stim\": .120*nA,\n",
    "}"
   ]
  },
  {
   "cell_type": "code",
   "execution_count": null,
   "metadata": {},
   "outputs": [],
   "source": [
    "eqs = \"\"\"\n",
    "    dvm/dt = (g_l*(e_l - vm) + g_l*d_t*exp((vm-v_t)/d_t) + i_stim - w)/c_m : volt (unless refractory)\n",
    "    dw/dt  = (a*(vm - e_l) - w)/tau_w : amp\n",
    "    \"\"\"\n",
    "neuron = NeuronGroup(\n",
    "    1,\n",
    "    model=eqs,\n",
    "    threshold=\"vm > -40.*mV\", \n",
    "    reset=\"vm = v_r; w += b\",\n",
    "    refractory='5*ms',\n",
    "    method=\"euler\",\n",
    "    namespace=parameters,\n",
    ")\n",
    "neuron.vm = parameters[\"e_l\"]\n",
    "neuron.w = 0\n",
    "states = StateMonitor(neuron, [\"vm\", \"w\"], record=True, when=\"thresholds\")\n",
    "defaultclock.dt = 0.1 * ms\n",
    "run(4000 * ms)\n",
    "# clip membrane voltages to threshold (0 mV)\n",
    "vms = np.clip(states[0].vm / mV, a_min=None, a_max=0)\n",
    "plt.plot(states[0].t / ms, vms)\n",
    "\n",
    "plt.xlabel('Time in (ms)')\n",
    "plt.ylabel('Voltage in (mV)')\n",
    "\n",
    "plt.show()"
   ]
  },
  {
   "cell_type": "markdown",
   "metadata": {},
   "source": [
    "### Control $10pA$"
   ]
  },
  {
   "cell_type": "code",
   "execution_count": null,
   "metadata": {},
   "outputs": [],
   "source": [
    "parameters = {\n",
    "    \"c_m\": 200 * pF,\n",
    "    \"g_l\": 10.*nS,\n",
    "    \"e_l\": -65.*mV,\n",
    "    \"v_t\": -55.*mV,\n",
    "    \"d_t\": 5.0*mV,\n",
    "    \"a\": 2.0 * nS,\n",
    "    \"tau_w\": 500.0*ms,\n",
    "    \"b\": 10.0*pA,\n",
    "    \"v_r\": -52*mV,\n",
    "    \"i_stim\": .120*nA,\n",
    "}"
   ]
  },
  {
   "cell_type": "code",
   "execution_count": null,
   "metadata": {},
   "outputs": [],
   "source": [
    "eqs = \"\"\"\n",
    "    dvm/dt = (g_l*(e_l - vm) + g_l*d_t*exp((vm-v_t)/d_t) + i_stim - w)/c_m : volt (unless refractory)\n",
    "    dw/dt  = (a*(vm - e_l) - w)/tau_w : amp\n",
    "    \"\"\"\n",
    "neuron = NeuronGroup(\n",
    "    1,\n",
    "    model=eqs,\n",
    "    threshold=\"vm > -40.*mV\", \n",
    "    reset=\"vm = v_r; w += b\",\n",
    "    refractory='5*ms',\n",
    "    method=\"euler\",\n",
    "    namespace=parameters,\n",
    ")\n",
    "neuron.vm = parameters[\"e_l\"]\n",
    "neuron.w = 0\n",
    "states = StateMonitor(neuron, [\"vm\", \"w\"], record=True, when=\"thresholds\")\n",
    "defaultclock.dt = 0.1 * ms\n",
    "run(4000 * ms)\n",
    "# clip membrane voltages to threshold (0 mV)\n",
    "vms = np.clip(states[0].vm / mV, a_min=None, a_max=0)\n",
    "plt.plot(states[0].t / ms, vms)\n",
    "\n",
    "plt.xlabel('Time in (ms)')\n",
    "plt.ylabel('Voltage in (mV)')\n",
    "\n",
    "plt.show()"
   ]
  },
  {
   "cell_type": "markdown",
   "metadata": {},
   "source": [
    "### $15pA$"
   ]
  },
  {
   "cell_type": "code",
   "execution_count": null,
   "metadata": {},
   "outputs": [],
   "source": [
    "parameters = {\n",
    "    \"c_m\": 200 * pF,\n",
    "    \"g_l\": 10.*nS,\n",
    "    \"e_l\": -65.*mV,\n",
    "    \"v_t\": -55.*mV,\n",
    "    \"d_t\": 5.0*mV,\n",
    "    \"a\": 2.0 * nS,\n",
    "    \"tau_w\": 500.0*ms,\n",
    "    \"b\": 15.0*pA,\n",
    "    \"v_r\": -52*mV,\n",
    "    \"i_stim\": .120*nA,\n",
    "}"
   ]
  },
  {
   "cell_type": "code",
   "execution_count": null,
   "metadata": {},
   "outputs": [],
   "source": [
    "eqs = \"\"\"\n",
    "    dvm/dt = (g_l*(e_l - vm) + g_l*d_t*exp((vm-v_t)/d_t) + i_stim - w)/c_m : volt (unless refractory)\n",
    "    dw/dt  = (a*(vm - e_l) - w)/tau_w : amp\n",
    "    \"\"\"\n",
    "neuron = NeuronGroup(\n",
    "    1,\n",
    "    model=eqs,\n",
    "    threshold=\"vm > -40.*mV\", \n",
    "    reset=\"vm = v_r; w += b\",\n",
    "    refractory='5*ms',\n",
    "    method=\"euler\",\n",
    "    namespace=parameters,\n",
    ")\n",
    "neuron.vm = parameters[\"e_l\"]\n",
    "neuron.w = 0\n",
    "states = StateMonitor(neuron, [\"vm\", \"w\"], record=True, when=\"thresholds\")\n",
    "defaultclock.dt = 0.1 * ms\n",
    "run(4000 * ms)\n",
    "# clip membrane voltages to threshold (0 mV)\n",
    "vms = np.clip(states[0].vm / mV, a_min=None, a_max=0)\n",
    "plt.plot(states[0].t / ms, vms)\n",
    "\n",
    "plt.xlabel('Time in (ms)')\n",
    "plt.ylabel('Voltage in (mV)')\n",
    "\n",
    "plt.show()"
   ]
  },
  {
   "cell_type": "markdown",
   "metadata": {},
   "source": [
    "### $20pA$"
   ]
  },
  {
   "cell_type": "code",
   "execution_count": null,
   "metadata": {},
   "outputs": [],
   "source": [
    "parameters = {\n",
    "    \"c_m\": 200 * pF,\n",
    "    \"g_l\": 10.*nS,\n",
    "    \"e_l\": -65.*mV,\n",
    "    \"v_t\": -55.*mV,\n",
    "    \"d_t\": 5.0*mV,\n",
    "    \"a\": 2.0 * nS,\n",
    "    \"tau_w\": 500.0*ms,\n",
    "    \"b\": 20.0*pA,\n",
    "    \"v_r\": -52*mV,\n",
    "    \"i_stim\": .120*nA,\n",
    "}"
   ]
  },
  {
   "cell_type": "code",
   "execution_count": null,
   "metadata": {},
   "outputs": [],
   "source": [
    "eqs = \"\"\"\n",
    "    dvm/dt = (g_l*(e_l - vm) + g_l*d_t*exp((vm-v_t)/d_t) + i_stim - w)/c_m : volt (unless refractory)\n",
    "    dw/dt  = (a*(vm - e_l) - w)/tau_w : amp\n",
    "    \"\"\"\n",
    "neuron = NeuronGroup(\n",
    "    1,\n",
    "    model=eqs,\n",
    "    threshold=\"vm > -40.*mV\", \n",
    "    reset=\"vm = v_r; w += b\",\n",
    "    refractory='5*ms',\n",
    "    method=\"euler\",\n",
    "    namespace=parameters,\n",
    ")\n",
    "neuron.vm = parameters[\"e_l\"]\n",
    "neuron.w = 0\n",
    "states = StateMonitor(neuron, [\"vm\", \"w\"], record=True, when=\"thresholds\")\n",
    "defaultclock.dt = 0.1 * ms\n",
    "run(4000 * ms)\n",
    "# clip membrane voltages to threshold (0 mV)\n",
    "vms = np.clip(states[0].vm / mV, a_min=None, a_max=0)\n",
    "plt.plot(states[0].t / ms, vms)\n",
    "\n",
    "plt.xlabel('Time in (ms)')\n",
    "plt.ylabel('Voltage in (mV)')\n",
    "\n",
    "plt.show()"
   ]
  },
  {
   "cell_type": "markdown",
   "metadata": {},
   "source": [
    "# **Variatung values $tau$**"
   ]
  },
  {
   "cell_type": "markdown",
   "metadata": {},
   "source": [
    "### $200ms$"
   ]
  },
  {
   "cell_type": "code",
   "execution_count": null,
   "metadata": {},
   "outputs": [],
   "source": [
    "parameters = {\n",
    "    \"c_m\": 200 * pF,\n",
    "    \"g_l\": 10.*nS,\n",
    "    \"e_l\": -65.*mV,\n",
    "    \"v_t\": -55.*mV,\n",
    "    \"d_t\": 5.0*mV,\n",
    "    \"a\": 2.0 * nS,\n",
    "    \"tau_w\": 200.0*ms,\n",
    "    \"b\": 10.0*pA,\n",
    "    \"v_r\": -52*mV,\n",
    "    \"i_stim\": .120*nA,\n",
    "}"
   ]
  },
  {
   "cell_type": "code",
   "execution_count": null,
   "metadata": {},
   "outputs": [],
   "source": [
    "eqs = \"\"\"\n",
    "    dvm/dt = (g_l*(e_l - vm) + g_l*d_t*exp((vm-v_t)/d_t) + i_stim - w)/c_m : volt (unless refractory)\n",
    "    dw/dt  = (a*(vm - e_l) - w)/tau_w : amp\n",
    "    \"\"\"\n",
    "neuron = NeuronGroup(\n",
    "    1,\n",
    "    model=eqs,\n",
    "    threshold=\"vm > -40.*mV\", \n",
    "    reset=\"vm = v_r; w += b\",\n",
    "    refractory='5*ms',\n",
    "    method=\"euler\",\n",
    "    namespace=parameters,\n",
    ")\n",
    "neuron.vm = parameters[\"e_l\"]\n",
    "neuron.w = 0\n",
    "states = StateMonitor(neuron, [\"vm\", \"w\"], record=True, when=\"thresholds\")\n",
    "defaultclock.dt = 0.1 * ms\n",
    "run(4000 * ms)\n",
    "# clip membrane voltages to threshold (0 mV)\n",
    "vms = np.clip(states[0].vm / mV, a_min=None, a_max=0)\n",
    "plt.plot(states[0].t / ms, vms)\n",
    "\n",
    "plt.xlabel('Time in (ms)')\n",
    "plt.ylabel('Voltage in (mV)')\n",
    "\n",
    "plt.show()"
   ]
  },
  {
   "cell_type": "markdown",
   "metadata": {},
   "source": [
    "### $300ms$"
   ]
  },
  {
   "cell_type": "code",
   "execution_count": null,
   "metadata": {},
   "outputs": [],
   "source": [
    "parameters = {\n",
    "    \"c_m\": 200 * pF,\n",
    "    \"g_l\": 10.*nS,\n",
    "    \"e_l\": -65.*mV,\n",
    "    \"v_t\": -55.*mV,\n",
    "    \"d_t\": 5.0*mV,\n",
    "    \"a\": 2.0 * nS,\n",
    "    \"tau_w\": 300.0*ms,\n",
    "    \"b\": 10.0*pA,\n",
    "    \"v_r\": -52*mV,\n",
    "    \"i_stim\": .120*nA,\n",
    "}"
   ]
  },
  {
   "cell_type": "code",
   "execution_count": null,
   "metadata": {},
   "outputs": [],
   "source": [
    "eqs = \"\"\"\n",
    "    dvm/dt = (g_l*(e_l - vm) + g_l*d_t*exp((vm-v_t)/d_t) + i_stim - w)/c_m : volt (unless refractory)\n",
    "    dw/dt  = (a*(vm - e_l) - w)/tau_w : amp\n",
    "    \"\"\"\n",
    "neuron = NeuronGroup(\n",
    "    1,\n",
    "    model=eqs,\n",
    "    threshold=\"vm > -40.*mV\", \n",
    "    reset=\"vm = v_r; w += b\",\n",
    "    refractory='5*ms',\n",
    "    method=\"euler\",\n",
    "    namespace=parameters,\n",
    ")\n",
    "neuron.vm = parameters[\"e_l\"]\n",
    "neuron.w = 0\n",
    "states = StateMonitor(neuron, [\"vm\", \"w\"], record=True, when=\"thresholds\")\n",
    "defaultclock.dt = 0.1 * ms\n",
    "run(4000 * ms)\n",
    "# clip membrane voltages to threshold (0 mV)\n",
    "vms = np.clip(states[0].vm / mV, a_min=None, a_max=0)\n",
    "plt.plot(states[0].t / ms, vms)\n",
    "\n",
    "plt.xlabel('Time in (ms)')\n",
    "plt.ylabel('Voltage in (mV)')\n",
    "\n",
    "plt.show()"
   ]
  },
  {
   "cell_type": "markdown",
   "metadata": {},
   "source": [
    "### $400ms$"
   ]
  },
  {
   "cell_type": "code",
   "execution_count": null,
   "metadata": {},
   "outputs": [],
   "source": [
    "parameters = {\n",
    "    \"c_m\": 200 * pF,\n",
    "    \"g_l\": 10.*nS,\n",
    "    \"e_l\": -65.*mV,\n",
    "    \"v_t\": -55.*mV,\n",
    "    \"d_t\": 5.0*mV,\n",
    "    \"a\": 2.0 * nS,\n",
    "    \"tau_w\": 400.0*ms,\n",
    "    \"b\": 10.0*pA,\n",
    "    \"v_r\": -52*mV,\n",
    "    \"i_stim\": .120*nA,\n",
    "}"
   ]
  },
  {
   "cell_type": "code",
   "execution_count": null,
   "metadata": {},
   "outputs": [],
   "source": [
    "eqs = \"\"\"\n",
    "    dvm/dt = (g_l*(e_l - vm) + g_l*d_t*exp((vm-v_t)/d_t) + i_stim - w)/c_m : volt (unless refractory)\n",
    "    dw/dt  = (a*(vm - e_l) - w)/tau_w : amp\n",
    "    \"\"\"\n",
    "neuron = NeuronGroup(\n",
    "    1,\n",
    "    model=eqs,\n",
    "    threshold=\"vm > -40.*mV\", \n",
    "    reset=\"vm = v_r; w += b\",\n",
    "    refractory='5*ms',\n",
    "    method=\"euler\",\n",
    "    namespace=parameters,\n",
    ")\n",
    "neuron.vm = parameters[\"e_l\"]\n",
    "neuron.w = 0\n",
    "states = StateMonitor(neuron, [\"vm\", \"w\"], record=True, when=\"thresholds\")\n",
    "defaultclock.dt = 0.1 * ms\n",
    "run(4000 * ms)\n",
    "# clip membrane voltages to threshold (0 mV)\n",
    "vms = np.clip(states[0].vm / mV, a_min=None, a_max=0)\n",
    "plt.plot(states[0].t / ms, vms)\n",
    "\n",
    "plt.xlabel('Time in (ms)')\n",
    "plt.ylabel('Voltage in (mV)')\n",
    "\n",
    "plt.show()"
   ]
  },
  {
   "cell_type": "markdown",
   "metadata": {},
   "source": [
    "### $500ms$"
   ]
  },
  {
   "cell_type": "code",
   "execution_count": null,
   "metadata": {},
   "outputs": [],
   "source": [
    "parameters = {\n",
    "    \"c_m\": 200 * pF,\n",
    "    \"g_l\": 10.*nS,\n",
    "    \"e_l\": -65.*mV,\n",
    "    \"v_t\": -55.*mV,\n",
    "    \"d_t\": 5.0*mV,\n",
    "    \"a\": 2.0 * nS,\n",
    "    \"tau_w\": 500.0*ms,\n",
    "    \"b\": 10.0*pA,\n",
    "    \"v_r\": -52*mV,\n",
    "    \"i_stim\": .120*nA,\n",
    "}"
   ]
  },
  {
   "cell_type": "code",
   "execution_count": null,
   "metadata": {},
   "outputs": [],
   "source": [
    "eqs = \"\"\"\n",
    "    dvm/dt = (g_l*(e_l - vm) + g_l*d_t*exp((vm-v_t)/d_t) + i_stim - w)/c_m : volt (unless refractory)\n",
    "    dw/dt  = (a*(vm - e_l) - w)/tau_w : amp\n",
    "    \"\"\"\n",
    "neuron = NeuronGroup(\n",
    "    1,\n",
    "    model=eqs,\n",
    "    threshold=\"vm > -40.*mV\", \n",
    "    reset=\"vm = v_r; w += b\",\n",
    "    refractory='5*ms',\n",
    "    method=\"euler\",\n",
    "    namespace=parameters,\n",
    ")\n",
    "neuron.vm = parameters[\"e_l\"]\n",
    "neuron.w = 0\n",
    "states = StateMonitor(neuron, [\"vm\", \"w\"], record=True, when=\"thresholds\")\n",
    "defaultclock.dt = 0.1 * ms\n",
    "run(4000 * ms)\n",
    "# clip membrane voltages to threshold (0 mV)\n",
    "vms = np.clip(states[0].vm / mV, a_min=None, a_max=0)\n",
    "plt.plot(states[0].t / ms, vms)\n",
    "\n",
    "plt.xlabel('Time in (ms)')\n",
    "plt.ylabel('Voltage in (mV)')\n",
    "\n",
    "plt.show()"
   ]
  },
  {
   "cell_type": "markdown",
   "metadata": {},
   "source": [
    "### $600ms$"
   ]
  },
  {
   "cell_type": "code",
   "execution_count": null,
   "metadata": {},
   "outputs": [],
   "source": [
    "parameters = {\n",
    "    \"c_m\": 200 * pF,\n",
    "    \"g_l\": 10.*nS,\n",
    "    \"e_l\": -65.*mV,\n",
    "    \"v_t\": -55.*mV,\n",
    "    \"d_t\": 5.0*mV,\n",
    "    \"a\": 2.0 * nS,\n",
    "    \"tau_w\": 600.0*ms,\n",
    "    \"b\": 10.0*pA,\n",
    "    \"v_r\": -52*mV,\n",
    "    \"i_stim\": .120*nA,\n",
    "}"
   ]
  },
  {
   "cell_type": "code",
   "execution_count": null,
   "metadata": {},
   "outputs": [],
   "source": [
    "eqs = \"\"\"\n",
    "    dvm/dt = (g_l*(e_l - vm) + g_l*d_t*exp((vm-v_t)/d_t) + i_stim - w)/c_m : volt (unless refractory)\n",
    "    dw/dt  = (a*(vm - e_l) - w)/tau_w : amp\n",
    "    \"\"\"\n",
    "neuron = NeuronGroup(\n",
    "    1,\n",
    "    model=eqs,\n",
    "    threshold=\"vm > -40.*mV\", \n",
    "    reset=\"vm = v_r; w += b\",\n",
    "    refractory='5*ms',\n",
    "    method=\"euler\",\n",
    "    namespace=parameters,\n",
    ")\n",
    "neuron.vm = parameters[\"e_l\"]\n",
    "neuron.w = 0\n",
    "states = StateMonitor(neuron, [\"vm\", \"w\"], record=True, when=\"thresholds\")\n",
    "defaultclock.dt = 0.1 * ms\n",
    "run(4000 * ms)\n",
    "# clip membrane voltages to threshold (0 mV)\n",
    "vms = np.clip(states[0].vm / mV, a_min=None, a_max=0)\n",
    "plt.plot(states[0].t / ms, vms)\n",
    "\n",
    "plt.xlabel('Time in (ms)')\n",
    "plt.ylabel('Voltage in (mV)')\n",
    "\n",
    "plt.show()"
   ]
  },
  {
   "cell_type": "markdown",
   "metadata": {},
   "source": [
    "### $700ms$"
   ]
  },
  {
   "cell_type": "code",
   "execution_count": null,
   "metadata": {},
   "outputs": [],
   "source": [
    "parameters = {\n",
    "    \"c_m\": 200 * pF,\n",
    "    \"g_l\": 10.*nS,\n",
    "    \"e_l\": -65.*mV,\n",
    "    \"v_t\": -55.*mV,\n",
    "    \"d_t\": 5.0*mV,\n",
    "    \"a\": 2.0 * nS,\n",
    "    \"tau_w\": 700.0*ms,\n",
    "    \"b\": 10.0*pA,\n",
    "    \"v_r\": -52*mV,\n",
    "    \"i_stim\": .120*nA,\n",
    "}"
   ]
  },
  {
   "cell_type": "code",
   "execution_count": null,
   "metadata": {},
   "outputs": [],
   "source": [
    "eqs = \"\"\"\n",
    "    dvm/dt = (g_l*(e_l - vm) + g_l*d_t*exp((vm-v_t)/d_t) + i_stim - w)/c_m : volt (unless refractory)\n",
    "    dw/dt  = (a*(vm - e_l) - w)/tau_w : amp\n",
    "    \"\"\"\n",
    "neuron = NeuronGroup(\n",
    "    1,\n",
    "    model=eqs,\n",
    "    threshold=\"vm > -40.*mV\", \n",
    "    reset=\"vm = v_r; w += b\",\n",
    "    refractory='5*ms',\n",
    "    method=\"euler\",\n",
    "    namespace=parameters,\n",
    ")\n",
    "neuron.vm = parameters[\"e_l\"]\n",
    "neuron.w = 0\n",
    "states = StateMonitor(neuron, [\"vm\", \"w\"], record=True, when=\"thresholds\")\n",
    "defaultclock.dt = 0.1 * ms\n",
    "run(4000 * ms)\n",
    "# clip membrane voltages to threshold (0 mV)\n",
    "vms = np.clip(states[0].vm / mV, a_min=None, a_max=0)\n",
    "plt.plot(states[0].t / ms, vms)\n",
    "\n",
    "plt.xlabel('Time in (ms)')\n",
    "plt.ylabel('Voltage in (mV)')\n",
    "\n",
    "plt.show()"
   ]
  },
  {
   "cell_type": "markdown",
   "metadata": {},
   "source": [
    "### $800ms$"
   ]
  },
  {
   "cell_type": "code",
   "execution_count": null,
   "metadata": {},
   "outputs": [],
   "source": [
    "parameters = {\n",
    "    \"c_m\": 200 * pF,\n",
    "    \"g_l\": 10.*nS,\n",
    "    \"e_l\": -65.*mV,\n",
    "    \"v_t\": -55.*mV,\n",
    "    \"d_t\": 5.0*mV,\n",
    "    \"a\": 2.0 * nS,\n",
    "    \"tau_w\": 800.0*ms,\n",
    "    \"b\": 10.0*pA,\n",
    "    \"v_r\": -52*mV,\n",
    "    \"i_stim\": .120*nA,\n",
    "}"
   ]
  },
  {
   "cell_type": "code",
   "execution_count": null,
   "metadata": {},
   "outputs": [],
   "source": [
    "eqs = \"\"\"\n",
    "    dvm/dt = (g_l*(e_l - vm) + g_l*d_t*exp((vm-v_t)/d_t) + i_stim - w)/c_m : volt (unless refractory)\n",
    "    dw/dt  = (a*(vm - e_l) - w)/tau_w : amp\n",
    "    \"\"\"\n",
    "neuron = NeuronGroup(\n",
    "    1,\n",
    "    model=eqs,\n",
    "    threshold=\"vm > -40.*mV\", \n",
    "    reset=\"vm = v_r; w += b\",\n",
    "    refractory='5*ms',\n",
    "    method=\"euler\",\n",
    "    namespace=parameters,\n",
    ")\n",
    "neuron.vm = parameters[\"e_l\"]\n",
    "neuron.w = 0\n",
    "states = StateMonitor(neuron, [\"vm\", \"w\"], record=True, when=\"thresholds\")\n",
    "defaultclock.dt = 0.1 * ms\n",
    "run(4000 * ms)\n",
    "# clip membrane voltages to threshold (0 mV)\n",
    "vms = np.clip(states[0].vm / mV, a_min=None, a_max=0)\n",
    "plt.plot(states[0].t / ms, vms)\n",
    "\n",
    "plt.xlabel('Time in (ms)')\n",
    "plt.ylabel('Voltage in (mV)')\n",
    "\n",
    "plt.show()"
   ]
  },
  {
   "cell_type": "markdown",
   "metadata": {},
   "source": [
    "### $1000ms$"
   ]
  },
  {
   "cell_type": "code",
   "execution_count": null,
   "metadata": {},
   "outputs": [],
   "source": [
    "parameters = {\n",
    "    \"c_m\": 200 * pF,\n",
    "    \"g_l\": 10.*nS,\n",
    "    \"e_l\": -65.*mV,\n",
    "    \"v_t\": -55.*mV,\n",
    "    \"d_t\": 5.0*mV,\n",
    "    \"a\": 2.0 * nS,\n",
    "    \"tau_w\": 1000.0*ms,\n",
    "    \"b\": 10.0*pA,\n",
    "    \"v_r\": -52*mV,\n",
    "    \"i_stim\": .120*nA,\n",
    "}"
   ]
  },
  {
   "cell_type": "code",
   "execution_count": null,
   "metadata": {},
   "outputs": [],
   "source": [
    "eqs = \"\"\"\n",
    "    dvm/dt = (g_l*(e_l - vm) + g_l*d_t*exp((vm-v_t)/d_t) + i_stim - w)/c_m : volt (unless refractory)\n",
    "    dw/dt  = (a*(vm - e_l) - w)/tau_w : amp\n",
    "    \"\"\"\n",
    "neuron = NeuronGroup(\n",
    "    1,\n",
    "    model=eqs,\n",
    "    threshold=\"vm > -40.*mV\", \n",
    "    reset=\"vm = v_r; w += b\",\n",
    "    refractory='5*ms',\n",
    "    method=\"euler\",\n",
    "    namespace=parameters,\n",
    ")\n",
    "neuron.vm = parameters[\"e_l\"]\n",
    "neuron.w = 0\n",
    "states = StateMonitor(neuron, [\"vm\", \"w\"], record=True, when=\"thresholds\")\n",
    "defaultclock.dt = 0.1 * ms\n",
    "run(4000 * ms)\n",
    "# clip membrane voltages to threshold (0 mV)\n",
    "vms = np.clip(states[0].vm / mV, a_min=None, a_max=0)\n",
    "plt.plot(states[0].t / ms, vms)\n",
    "\n",
    "plt.xlabel('Time in (ms)')\n",
    "plt.ylabel('Voltage in (mV)')\n",
    "\n",
    "plt.show()"
   ]
  },
  {
   "cell_type": "markdown",
   "metadata": {},
   "source": []
  },
  {
   "cell_type": "code",
   "execution_count": null,
   "metadata": {},
   "outputs": [],
   "source": [
    "plt.title(\"Change in inter spike interval by time\")\n",
    "plt.xlabel('Variation of I (nA)')\n",
    "plt.ylabel('Inter Spike Interval')\n",
    "plt.scatter(data=tau_isi_dataframe, x='variable', y='isi')\n",
    "plt.show()\n"
   ]
  }
 ],
 "metadata": {
  "interpreter": {
   "hash": "aee8b7b246df8f9039afb4144a1f6fd8d2ca17a180786b69acc140d282b71a49"
  },
  "kernelspec": {
   "display_name": "Python 3.10.1 64-bit",
   "language": "python",
   "name": "python3"
  },
  "language_info": {
   "codemirror_mode": {
    "name": "ipython",
    "version": 3
   },
   "file_extension": ".py",
   "mimetype": "text/x-python",
   "name": "python",
   "nbconvert_exporter": "python",
   "pygments_lexer": "ipython3",
   "version": "3.10.1"
  },
  "orig_nbformat": 4
 },
 "nbformat": 4,
 "nbformat_minor": 2
}
