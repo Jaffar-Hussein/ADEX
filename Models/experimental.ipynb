{
 "cells": [
  {
   "cell_type": "markdown",
   "metadata": {},
   "source": [
    "\n",
    "# **Experimerimental data**"
   ]
  },
  {
   "cell_type": "code",
   "execution_count": 14,
   "metadata": {},
   "outputs": [],
   "source": [
    "from brian2 import *\n",
    "import matplotlib.pyplot as plt"
   ]
  },
  {
   "cell_type": "markdown",
   "metadata": {},
   "source": [
    "Projection Neurone Type 1"
   ]
  },
  {
   "cell_type": "code",
   "execution_count": 15,
   "metadata": {},
   "outputs": [],
   "source": [
    "# parameters = {\n",
    "#     \"c_m\": 200 * pF,\n",
    "#     \"g_l\": (1/247)*nS,  # 1/RM\n",
    "#     \"e_l\": -73.5*mV, # Membrame Potential\n",
    "#     \"v_t\": -37.3*mV, # Ap threshold\n",
    "#     \"d_t\": 2.0*mV,\n",
    "#     \"a\": 2.0 * nS,\n",
    "#     \"tau_w\": 300.0*ms,\n",
    "#     \"b\": 10*pA,\n",
    "#     \"v_r\": (-37.3-5)*mV,    # AP threshold - 5\n",
    "#     \"i_stim\": (117*2)*nA,  # ct*2\n",
    "# }"
   ]
  },
  {
   "cell_type": "code",
   "execution_count": 16,
   "metadata": {},
   "outputs": [],
   "source": [
    "parameters = {\n",
    "    \"c_m\": 200 * pF,\n",
    "    \"g_l\": (1/247)*nS,\n",
    "    \"e_l\": -73.5*mV,\n",
    "    \"v_t\": -37.5*mV,\n",
    "    \"d_t\": 5.0*mV,\n",
    "    \"a\": 2.0 * nS,\n",
    "    \"tau_w\": 500.0*ms,\n",
    "    \"b\": 10.0*pA,\n",
    "    \"v_r\": (-37.5-5)*mV,\n",
    "    \"i_stim\":(0.5)*nA,\n",
    "}"
   ]
  },
  {
   "cell_type": "code",
   "execution_count": 17,
   "metadata": {},
   "outputs": [
    {
     "data": {
      "image/png": "[encoded data removed]",
      "text/plain": [
       "<Figure size 432x288 with 1 Axes>"
      ]
     },
     "metadata": {
      "needs_background": "light"
     },
     "output_type": "display_data"
    }
   ],
   "source": [
    "eqs = \"\"\"\n",
    "    dvm/dt = (g_l*(e_l - vm) + g_l*d_t*exp((vm-v_t)/d_t) + i_stim - w)/c_m : volt (unless refractory)\n",
    "    dw/dt  = (a*(vm - e_l) - w)/tau_w : amp\n",
    "    \"\"\"\n",
    "neuron = NeuronGroup(\n",
    "    1,\n",
    "    model=eqs,\n",
    "    threshold=\"vm > v_r\", \n",
    "    reset=\"vm = v_r; w += b\",\n",
    "    refractory='5*ms',\n",
    "    method=\"euler\",\n",
    "    namespace=parameters,\n",
    ")\n",
    "neuron.vm = parameters[\"e_l\"]\n",
    "neuron.w = 0\n",
    "states = StateMonitor(neuron, [\"vm\", \"w\"], record=True, when=\"thresholds\")\n",
    "defaultclock.dt = 0.1 * ms\n",
    "run(1000 * ms)\n",
    "# clip membrane voltages to threshold (0 mV)\n",
    "vms = np.clip(states[0].vm / mV, a_min=-100, a_max=None)\n",
    "plt.plot(states[0].t / ms, vms)\n",
    "# plt.xlim(500,1000)\n",
    "# plt.xlim(500,4000)\n",
    "# plt.ylim(-60,-20)\n",
    "plt.xlabel('Time in (ms)')\n",
    "plt.ylabel('Voltage in (mV)')\n",
    "# plt.figure(figsize=(10,8))\n",
    "# \n",
    "plt.show()"
   ]
  },
  {
   "cell_type": "markdown",
   "metadata": {},
   "source": [
    "Projection Neuron Type 2"
   ]
  },
  {
   "cell_type": "code",
   "execution_count": 18,
   "metadata": {},
   "outputs": [],
   "source": [
    "parameters = {\n",
    "    \"c_m\": 200 * pF,\n",
    "    \"g_l\": 10.*nS,\n",
    "    \"e_l\": -65.*mV,\n",
    "    \"v_t\": -55.*mV,\n",
    "    \"d_t\": 5.0*mV,\n",
    "    \"a\": 2.0 * nS,\n",
    "    \"tau_w\": 500.0*ms,\n",
    "    \"b\": 1*pA,\n",
    "    \"v_r\": -52*mV,\n",
    "    \"i_stim\": .120*nA,\n",
    "}"
   ]
  },
  {
   "cell_type": "markdown",
   "metadata": {},
   "source": [
    "Projection Neuron Type 3\n"
   ]
  },
  {
   "cell_type": "code",
   "execution_count": 19,
   "metadata": {},
   "outputs": [],
   "source": [
    "parameters = {\n",
    "    \"c_m\": 200 * pF,\n",
    "    \"g_l\": 10.*nS,\n",
    "    \"e_l\": -65.*mV,\n",
    "    \"v_t\": -55.*mV,\n",
    "    \"d_t\": 5.0*mV,\n",
    "    \"a\": 2.0 * nS,\n",
    "    \"tau_w\": 500.0*ms,\n",
    "    \"b\": 1*pA,\n",
    "    \"v_r\": -52*mV,\n",
    "    \"i_stim\": .120*nA,\n",
    "}"
   ]
  },
  {
   "cell_type": "markdown",
   "metadata": {},
   "source": [
    "Projection Neuron Type 4\n"
   ]
  },
  {
   "cell_type": "code",
   "execution_count": 20,
   "metadata": {},
   "outputs": [],
   "source": [
    "parameters = {\n",
    "    \"c_m\": 200 * pF,\n",
    "    \"g_l\": 10.*nS,\n",
    "    \"e_l\": -65.*mV,\n",
    "    \"v_t\": -55.*mV,\n",
    "    \"d_t\": 5.0*mV,\n",
    "    \"a\": 2.0 * nS,\n",
    "    \"tau_w\": 500.0*ms,\n",
    "    \"b\": 1*pA,\n",
    "    \"v_r\": -52*mV,\n",
    "    \"i_stim\": .120*nA,\n",
    "}"
   ]
  },
  {
   "cell_type": "markdown",
   "metadata": {},
   "source": [
    "Projection Neuron Type 5"
   ]
  },
  {
   "cell_type": "code",
   "execution_count": 21,
   "metadata": {},
   "outputs": [],
   "source": [
    "parameters = {\n",
    "    \"c_m\": 200 * pF,\n",
    "    \"g_l\": 10.*nS,\n",
    "    \"e_l\": -65.*mV,\n",
    "    \"v_t\": -55.*mV,\n",
    "    \"d_t\": 5.0*mV,\n",
    "    \"a\": 2.0 * nS,\n",
    "    \"tau_w\": 500.0*ms,\n",
    "    \"b\": 1*pA,\n",
    "    \"v_r\": -52*mV,\n",
    "    \"i_stim\": .120*nA,\n",
    "}"
   ]
  },
  {
   "cell_type": "markdown",
   "metadata": {},
   "source": [
    "Inter Neurones"
   ]
  },
  {
   "cell_type": "code",
   "execution_count": 22,
   "metadata": {},
   "outputs": [],
   "source": [
    "parameters = {\n",
    "    \"c_m\": 200 * pF,\n",
    "    \"g_l\": 10.*nS,\n",
    "    \"e_l\": -65.*mV,\n",
    "    \"v_t\": -55.*mV,\n",
    "    \"d_t\": 5.0*mV,\n",
    "    \"a\": 2.0 * nS,\n",
    "    \"tau_w\": 500.0*ms,\n",
    "    \"b\": 1*pA,\n",
    "    \"v_r\": -52*mV,\n",
    "    \"i_stim\": .120*nA,\n",
    "}"
   ]
  }
 ],
 "metadata": {
  "interpreter": {
   "hash": "aee8b7b246df8f9039afb4144a1f6fd8d2ca17a180786b69acc140d282b71a49"
  },
  "kernelspec": {
   "display_name": "Python 3.10.1 64-bit",
   "language": "python",
   "name": "python3"
  },
  "language_info": {
   "codemirror_mode": {
    "name": "ipython",
    "version": 3
   },
   "file_extension": ".py",
   "mimetype": "text/x-python",
   "name": "python",
   "nbconvert_exporter": "python",
   "pygments_lexer": "ipython3",
   "version": "3.10.1"
  },
  "orig_nbformat": 4
 },
 "nbformat": 4,
 "nbformat_minor": 2
}