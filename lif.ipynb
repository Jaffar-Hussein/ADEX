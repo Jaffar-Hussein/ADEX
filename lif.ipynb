{
 "cells": [
  {
   "cell_type": "markdown",
   "metadata": {},
   "source": [
    "# Leaky Integrate and Fire Model (LIF)"
   ]
  },
  {
   "cell_type": "markdown",
   "metadata": {},
   "source": [
    "This is a very simple model where we are going to simulate the spike of a neuron only variable we will consider is the voltage in respect to time\n",
    "\n",
    "```Cm dv/dt = I leak + I spike + I current ``` "
   ]
  },
  {
   "cell_type": "markdown",
   "metadata": {},
   "source": [
    "### Model of a Neurone at rest\n",
    "Here we consider that the neurone does not receive current Hence the voltage will decay towards the resting potential\n",
    "\n",
    "``` dv/dt = -1/tau (v(t)-Vo)```"
   ]
  },
  {
   "cell_type": "markdown",
   "metadata": {},
   "source": [
    "### Defining of the variables"
   ]
  },
  {
   "cell_type": "code",
   "execution_count": 14,
   "metadata": {},
   "outputs": [],
   "source": [
    "import matplotlib.pyplot as plt\n",
    "# An abitrary chosen voltage\n",
    "voltage = - 10\n",
    "# The times it takes to decay tau\n",
    "tau = 2.0\n",
    "# the change in time we are dividing a second into a 100 steps\n",
    "dt = 1.0/100\n",
    "# The resting membrane potentiel\n",
    "v_o = -60\n",
    "# The time we are going to start the simulation \n",
    "t = 0\n",
    "# The values of the voltage that changes are stored in a list for easy plotting\n",
    "voltages = []"
   ]
  },
  {
   "cell_type": "markdown",
   "metadata": {},
   "source": [
    "### Implimentation of the code"
   ]
  },
  {
   "cell_type": "code",
   "execution_count": 15,
   "metadata": {},
   "outputs": [],
   "source": [
    "while t < 10:\n",
    "    voltages.append(voltage)\n",
    "    \n",
    "    dv = -(voltage - v_o)/tau\n",
    "    \n",
    "    voltage += dv * dt\n",
    "    \n",
    "    t += dt\n",
    " "
   ]
  },
  {
   "cell_type": "markdown",
   "metadata": {},
   "source": [
    "### Plotting "
   ]
  },
  {
   "cell_type": "code",
   "execution_count": 16,
   "metadata": {},
   "outputs": [
    {
     "data": {
      "image/png": "[encoded data removed]",
      "text/plain": [
       "<Figure size 432x288 with 1 Axes>"
      ]
     },
     "metadata": {
      "needs_background": "light"
     },
     "output_type": "display_data"
    }
   ],
   "source": [
    "plt.plot(voltages)\n",
    "plt.ylabel('Voltages')\n",
    "plt.xlabel('Time')\n",
    "plt.show()\n"
   ]
  },
  {
   "cell_type": "markdown",
   "metadata": {},
   "source": [
    "## The plot above shows the exponential decay of the voltage in respect to time as there are no other external aditions of current and it is heading to its resting potential\n"
   ]
  }
 ],
 "metadata": {
  "interpreter": {
   "hash": "aee8b7b246df8f9039afb4144a1f6fd8d2ca17a180786b69acc140d282b71a49"
  },
  "kernelspec": {
   "display_name": "Python 3.10.1 64-bit",
   "language": "python",
   "name": "python3"
  },
  "language_info": {
   "codemirror_mode": {
    "name": "ipython",
    "version": 3
   },
   "file_extension": ".py",
   "mimetype": "text/x-python",
   "name": "python",
   "nbconvert_exporter": "python",
   "pygments_lexer": "ipython3",
   "version": "3.10.1"
  },
  "orig_nbformat": 4
 },
 "nbformat": 4,
 "nbformat_minor": 2
}
