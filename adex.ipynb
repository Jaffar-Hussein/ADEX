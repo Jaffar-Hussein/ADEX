{
 "cells": [
  {
   "cell_type": "markdown",
   "metadata": {},
   "source": [
    "# Adaptive Exponential Integrate and Fire Model\n"
   ]
  },
  {
   "cell_type": "code",
   "execution_count": 1,
   "metadata": {},
   "outputs": [],
   "source": [
    "from brian2 import *"
   ]
  },
  {
   "cell_type": "markdown",
   "metadata": {},
   "source": [
    "The two differential equaltions for the adaptive integrate model"
   ]
  },
  {
   "cell_type": "code",
   "execution_count": 2,
   "metadata": {},
   "outputs": [],
   "source": [
    "eqs = '''\n",
    "dv/dt = -v/(10*ms) : volt\n",
    "dvt/dt = (10*mV-vt)/(15*ms) : volt\n",
    "'''"
   ]
  },
  {
   "cell_type": "markdown",
   "metadata": {},
   "source": [
    "The reset values for the neurons\n"
   ]
  },
  {
   "cell_type": "code",
   "execution_count": 3,
   "metadata": {},
   "outputs": [],
   "source": [
    "reset = '''\n",
    "v = 0*mV\n",
    "vt += 3*mV\n",
    "'''"
   ]
  },
  {
   "cell_type": "markdown",
   "metadata": {},
   "source": [
    "My Neurone Groupe\n"
   ]
  },
  {
   "cell_type": "code",
   "execution_count": 4,
   "metadata": {},
   "outputs": [],
   "source": [
    "my_neurone_groupe = NeuronGroup(1,eqs,method=\"euler\",reset = reset,threshold='v>vt')\n",
    "my_neurone_groupe.vt = 10 *mV\n"
   ]
  },
  {
   "cell_type": "markdown",
   "metadata": {},
   "source": [
    "Poisson\n"
   ]
  },
  {
   "cell_type": "code",
   "execution_count": 5,
   "metadata": {},
   "outputs": [],
   "source": [
    "poisson_group_neurones = PoissonGroup(10, 500*Hz)\n"
   ]
  },
  {
   "cell_type": "markdown",
   "metadata": {},
   "source": [
    "Synaptic Connections"
   ]
  },
  {
   "cell_type": "code",
   "execution_count": 6,
   "metadata": {},
   "outputs": [
    {
     "name": "stderr",
     "output_type": "stream",
     "text": [
      "WARNING    Removing unsupported flag '-march=native' from compiler flags. [brian2.codegen.cpp_prefs]\n"
     ]
    }
   ],
   "source": [
    "synaptic_connections = Synapses(\n",
    "    poisson_group_neurones, my_neurone_groupe, on_pre='v+=3*mV')\n",
    "synaptic_connections.connect()\n"
   ]
  },
  {
   "cell_type": "markdown",
   "metadata": {},
   "source": []
  },
  {
   "cell_type": "code",
   "execution_count": 7,
   "metadata": {},
   "outputs": [],
   "source": [
    "mV = StateMonitor(my_neurone_groupe,'v',record=True)\n",
    "MvT = StateMonitor(my_neurone_groupe,'vt',record=True)"
   ]
  },
  {
   "cell_type": "code",
   "execution_count": 8,
   "metadata": {},
   "outputs": [
    {
     "name": "stdout",
     "output_type": "stream",
     "text": [
      "Starting simulation at t=0. s for a duration of 2. s\n",
      "2. s (100%) simulated in < 1s\n"
     ]
    }
   ],
   "source": [
    "My_Spike_Monitor = SpikeMonitor(my_neurone_groupe,variables='v')\n",
    "run(2*second,report='text')"
   ]
  },
  {
   "cell_type": "markdown",
   "metadata": {},
   "source": [
    "Plotting"
   ]
  },
  {
   "cell_type": "code",
   "execution_count": 10,
   "metadata": {},
   "outputs": [
    {
     "ename": "TypeError",
     "evalue": "Object of type <class 'brian2.monitors.statemonitor.StateMonitor'> does not have dimensions",
     "output_type": "error",
     "traceback": [
      "\u001b[0;31m---------------------------------------------------------------------------\u001b[0m",
      "\u001b[0;31mKeyError\u001b[0m                                  Traceback (most recent call last)",
      "File \u001b[0;32m/Library/Frameworks/Python.framework/Versions/3.10/lib/python3.10/site-packages/brian2/groups/group.py:351\u001b[0m, in \u001b[0;36mVariableOwner.state\u001b[0;34m(self, name, use_units, level)\u001b[0m\n\u001b[1;32m    <a href='file:///Library/Frameworks/Python.framework/Versions/3.10/lib/python3.10/site-packages/brian2/groups/group.py?line=349'>350</a>\u001b[0m \u001b[39mtry\u001b[39;00m:\n\u001b[0;32m--> <a href='file:///Library/Frameworks/Python.framework/Versions/3.10/lib/python3.10/site-packages/brian2/groups/group.py?line=350'>351</a>\u001b[0m     var \u001b[39m=\u001b[39m \u001b[39mself\u001b[39;49m\u001b[39m.\u001b[39;49mvariables[name]\n\u001b[1;32m    <a href='file:///Library/Frameworks/Python.framework/Versions/3.10/lib/python3.10/site-packages/brian2/groups/group.py?line=351'>352</a>\u001b[0m \u001b[39mexcept\u001b[39;00m \u001b[39mKeyError\u001b[39;00m \u001b[39mas\u001b[39;00m exc:\n",
      "File \u001b[0;32m/Library/Frameworks/Python.framework/Versions/3.10/lib/python3.10/site-packages/brian2/core/variables.py:1440\u001b[0m, in \u001b[0;36mVariables.__getitem__\u001b[0;34m(self, item)\u001b[0m\n\u001b[1;32m   <a href='file:///Library/Frameworks/Python.framework/Versions/3.10/lib/python3.10/site-packages/brian2/core/variables.py?line=1438'>1439</a>\u001b[0m \u001b[39mdef\u001b[39;00m \u001b[39m__getitem__\u001b[39m(\u001b[39mself\u001b[39m, item):\n\u001b[0;32m-> <a href='file:///Library/Frameworks/Python.framework/Versions/3.10/lib/python3.10/site-packages/brian2/core/variables.py?line=1439'>1440</a>\u001b[0m     \u001b[39mreturn\u001b[39;00m \u001b[39mself\u001b[39;49m\u001b[39m.\u001b[39;49m_variables[item]\n",
      "\u001b[0;31mKeyError\u001b[0m: 'dim'",
      "\nThe above exception was the direct cause of the following exception:\n",
      "\u001b[0;31mKeyError\u001b[0m                                  Traceback (most recent call last)",
      "File \u001b[0;32m/Library/Frameworks/Python.framework/Versions/3.10/lib/python3.10/site-packages/brian2/groups/group.py:387\u001b[0m, in \u001b[0;36mVariableOwner.__getattr__\u001b[0;34m(self, name)\u001b[0m\n\u001b[1;32m    <a href='file:///Library/Frameworks/Python.framework/Versions/3.10/lib/python3.10/site-packages/brian2/groups/group.py?line=385'>386</a>\u001b[0m         use_units \u001b[39m=\u001b[39m \u001b[39mTrue\u001b[39;00m\n\u001b[0;32m--> <a href='file:///Library/Frameworks/Python.framework/Versions/3.10/lib/python3.10/site-packages/brian2/groups/group.py?line=386'>387</a>\u001b[0m     \u001b[39mreturn\u001b[39;00m \u001b[39mself\u001b[39;49m\u001b[39m.\u001b[39;49mstate(name, use_units)\n\u001b[1;32m    <a href='file:///Library/Frameworks/Python.framework/Versions/3.10/lib/python3.10/site-packages/brian2/groups/group.py?line=388'>389</a>\u001b[0m \u001b[39mexcept\u001b[39;00m \u001b[39mKeyError\u001b[39;00m:\n",
      "File \u001b[0;32m/Library/Frameworks/Python.framework/Versions/3.10/lib/python3.10/site-packages/brian2/groups/group.py:353\u001b[0m, in \u001b[0;36mVariableOwner.state\u001b[0;34m(self, name, use_units, level)\u001b[0m\n\u001b[1;32m    <a href='file:///Library/Frameworks/Python.framework/Versions/3.10/lib/python3.10/site-packages/brian2/groups/group.py?line=351'>352</a>\u001b[0m \u001b[39mexcept\u001b[39;00m \u001b[39mKeyError\u001b[39;00m \u001b[39mas\u001b[39;00m exc:\n\u001b[0;32m--> <a href='file:///Library/Frameworks/Python.framework/Versions/3.10/lib/python3.10/site-packages/brian2/groups/group.py?line=352'>353</a>\u001b[0m     \u001b[39mraise\u001b[39;00m \u001b[39mKeyError\u001b[39;00m(\u001b[39mf\u001b[39m\u001b[39m\"\u001b[39m\u001b[39mState variable \u001b[39m\u001b[39m{\u001b[39;00mname\u001b[39m}\u001b[39;00m\u001b[39m not found.\u001b[39m\u001b[39m\"\u001b[39m) \u001b[39mfrom\u001b[39;00m \u001b[39mexc\u001b[39;00m\n\u001b[1;32m    <a href='file:///Library/Frameworks/Python.framework/Versions/3.10/lib/python3.10/site-packages/brian2/groups/group.py?line=354'>355</a>\u001b[0m \u001b[39mif\u001b[39;00m use_units:\n",
      "\u001b[0;31mKeyError\u001b[0m: 'State variable dim not found.'",
      "\nDuring handling of the above exception, another exception occurred:\n",
      "\u001b[0;31mAttributeError\u001b[0m                            Traceback (most recent call last)",
      "File \u001b[0;32m/Library/Frameworks/Python.framework/Versions/3.10/lib/python3.10/site-packages/brian2/units/fundamentalunits.py:646\u001b[0m, in \u001b[0;36mget_dimensions\u001b[0;34m(obj)\u001b[0m\n\u001b[1;32m    <a href='file:///Library/Frameworks/Python.framework/Versions/3.10/lib/python3.10/site-packages/brian2/units/fundamentalunits.py?line=644'>645</a>\u001b[0m \u001b[39mtry\u001b[39;00m:\n\u001b[0;32m--> <a href='file:///Library/Frameworks/Python.framework/Versions/3.10/lib/python3.10/site-packages/brian2/units/fundamentalunits.py?line=645'>646</a>\u001b[0m     \u001b[39mreturn\u001b[39;00m obj\u001b[39m.\u001b[39;49mdim\n\u001b[1;32m    <a href='file:///Library/Frameworks/Python.framework/Versions/3.10/lib/python3.10/site-packages/brian2/units/fundamentalunits.py?line=646'>647</a>\u001b[0m \u001b[39mexcept\u001b[39;00m \u001b[39mAttributeError\u001b[39;00m:\n\u001b[1;32m    <a href='file:///Library/Frameworks/Python.framework/Versions/3.10/lib/python3.10/site-packages/brian2/units/fundamentalunits.py?line=647'>648</a>\u001b[0m     \u001b[39m# The following is not very pretty, but it will avoid the costly\u001b[39;00m\n\u001b[1;32m    <a href='file:///Library/Frameworks/Python.framework/Versions/3.10/lib/python3.10/site-packages/brian2/units/fundamentalunits.py?line=648'>649</a>\u001b[0m     \u001b[39m# isinstance check for the common types\u001b[39;00m\n",
      "File \u001b[0;32m/Library/Frameworks/Python.framework/Versions/3.10/lib/python3.10/site-packages/brian2/monitors/statemonitor.py:324\u001b[0m, in \u001b[0;36mStateMonitor.__getattr__\u001b[0;34m(self, item)\u001b[0m\n\u001b[1;32m    <a href='file:///Library/Frameworks/Python.framework/Versions/3.10/lib/python3.10/site-packages/brian2/monitors/statemonitor.py?line=322'>323</a>\u001b[0m \u001b[39melse\u001b[39;00m:\n\u001b[0;32m--> <a href='file:///Library/Frameworks/Python.framework/Versions/3.10/lib/python3.10/site-packages/brian2/monitors/statemonitor.py?line=323'>324</a>\u001b[0m     \u001b[39mreturn\u001b[39;00m Group\u001b[39m.\u001b[39;49m\u001b[39m__getattr__\u001b[39;49m(\u001b[39mself\u001b[39;49m, item)\n",
      "File \u001b[0;32m/Library/Frameworks/Python.framework/Versions/3.10/lib/python3.10/site-packages/brian2/groups/group.py:390\u001b[0m, in \u001b[0;36mVariableOwner.__getattr__\u001b[0;34m(self, name)\u001b[0m\n\u001b[1;32m    <a href='file:///Library/Frameworks/Python.framework/Versions/3.10/lib/python3.10/site-packages/brian2/groups/group.py?line=388'>389</a>\u001b[0m \u001b[39mexcept\u001b[39;00m \u001b[39mKeyError\u001b[39;00m:\n\u001b[0;32m--> <a href='file:///Library/Frameworks/Python.framework/Versions/3.10/lib/python3.10/site-packages/brian2/groups/group.py?line=389'>390</a>\u001b[0m     \u001b[39mraise\u001b[39;00m \u001b[39mAttributeError\u001b[39;00m(\u001b[39mf\u001b[39m\u001b[39m\"\u001b[39m\u001b[39mNo attribute with name \u001b[39m\u001b[39m{\u001b[39;00mname\u001b[39m}\u001b[39;00m\u001b[39m\"\u001b[39m)\n",
      "\u001b[0;31mAttributeError\u001b[0m: No attribute with name dim",
      "\nDuring handling of the above exception, another exception occurred:\n",
      "\u001b[0;31mTypeError\u001b[0m                                 Traceback (most recent call last)",
      "File \u001b[0;32m/Library/Frameworks/Python.framework/Versions/3.10/lib/python3.10/site-packages/brian2/units/fundamentalunits.py:655\u001b[0m, in \u001b[0;36mget_dimensions\u001b[0;34m(obj)\u001b[0m\n\u001b[1;32m    <a href='file:///Library/Frameworks/Python.framework/Versions/3.10/lib/python3.10/site-packages/brian2/units/fundamentalunits.py?line=653'>654</a>\u001b[0m \u001b[39mtry\u001b[39;00m:\n\u001b[0;32m--> <a href='file:///Library/Frameworks/Python.framework/Versions/3.10/lib/python3.10/site-packages/brian2/units/fundamentalunits.py?line=654'>655</a>\u001b[0m     \u001b[39mreturn\u001b[39;00m Quantity(obj)\u001b[39m.\u001b[39mdim\n\u001b[1;32m    <a href='file:///Library/Frameworks/Python.framework/Versions/3.10/lib/python3.10/site-packages/brian2/units/fundamentalunits.py?line=655'>656</a>\u001b[0m \u001b[39mexcept\u001b[39;00m \u001b[39mTypeError\u001b[39;00m:\n",
      "File \u001b[0;32m/Library/Frameworks/Python.framework/Versions/3.10/lib/python3.10/site-packages/brian2/units/fundamentalunits.py:924\u001b[0m, in \u001b[0;36mQuantity.__new__\u001b[0;34m(cls, arr, dim, dtype, copy, force_quantity)\u001b[0m\n\u001b[1;32m    <a href='file:///Library/Frameworks/Python.framework/Versions/3.10/lib/python3.10/site-packages/brian2/units/fundamentalunits.py?line=921'>922</a>\u001b[0m \u001b[39mif\u001b[39;00m \u001b[39mnot\u001b[39;00m np\u001b[39m.\u001b[39missubclass_(np\u001b[39m.\u001b[39mdtype(subarr\u001b[39m.\u001b[39mdtype)\u001b[39m.\u001b[39mtype,\n\u001b[1;32m    <a href='file:///Library/Frameworks/Python.framework/Versions/3.10/lib/python3.10/site-packages/brian2/units/fundamentalunits.py?line=922'>923</a>\u001b[0m                       (np\u001b[39m.\u001b[39mnumber, np\u001b[39m.\u001b[39mbool_)):\n\u001b[0;32m--> <a href='file:///Library/Frameworks/Python.framework/Versions/3.10/lib/python3.10/site-packages/brian2/units/fundamentalunits.py?line=923'>924</a>\u001b[0m     \u001b[39mraise\u001b[39;00m \u001b[39mTypeError\u001b[39;00m(\u001b[39m\"\u001b[39m\u001b[39mQuantities can only be created from numerical data.\u001b[39m\u001b[39m\"\u001b[39m)\n\u001b[1;32m    <a href='file:///Library/Frameworks/Python.framework/Versions/3.10/lib/python3.10/site-packages/brian2/units/fundamentalunits.py?line=925'>926</a>\u001b[0m \u001b[39m# If a dimension is given, force this dimension\u001b[39;00m\n",
      "\u001b[0;31mTypeError\u001b[0m: Quantities can only be created from numerical data.",
      "\nDuring handling of the above exception, another exception occurred:\n",
      "\u001b[0;31mTypeError\u001b[0m                                 Traceback (most recent call last)",
      "\u001b[1;32m/Users/jaffarhussein/Desktop/NeuroPSI/Adex_Trial/adex.ipynb Cell 17'\u001b[0m in \u001b[0;36m<module>\u001b[0;34m\u001b[0m\n\u001b[1;32m      <a href='vscode-notebook-cell:/Users/jaffarhussein/Desktop/NeuroPSI/Adex_Trial/adex.ipynb#ch0000021?line=0'>1</a>\u001b[0m subplot(\u001b[39m1\u001b[39m,\u001b[39m2\u001b[39m,\u001b[39m1\u001b[39m)\n\u001b[0;32m----> <a href='vscode-notebook-cell:/Users/jaffarhussein/Desktop/NeuroPSI/Adex_Trial/adex.ipynb#ch0000021?line=1'>2</a>\u001b[0m plot(mV\u001b[39m.\u001b[39mt\u001b[39m/\u001b[39mms,mV[\u001b[39m0\u001b[39;49m]\u001b[39m.\u001b[39;49mv\u001b[39m/\u001b[39;49mmV)\n\u001b[1;32m      <a href='vscode-notebook-cell:/Users/jaffarhussein/Desktop/NeuroPSI/Adex_Trial/adex.ipynb#ch0000021?line=2'>3</a>\u001b[0m plot(MvT\u001b[39m.\u001b[39mt\u001b[39m/\u001b[39mms,MvT[\u001b[39m0\u001b[39m]\u001b[39m.\u001b[39mvt\u001b[39m/\u001b[39mmV)\n\u001b[1;32m      <a href='vscode-notebook-cell:/Users/jaffarhussein/Desktop/NeuroPSI/Adex_Trial/adex.ipynb#ch0000021?line=3'>4</a>\u001b[0m ylabel(\u001b[39m'\u001b[39m\u001b[39mvoltage (mV)\u001b[39m\u001b[39m'\u001b[39m)\n",
      "File \u001b[0;32m/Library/Frameworks/Python.framework/Versions/3.10/lib/python3.10/site-packages/brian2/units/fundamentalunits.py:1397\u001b[0m, in \u001b[0;36mQuantity.__truediv__\u001b[0;34m(self, other)\u001b[0m\n\u001b[1;32m   <a href='file:///Library/Frameworks/Python.framework/Versions/3.10/lib/python3.10/site-packages/brian2/units/fundamentalunits.py?line=1395'>1396</a>\u001b[0m \u001b[39mdef\u001b[39;00m \u001b[39m__truediv__\u001b[39m(\u001b[39mself\u001b[39m, other):\n\u001b[0;32m-> <a href='file:///Library/Frameworks/Python.framework/Versions/3.10/lib/python3.10/site-packages/brian2/units/fundamentalunits.py?line=1396'>1397</a>\u001b[0m     \u001b[39mreturn\u001b[39;00m \u001b[39mself\u001b[39;49m\u001b[39m.\u001b[39;49m__div__(other)\n",
      "File \u001b[0;32m/Library/Frameworks/Python.framework/Versions/3.10/lib/python3.10/site-packages/brian2/units/fundamentalunits.py:1394\u001b[0m, in \u001b[0;36mQuantity.__div__\u001b[0;34m(self, other)\u001b[0m\n\u001b[1;32m   <a href='file:///Library/Frameworks/Python.framework/Versions/3.10/lib/python3.10/site-packages/brian2/units/fundamentalunits.py?line=1392'>1393</a>\u001b[0m \u001b[39mdef\u001b[39;00m \u001b[39m__div__\u001b[39m(\u001b[39mself\u001b[39m, other):\n\u001b[0;32m-> <a href='file:///Library/Frameworks/Python.framework/Versions/3.10/lib/python3.10/site-packages/brian2/units/fundamentalunits.py?line=1393'>1394</a>\u001b[0m     \u001b[39mreturn\u001b[39;00m \u001b[39mself\u001b[39;49m\u001b[39m.\u001b[39;49m_binary_operation(other, operator\u001b[39m.\u001b[39;49mtruediv, operator\u001b[39m.\u001b[39;49mtruediv)\n",
      "File \u001b[0;32m/Library/Frameworks/Python.framework/Versions/3.10/lib/python3.10/site-packages/brian2/units/fundamentalunits.py:1366\u001b[0m, in \u001b[0;36mQuantity._binary_operation\u001b[0;34m(self, other, operation, dim_operation, fail_for_mismatch, operator_str, inplace)\u001b[0m\n\u001b[1;32m   <a href='file:///Library/Frameworks/Python.framework/Versions/3.10/lib/python3.10/site-packages/brian2/units/fundamentalunits.py?line=1360'>1361</a>\u001b[0m         _, other_dim \u001b[39m=\u001b[39m fail_for_dimension_mismatch(\u001b[39mself\u001b[39m, other, message,\n\u001b[1;32m   <a href='file:///Library/Frameworks/Python.framework/Versions/3.10/lib/python3.10/site-packages/brian2/units/fundamentalunits.py?line=1361'>1362</a>\u001b[0m                                                    value1\u001b[39m=\u001b[39m\u001b[39mself\u001b[39m,\n\u001b[1;32m   <a href='file:///Library/Frameworks/Python.framework/Versions/3.10/lib/python3.10/site-packages/brian2/units/fundamentalunits.py?line=1362'>1363</a>\u001b[0m                                                    value2\u001b[39m=\u001b[39mother)\n\u001b[1;32m   <a href='file:///Library/Frameworks/Python.framework/Versions/3.10/lib/python3.10/site-packages/brian2/units/fundamentalunits.py?line=1364'>1365</a>\u001b[0m \u001b[39mif\u001b[39;00m other_dim \u001b[39mis\u001b[39;00m \u001b[39mNone\u001b[39;00m:\n\u001b[0;32m-> <a href='file:///Library/Frameworks/Python.framework/Versions/3.10/lib/python3.10/site-packages/brian2/units/fundamentalunits.py?line=1365'>1366</a>\u001b[0m     other_dim \u001b[39m=\u001b[39m get_dimensions(other)\n\u001b[1;32m   <a href='file:///Library/Frameworks/Python.framework/Versions/3.10/lib/python3.10/site-packages/brian2/units/fundamentalunits.py?line=1367'>1368</a>\u001b[0m \u001b[39mif\u001b[39;00m inplace:\n\u001b[1;32m   <a href='file:///Library/Frameworks/Python.framework/Versions/3.10/lib/python3.10/site-packages/brian2/units/fundamentalunits.py?line=1368'>1369</a>\u001b[0m     \u001b[39mif\u001b[39;00m \u001b[39mself\u001b[39m\u001b[39m.\u001b[39mshape \u001b[39m==\u001b[39m ():\n",
      "File \u001b[0;32m/Library/Frameworks/Python.framework/Versions/3.10/lib/python3.10/site-packages/brian2/units/fundamentalunits.py:657\u001b[0m, in \u001b[0;36mget_dimensions\u001b[0;34m(obj)\u001b[0m\n\u001b[1;32m    <a href='file:///Library/Frameworks/Python.framework/Versions/3.10/lib/python3.10/site-packages/brian2/units/fundamentalunits.py?line=654'>655</a>\u001b[0m     \u001b[39mreturn\u001b[39;00m Quantity(obj)\u001b[39m.\u001b[39mdim\n\u001b[1;32m    <a href='file:///Library/Frameworks/Python.framework/Versions/3.10/lib/python3.10/site-packages/brian2/units/fundamentalunits.py?line=655'>656</a>\u001b[0m \u001b[39mexcept\u001b[39;00m \u001b[39mTypeError\u001b[39;00m:\n\u001b[0;32m--> <a href='file:///Library/Frameworks/Python.framework/Versions/3.10/lib/python3.10/site-packages/brian2/units/fundamentalunits.py?line=656'>657</a>\u001b[0m     \u001b[39mraise\u001b[39;00m \u001b[39mTypeError\u001b[39;00m(\u001b[39mf\u001b[39m\u001b[39m'\u001b[39m\u001b[39mObject of type \u001b[39m\u001b[39m{\u001b[39;00m\u001b[39mtype\u001b[39m(obj)\u001b[39m}\u001b[39;00m\u001b[39m does not have dimensions\u001b[39m\u001b[39m'\u001b[39m)\n",
      "\u001b[0;31mTypeError\u001b[0m: Object of type <class 'brian2.monitors.statemonitor.StateMonitor'> does not have dimensions"
     ]
    },
    {
     "data": {
      "image/png": "[encoded data removed]",
      "text/plain": [
       "<Figure size 432x288 with 1 Axes>"
      ]
     },
     "metadata": {
      "needs_background": "light"
     },
     "output_type": "display_data"
    }
   ],
   "source": [
    "subplot(1,2,1)\n",
    "plot(mV.t/ms,mV[0].v/mV)\n",
    "plot(MvT.t/ms,MvT[0].vt/mV)\n",
    "ylabel('voltage (mV)')\n",
    "xlabel('time (ms)')\n",
    "\n"
   ]
  },
  {
   "cell_type": "markdown",
   "metadata": {},
   "source": [
    "First 100ms\n"
   ]
  },
  {
   "cell_type": "code",
   "execution_count": null,
   "metadata": {},
   "outputs": [],
   "source": [
    "xlim(0,100)\n",
    "subplot(1,2,2)\n",
    "hist(My_Spike_Monitor.v/mV,bins=np.arange(10,20,0.5))\n",
    "xlabel('v at threshold crossing')\n",
    "show()"
   ]
  }
 ],
 "metadata": {
  "interpreter": {
   "hash": "aee8b7b246df8f9039afb4144a1f6fd8d2ca17a180786b69acc140d282b71a49"
  },
  "kernelspec": {
   "display_name": "Python 3.10.1 64-bit",
   "language": "python",
   "name": "python3"
  },
  "language_info": {
   "codemirror_mode": {
    "name": "ipython",
    "version": 3
   },
   "file_extension": ".py",
   "mimetype": "text/x-python",
   "name": "python",
   "nbconvert_exporter": "python",
   "pygments_lexer": "ipython3",
   "version": "3.10.1"
  },
  "orig_nbformat": 4
 },
 "nbformat": 4,
 "nbformat_minor": 2
}
